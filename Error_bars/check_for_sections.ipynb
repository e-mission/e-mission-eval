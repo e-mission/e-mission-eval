{
 "cells": [
  {
   "cell_type": "markdown",
   "metadata": {},
   "source": [
    "# This notebook checks whether we've added section_modes and section_distances to all confirmed trips in the database"
   ]
  },
  {
   "cell_type": "code",
   "execution_count": null,
   "metadata": {},
   "outputs": [],
   "source": [
    "import sys\n",
    "import time\n",
    "import pandas as pd\n",
    "from turtle import update\n",
    "sys.path.insert(0,\"/Users/mallen2/alternate_branches/eval-compatible-server/e-mission-server\") \n",
    "#input(\"Enter your path to the emission server: \") )   # maybe I could try an emission import and then do this as a catch?\n",
    "import emission.storage.decorations.trip_queries as esdtq\n",
    "import emission.storage.timeseries.abstract_timeseries as esta\n",
    "import emission.storage.timeseries.builtin_timeseries as estbt\n",
    "import emission.core.wrapper.entry as ecwe\n",
    "import emission.core.get_database as edb\n",
    "\n",
    "start = 227"
   ]
  },
  {
   "cell_type": "code",
   "execution_count": null,
   "metadata": {},
   "outputs": [],
   "source": [
    "print(\"Fetching user ids.\")\n",
    "user_list = []\n",
    "# This info is in the Stage_uuids collection of the database\n",
    "for u in edb.get_uuid_db().find():         # add users to proper locations in programs \n",
    "    uuid = u[\"uuid\"]\n",
    "    # Append the user to the list.\n",
    "    user_list.append(uuid)\n",
    "\n",
    "gis_sensed_modes = {0 : 'no_sensed',    # UNKNOWN  #NOTE: this is important info to mention.\n",
    "    1 : 'walking',    # WALKING\n",
    "    2 : 'bicycling',    # BICYCLING\n",
    "    3 : 'bus',        # BUS\n",
    "    4 : 'train',      # TRAIN\n",
    "    5 : 'car',        # CAR\n",
    "    6 : 'air_or_hsr', # AIR_OR_HSR\n",
    "    7 : 'subway',      # SUBWAY\n",
    "    8 : 'train',      # TRAM\n",
    "    9 : 'train',      # LIGHT_RAIL\n",
    "}\n",
    "\n",
    "print(\"Fetching confirmed trips for each user.\")\n",
    "t1 = time.time()\n",
    "t_first = time.time()\n",
    "confirmed_trip_df_map = {}\n",
    "i = start\n",
    "n_missing = 0\n",
    "for u in user_list[start:]:\n",
    "    ts = esta.TimeSeries.get_time_series(u)\n",
    "    result_it = ts.find_entries([\"analysis/confirmed_trip\"],time_query = None, geo_query = None,\n",
    "                extra_query_list=None)\n",
    "    # ct_df = ts.get_data_df(\"analysis/confirmed_trip\")\n",
    "    # get list of sections.\n",
    "    # get list of trips.\n",
    "    # if they have the same, then merge.\n",
    "    for ct in result_it:\n",
    "        # Only query and update if we need to.\n",
    "        if not set(['section_modes', 'section_distances']).issubset(ct['data'].keys()):\n",
    "            print(f\"Participant {i} doesn't have section info yet.\")\n",
    "            n_missing += 1\n",
    "            break\n",
    "        print(ct['data']['section_modes'])\n",
    "        \n",
    "    print(f\"{i} df found and updated in {time.time()-t_first} seconds.\")\n",
    "    i += 1\n",
    "print(f\"Fetching trips took {time.time()-t1} seconds.\")\n",
    "print(f\"{n_missing} participants need sections found.\")"
   ]
  }
 ],
 "metadata": {
  "kernelspec": {
   "display_name": "Python 3.7.12 ('emission-private-eval')",
   "language": "python",
   "name": "python3"
  },
  "language_info": {
   "codemirror_mode": {
    "name": "ipython",
    "version": 3
   },
   "file_extension": ".py",
   "mimetype": "text/x-python",
   "name": "python",
   "nbconvert_exporter": "python",
   "pygments_lexer": "ipython3",
   "version": "3.7.12"
  },
  "orig_nbformat": 4,
  "vscode": {
   "interpreter": {
    "hash": "73ac5b45931ab4dd3f8e07a8d0e5daf0146eed4821bf42374f6ac6fa4af28c83"
   }
  }
 },
 "nbformat": 4,
 "nbformat_minor": 2
}
