{
 "cells": [
  {
   "cell_type": "code",
   "execution_count": null,
   "metadata": {},
   "outputs": [],
   "source": [
    "all_users = esta.TimeSeries.get_uuid_list()\n",
    "confirmed_trip_df_map = {}\n",
    "labeled_trip_df_map = {}\n",
    "expanded_labeled_trip_df_map = {}\n",
    "expanded_all_trip_df_map = {}\n",
    "for u in all_users:\n",
    "    ts = esta.TimeSeries.get_time_series(u)\n",
    "    ct_df = ts.get_data_df(\"analysis/confirmed_trip\")\n",
    "\n",
    "    confirmed_trip_df_map[u] = ct_df\n",
    "    labeled_trip_df_map[u] = esdtq.filter_labeled_trips(ct_df)\n",
    "    expanded_labeled_trip_df_map[u] = esdtq.expand_userinputs(\n",
    "        labeled_trip_df_map[u])\n",
    "    expanded_all_trip_df_map[u] = esdtq.expand_userinputs(\n",
    "        confirmed_trip_df_map[u])"
   ]
  },
  {
   "cell_type": "code",
   "execution_count": null,
   "metadata": {},
   "outputs": [],
   "source": [
    "# load in all runs\n",
    "model_names = list(PREDICTORS.keys())\n",
    "cv_results = cv_for_all_algs(\n",
    "    uuid_list=all_users,\n",
    "    expanded_trip_df_map=expanded_labeled_trip_df_map,\n",
    "    model_names=model_names,\n",
    "    override_prior_runs=False,\n",
    "    raise_errors=False,\n",
    "    random_state=42,\n",
    ")"
   ]
  },
  {
   "cell_type": "code",
   "execution_count": null,
   "metadata": {},
   "outputs": [],
   "source": [
    "trip_df = cv_results['random forests (coordinates)']\n",
    "label_type = 'mode'\n",
    "weight = 'count'\n",
    "keep_nopred = True\n",
    "ignore_custom = False\n",
    "\n",
    "results = get_clf_metrics(trip_df, label_type, weight, keep_nopred,\n",
    "                              ignore_custom)\n",
    "cm_df = pd.DataFrame(data = results['cm'], index= results['labels'], columns = results['labels'])"
   ]
  },
  {
   "cell_type": "code",
   "execution_count": null,
   "metadata": {},
   "outputs": [],
   "source": [
    "cm_df = cm_df.drop([\"combination_football game, dinner, drove friend home\",\"air\"],axis = 0)\n",
    "cm_df = cm_df.drop([\"combination_football game, dinner, drove friend home\",\"air\"],axis = 1)"
   ]
  }
 ],
 "metadata": {
  "kernelspec": {
   "display_name": "Python 3.8.9 64-bit",
   "language": "python",
   "name": "python3"
  },
  "language_info": {
   "name": "python",
   "version": "3.8.9"
  },
  "orig_nbformat": 4,
  "vscode": {
   "interpreter": {
    "hash": "31f2aee4e71d21fbe5cf8b01ff0e069b9275f58929596ceb00d14d90e3e16cd6"
   }
  }
 },
 "nbformat": 4,
 "nbformat_minor": 2
}
