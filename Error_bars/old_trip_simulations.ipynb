{
 "cells": [
  {
   "cell_type": "code",
   "execution_count": 1,
   "metadata": {},
   "outputs": [],
   "source": [
    "%load_ext autoreload\n",
    "%autoreload 2\n",
    "\n",
    "import pandas as pd\n",
    "import numpy as np\n",
    "from uuid import UUID\n",
    "\n",
    "import matplotlib.pyplot as plt\n",
    "\n",
    "import sys\n",
    "sys.path.append('/Users/mallen2/alternate_branches/gis-with-build-label-model/e-mission-server')\n",
    "\n",
    "import confusion_matrix_handling as cm_handling"
   ]
  },
  {
   "cell_type": "code",
   "execution_count": 2,
   "metadata": {},
   "outputs": [
    {
     "name": "stdout",
     "output_type": "stream",
     "text": [
      "0.3495174399999996\n",
      "v_ebike = 0.34951743999999996\n",
      "15.66 39.30800000000001 1.2649110640673527\n"
     ]
    }
   ],
   "source": [
    "### Run a simulation to see whether the trip level variance propagation method is systematically biased by number of predictions in each category.\n",
    "# Assume 4 trips, with each being 10 miles. \n",
    "# If by chance they actually were car ebike ebike ebike, but we predicted car car car ebike, does our variance account for that?\n",
    "    # it seems like it does if you group together the distances in each mode first. \n",
    "\n",
    "EI_values = np.array([1.5,0.022]) # car, ebike\n",
    "p_mode_given_predict_car = np.array([0.8, 0.2])\n",
    "p_mode_given_predict_ebike = np.array([0.2,0.8]) \n",
    "\n",
    "car_expected_EI = cm_handling.expectation(p_mode_given_predict_car,EI_values)\n",
    "car_E2 = cm_handling.expectation(p_mode_given_predict_car,EI_values**2)\n",
    "V_car = car_E2 - car_expected_EI**2\n",
    "print(V_car)\n",
    "\n",
    "ebike_expected_EI = cm_handling.expectation(p_mode_given_predict_ebike,EI_values)\n",
    "ebike_E2 = cm_handling.expectation(p_mode_given_predict_ebike,EI_values**2)\n",
    "V_ebike = ebike_E2 - ebike_expected_EI**2\n",
    "print(f\"v_ebike = {V_ebike}\")\n",
    "\n",
    "actual_EC_total = 10*(EI_values[0] + 3* EI_values[1])  # 1 car, 3 ebikes\n",
    "expected_EC_total = 10*(3*car_expected_EI + ebike_expected_EI) # predict 3 car, 1 ebike\n",
    "\n",
    "EC_total_var = 30**2*V_car + 10**2*V_ebike\n",
    "agg_sd = np.sqrt(EC_total_var)\n",
    "\n",
    "print(actual_EC_total,expected_EC_total,(expected_EC_total - actual_EC_total)/agg_sd)"
   ]
  },
  {
   "cell_type": "code",
   "execution_count": 3,
   "metadata": {},
   "outputs": [
    {
     "name": "stdout",
     "output_type": "stream",
     "text": [
      "30 car trips, 70 ebike trips\n",
      "With aggregate distance:\n",
      "\tsd aggregate: 423.4. Number of standard deviations from mean: 0.5\n",
      "With individual distance:\n",
      "\tsd aggregate: 59.1. Number of standard deviations from mean: 3.8\n",
      "40 car trips, 60 ebike trips\n",
      "With aggregate distance:\n",
      "\tsd aggregate: 423.4. Number of standard deviations from mean: 0.2\n",
      "With individual distance:\n",
      "\tsd aggregate: 59.1. Number of standard deviations from mean: 1.3\n",
      "50 car trips, 50 ebike trips\n",
      "With aggregate distance:\n",
      "\tsd aggregate: 418.4. Number of standard deviations from mean: -0.0\n",
      "With individual distance:\n",
      "\tsd aggregate: 59.1. Number of standard deviations from mean: -0.3\n",
      "60 car trips, 40 ebike trips\n",
      "With aggregate distance:\n",
      "\tsd aggregate: 420.1. Number of standard deviations from mean: -0.2\n",
      "With individual distance:\n",
      "\tsd aggregate: 59.1. Number of standard deviations from mean: -1.7\n",
      "70 car trips, 30 ebike trips\n",
      "With aggregate distance:\n",
      "\tsd aggregate: 423.4. Number of standard deviations from mean: -0.5\n",
      "With individual distance:\n",
      "\tsd aggregate: 59.1. Number of standard deviations from mean: -3.8\n",
      "80 car trips, 20 ebike trips\n",
      "With aggregate distance:\n",
      "\tsd aggregate: 426.3. Number of standard deviations from mean: -0.8\n",
      "With individual distance:\n",
      "\tsd aggregate: 59.1. Number of standard deviations from mean: -6.0\n",
      "90 car trips, 10 ebike trips\n",
      "With aggregate distance:\n",
      "\tsd aggregate: 431.9. Number of standard deviations from mean: -1.1\n",
      "With individual distance:\n",
      "\tsd aggregate: 59.1. Number of standard deviations from mean: -8.1\n"
     ]
    }
   ],
   "source": [
    "def trip_simulator(n_car, n_ebike, trip_distance):\n",
    "    actual_trips = ['car']*n_car + ['ebike']*n_ebike\n",
    "\n",
    "    # make predictions for car trips. 0 represents ebike, 1 represents car\n",
    "    predictions_for_car_trips = np.random.choice([0,1],size=n_car, replace=True, p = [0.4,0.6])\n",
    "\n",
    "    # make predictions for ebike trips\n",
    "    predictions_for_ebike_trips = np.random.choice([0,1],size=n_ebike, replace=True, p = [0.6,0.4])\n",
    "\n",
    "    # Calculate expected and actual energy consumptions, assuming 10 miles.\n",
    "    actual_EC_total = trip_distance*(n_car*EI_values[0] + n_ebike*EI_values[1])\n",
    "\n",
    "    n_car_predictions = sum(predictions_for_car_trips) + sum(predictions_for_ebike_trips)\n",
    "    n_ebike_predictions = n_car + n_ebike - n_car_predictions\n",
    "\n",
    "    predicted_EC_total = trip_distance*(n_car_predictions*EI_values[0] + n_ebike_predictions*EI_values[1])\n",
    "    expected_EC_total = trip_distance*(n_car_predictions*car_expected_EI + n_ebike_predictions*ebike_expected_EI)\n",
    "\n",
    "    car_distance = trip_distance*n_car_predictions\n",
    "    ebike_distance = trip_distance*n_ebike_predictions\n",
    "\n",
    "    # Variance if we use aggregate distances\n",
    "    EC_total_var_using_aggregate_distances = car_distance**2*V_car + ebike_distance**2*V_ebike\n",
    "\n",
    "    agg_distance_agg_sd = np.sqrt(EC_total_var_using_aggregate_distances)\n",
    "    agg_distance_n_sd = (expected_EC_total - actual_EC_total)/agg_distance_agg_sd\n",
    "\n",
    "    # If we use individual distances\n",
    "    EC_total_var_using_individual_distances = n_car_predictions*(trip_distance**2*V_car) + n_ebike_predictions*(trip_distance**2*V_ebike)\n",
    "\n",
    "    indiv_distance_agg_sd = np.sqrt(EC_total_var_using_individual_distances)\n",
    "    indiv_distance_n_sd = (expected_EC_total - actual_EC_total)/indiv_distance_agg_sd\n",
    "\n",
    "    # reliably a bad variance estimate with individual version!\n",
    "    #print(f\"actual EC: {actual_EC_total}, expected EC: {expected_EC_total:.1f}, predicted EC: {predicted_EC_total:.1f}\")\n",
    "    #print(f\"\\terror for expected: {expected_EC_total - actual_EC_total:.1f},\\n\\terror for predicted: {predicted_EC_total - actual_EC_total:.1f}\")\n",
    "    print(f\"With aggregate distance:\\n\\tsd aggregate: {agg_distance_agg_sd:.1f}. Number of standard deviations from mean: {agg_distance_n_sd:.1f}\")\n",
    "    print(f\"With individual distance:\\n\\tsd aggregate: {indiv_distance_agg_sd:.1f}. Number of standard deviations from mean: {indiv_distance_n_sd:.1f}\")\n",
    "\n",
    "# try it with predicted and try it with modeshare.\n",
    "car_number_list = [30,40,50,60,70,80,90]\n",
    "\n",
    "\n",
    "# which does better on average in each situation?\n",
    "\n",
    "for n_car in car_number_list:\n",
    "    print(f\"{n_car} car trips, {100 - n_car} ebike trips\")\n",
    "    trip_simulator(n_car,100-n_car, 10)"
   ]
  },
  {
   "cell_type": "code",
   "execution_count": 4,
   "metadata": {},
   "outputs": [
    {
     "name": "stdout",
     "output_type": "stream",
     "text": [
      "30 car trips, 70 ebike trips\n",
      "\tMean error for predicted: -237.4. Error quantiles (25,75): [-280.82 -192.14]. var of predicted: 5082.8\n",
      "\tMean error for expected: -284.0. Error quantiles (25,75): [-292.644 -274.908]. var of expected: 203.3\n",
      "\tMean error for binomial: -646.1. Error quantiles (25,75): [-725.472 -565.848]. var of binomial: 7753.7\n",
      "40 car trips, 60 ebike trips\n",
      "\tMean error for predicted: -118.6. Error quantiles (25,75): [-162.58  -73.9 ]. var of predicted: 5363.9\n",
      "\tMean error for expected: -142.0. Error quantiles (25,75): [-150.756 -133.02 ]. var of expected: 214.6\n",
      "\tMean error for binomial: -513.2. Error quantiles (25,75): [-589.936 -436.224]. var of binomial: 7377.6\n",
      "50 car trips, 50 ebike trips\n",
      "\tMean error for predicted: -1.6. Error quantiles (25,75): [-44.34  44.34]. var of predicted: 5341.3\n",
      "\tMean error for expected: -0.3. Error quantiles (25,75): [-8.868  8.868]. var of expected: 213.7\n",
      "\tMean error for binomial: -381.3. Error quantiles (25,75): [-454.4 -306.6]. var of binomial: 6907.3\n",
      "60 car trips, 40 ebike trips\n",
      "\tMean error for predicted: 119.1. Error quantiles (25,75): [ 73.9  162.58]. var of predicted: 5073.5\n",
      "\tMean error for expected: 142.1. Error quantiles (25,75): [133.02  150.756]. var of expected: 202.9\n",
      "\tMean error for binomial: -247.5. Error quantiles (25,75): [-318.864 -176.976]. var of binomial: 6441.4\n",
      "70 car trips, 30 ebike trips\n",
      "\tMean error for predicted: 238.1. Error quantiles (25,75): [192.14 280.82]. var of predicted: 5319.6\n",
      "\tMean error for expected: 284.1. Error quantiles (25,75): [274.908 292.644]. var of expected: 212.8\n",
      "\tMean error for binomial: -114.5. Error quantiles (25,75): [-183.328  -47.352]. var of binomial: 6107.6\n",
      "80 car trips, 20 ebike trips\n",
      "\tMean error for predicted: 353.8. Error quantiles (25,75): [310.38 399.06]. var of predicted: 5353.2\n",
      "\tMean error for expected: 425.5. Error quantiles (25,75): [416.796 434.532]. var of expected: 214.1\n",
      "\tMean error for binomial: 16.8. Error quantiles (25,75): [-47.792  82.272]. var of binomial: 5689.6\n",
      "90 car trips, 10 ebike trips\n",
      "\tMean error for predicted: 472.7. Error quantiles (25,75): [428.62 517.3 ]. var of predicted: 5158.6\n",
      "\tMean error for expected: 567.5. Error quantiles (25,75): [558.684 576.42 ]. var of expected: 206.3\n",
      "\tMean error for binomial: 149.7. Error quantiles (25,75): [ 87.744 211.896]. var of binomial: 5269.9\n"
     ]
    }
   ],
   "source": [
    "def trip_set_simulator(n_car, n_ebike, trip_distance, NMC, p_sensed_given_actual_car = {\"ebike\": 0.4, \"car\": 0.6}, p_sensed_given_actual_ebike = {\"ebike\": 0.6, \"car\": 0.4}):\n",
    "    '''\n",
    "    Simulate aggregate EC calculations for 2 modes: car and ebike.\n",
    "    Start with a set of actual modes, and then assign sensed modes based on probabilities that depend on the actual mode.\n",
    "        For example, if the actual mode is car and p_sensed_given_actual_car = [0.4,0.6], \n",
    "        then there is a 40% chance that we will predict ebike and 60% chance of predicting car.\n",
    "\n",
    "    By \"binomial\" I mean that the set of predictions in each class is assumed to come from a binomial distribution.\n",
    "\n",
    "    Right now the question is, which performs better on average? Expected EC or predicted EC?\n",
    "    '''\n",
    "\n",
    "    #prior_mode_probs = {\"car\": n_car/(n_car + n_ebike), \"ebike\":  n_ebike/(n_car + n_ebike)}\n",
    "    prior_mode_probs = {\"car\": 0.5, \"ebike\":  0.5}\n",
    "    row_normalized_confusion_matrix = pd.DataFrame({\"ebike\": p_sensed_given_actual_ebike, \"car\": p_sensed_given_actual_car})\n",
    "    likelihood_times_priors = row_normalized_confusion_matrix.multiply(pd.Series(prior_mode_probs), axis='rows')\n",
    "    normalizing_constants = likelihood_times_priors.sum(axis='rows')\n",
    "    prob_actual_given_predicted_df = likelihood_times_priors.divide(normalizing_constants, axis='columns').copy()\n",
    "\n",
    "    # Compute EI expected values and variances\n",
    "    # [ebike value, car value]\n",
    "    EI_values = np.array([0.022,1.5]) \n",
    "\n",
    "    car_expected_EI = cm_handling.expectation(prob_actual_given_predicted_df[\"car\"],EI_values)\n",
    "    car_E2 = cm_handling.expectation(prob_actual_given_predicted_df[\"car\"],EI_values**2)\n",
    "\n",
    "    ebike_expected_EI = cm_handling.expectation(prob_actual_given_predicted_df[\"ebike\"],EI_values)\n",
    "    ebike_E2 = cm_handling.expectation(prob_actual_given_predicted_df[\"ebike\"],EI_values**2)\n",
    "    V_ebike = ebike_E2 - ebike_expected_EI**2\n",
    "\n",
    "    predicted_EC_list = np.array([])\n",
    "    expected_EC_list = np.array([])\n",
    "    binomial_EC_list = np.array([])\n",
    "\n",
    "    predicted_expected_avg_list = np.array([])\n",
    "   \n",
    "    # Calculate expected and actual energy consumptions, assuming 10 miles.\n",
    "    actual_EC_total = trip_distance*(n_car*EI_values[0] + n_ebike*EI_values[1])\n",
    "    #print(f\"actual EC: {actual_EC_total}\")\n",
    "\n",
    "    for j in range(0,NMC):\n",
    "        # make predictions for car trips. 0 represents ebike, 1 represents car\n",
    "        predictions_for_car_trips = np.random.choice([0,1],size=n_car, replace=True, p = [p_sensed_given_actual_car['ebike'], p_sensed_given_actual_car['car']])\n",
    "\n",
    "        # make predictions for ebike trips\n",
    "        predictions_for_ebike_trips = np.random.choice([0,1],size=n_ebike, replace=True, p = [p_sensed_given_actual_ebike['ebike'], p_sensed_given_actual_ebike['car']])\n",
    "\n",
    "        n_car_predictions = sum(predictions_for_car_trips) + sum(predictions_for_ebike_trips)\n",
    "        n_ebike_predictions = n_car + n_ebike - n_car_predictions\n",
    "\n",
    "        car_distance = trip_distance*n_car_predictions\n",
    "        ebike_distance = trip_distance*n_ebike_predictions\n",
    "\n",
    "        # 0 is ebike, 1 is car\n",
    "        expected_distance_in_car = np.dot(prob_actual_given_predicted_df.loc[\"car\"], np.array(ebike_distance,car_distance))#p_actual_given_predict_car[1]*car_distance + p_actual_given_predict_ebike[1]*ebike_distance\n",
    "        expected_distance_in_ebike = np.dot(prob_actual_given_predicted_df.loc[\"ebike\"], np.array(ebike_distance,car_distance))\n",
    "\n",
    "        # Compute the estimates for the current iteration.\n",
    "        predicted_EC = car_distance*EI_values[0] + ebike_distance*EI_values[1]\n",
    "        expected_EC = car_distance*car_expected_EI + ebike_distance*ebike_expected_EI\n",
    "        binomial_EC = expected_distance_in_car*EI_values[0] + expected_distance_in_ebike*EI_values[1]\n",
    "        predicted_expected_avg_EC = np.mean([predicted_EC,expected_EC])\n",
    "\n",
    "        # Append to their respective lists.\n",
    "        predicted_EC_list = np.append(predicted_EC_list, predicted_EC)\n",
    "        expected_EC_list = np.append(expected_EC_list, expected_EC)\n",
    "        binomial_EC_list = np.append(binomial_EC_list, binomial_EC)\n",
    "        predicted_expected_avg_list = np.append(predicted_expected_avg_list, predicted_expected_avg_EC)\n",
    "\n",
    "    prediction_errors = predicted_EC_list - actual_EC_total\n",
    "    expected_EC_errors = expected_EC_list - actual_EC_total\n",
    "    binomial_EC_errors = binomial_EC_list - actual_EC_total\n",
    "    predicted_expected_avg_errors = predicted_expected_avg_list - actual_EC_total\n",
    "\n",
    "    prediction_var, expected_var, binomial_var, predicted_expected_var = np.var(predicted_EC_list), np.var(expected_EC_list), np.var(binomial_EC_list), np.var(predicted_expected_avg_list)\n",
    "\n",
    "    print(f\"\\tMean error for predicted: {np.mean(prediction_errors):.1f}. Error quantiles (25,75): {np.quantile(prediction_errors, [0.25,0.75])}. var of predicted: {prediction_var:.1f}\")\n",
    "    print(f\"\\tMean error for expected: {np.mean(expected_EC_errors):.1f}. Error quantiles (25,75): {np.quantile(expected_EC_errors, [0.25,0.75])}. var of expected: {expected_var:.1f}\")\n",
    "    print(f\"\\tMean error for binomial: {np.mean(binomial_EC_errors):.1f}. Error quantiles (25,75): {np.quantile(binomial_EC_errors, [0.25,0.75])}. var of binomial: {binomial_var:.1f}\")\n",
    "    #print(f\"\\tMean error for average: {np.mean(predicted_expected_avg_errors):.1f}. Error quantiles (25,75): {np.quantile(predicted_expected_avg_errors, [0.25,0.75])}. var of combined estimate: {predicted_expected_var:.1f}\")\n",
    "\n",
    "# try it with predicted and try it with modeshare.\n",
    "car_number_list = [30,40,50,60,70,80,90]\n",
    "\n",
    "\n",
    "# which does better on average in each situation?\n",
    "\n",
    "for n_car in car_number_list:\n",
    "    print(f\"{n_car} car trips, {100 - n_car} ebike trips\")\n",
    "    trip_set_simulator(n_car,100-n_car, 10, NMC = 5000)"
   ]
  },
  {
   "cell_type": "markdown",
   "metadata": {},
   "source": [
    "### A look at modeshare\n",
    "**Note that as the true distribution of car vs ebike gets further from our prior mode distribution, \n",
    "our estimates for the counts get further from the truth. The distance in standard deviations also becomes larger.**\n",
    "- if the prior probabilities are 50-50, then cases of 10-90 or 90-10 are where the estimate is worst."
   ]
  },
  {
   "cell_type": "code",
   "execution_count": 5,
   "metadata": {},
   "outputs": [
    {
     "name": "stdout",
     "output_type": "stream",
     "text": [
      "300 car trips, 700 ebike trips\n",
      "\tsd car, ebike: 119.96,225.32\n",
      "\tExpected: car, ebike: (356.8, 643.2). n standard deviations: 0.47, -0.25\n",
      "\tPredicted: car, ebike: (321, 679). n standard deviations: 0.18, -0.09\n",
      "400 car trips, 600 ebike trips\n",
      "\tsd car, ebike: 114.20,214.51\n",
      "\tExpected: car, ebike: (440.0, 560.0). n standard deviations: 0.35, -0.19\n",
      "\tPredicted: car, ebike: (425, 575). n standard deviations: 0.22, -0.12\n",
      "500 car trips, 500 ebike trips\n",
      "\tsd car, ebike: 112.95,212.16\n",
      "\tExpected: car, ebike: (506.4, 493.6). n standard deviations: 0.06, -0.03\n",
      "\tPredicted: car, ebike: (508, 492). n standard deviations: 0.07, -0.04\n",
      "600 car trips, 400 ebike trips\n",
      "\tsd car, ebike: 114.96,215.93\n",
      "\tExpected: car, ebike: (576.0, 424.0). n standard deviations: -0.21, 0.11\n",
      "\tPredicted: car, ebike: (595, 405). n standard deviations: -0.04, 0.02\n",
      "700 car trips, 300 ebike trips\n",
      "\tsd car, ebike: 118.58,222.73\n",
      "\tExpected: car, ebike: (628.0, 372.0). n standard deviations: -0.61, 0.32\n",
      "\tPredicted: car, ebike: (660, 340). n standard deviations: -0.34, 0.18\n",
      "800 car trips, 200 ebike trips\n",
      "\tsd car, ebike: 125.87,236.42\n",
      "\tExpected: car, ebike: (696.8, 303.2). n standard deviations: -0.82, 0.44\n",
      "\tPredicted: car, ebike: (746, 254). n standard deviations: -0.43, 0.23\n",
      "900 car trips, 100 ebike trips\n",
      "\tsd car, ebike: 134.95,253.47\n",
      "\tExpected: car, ebike: (761.6, 238.4). n standard deviations: -1.03, 0.55\n",
      "\tPredicted: car, ebike: (827, 173). n standard deviations: -0.54, 0.29\n"
     ]
    }
   ],
   "source": [
    "# Note: in my simulation, the true chance of predicted mode given actual mode is the same as the value I use in my confusion matrix.\n",
    "# This is not the case with real data - the mobilitynet confusion matrix approximates the true chances of predicted given actual.\n",
    "\n",
    "def trip_set_simulator_mode_counts(n_car, n_ebike, trip_distance, NMC, prior_mode_probs,\n",
    "                                p_sensed_given_actual_car, \n",
    "                                p_sensed_given_actual_ebike\n",
    "                                ):\n",
    "    '''\n",
    "    Simulate mode count calculations for 2 modes: car and ebike.\n",
    "    Start with a set of actual modes, and then assign sensed modes based on probabilities that depend on the actual mode.\n",
    "        For example, if the actual mode is car and p_sensed_given_actual_car = [0.4,0.6], \n",
    "        then there is a 40% chance that we will predict ebike and 60% chance of predicting car.\n",
    "\n",
    "    By \"binomial\" I mean that the set of predictions in each class is assumed to come from a binomial distribution.\n",
    "    '''\n",
    "\n",
    "    #prior_mode_probs = {\"car\": n_car/(n_car + n_ebike), \"ebike\":  n_ebike/(n_car + n_ebike)}\n",
    "    row_normalized_confusion_matrix = pd.DataFrame({\"ebike\": p_sensed_given_actual_ebike, \n",
    "                                                    \"car\": p_sensed_given_actual_car})\n",
    "    #print(row_normalized_confusion_matrix)\n",
    "    likelihood_times_priors = row_normalized_confusion_matrix.multiply(pd.Series(prior_mode_probs), axis='rows')\n",
    "    normalizing_constants = likelihood_times_priors.sum(axis='rows')\n",
    "    prob_actual_given_predicted_df = likelihood_times_priors.divide(normalizing_constants, axis='columns').copy()\n",
    "    #print(prob_actual_given_predicted_df)\n",
    "\n",
    "    #predicted_count_list = np.array([])\n",
    "    #expected_EC_list = np.array([])\n",
    "\n",
    "    # make predictions for car trips. 0 represents ebike, 1 represents car\n",
    "    predictions_for_car_trips = np.random.choice([0,1],size=n_car, replace=True, p = [p_sensed_given_actual_car['ebike'], p_sensed_given_actual_car['car']])\n",
    "\n",
    "    # make predictions for ebike trips\n",
    "    predictions_for_ebike_trips = np.random.choice([0,1],size=n_ebike, replace=True, p = [p_sensed_given_actual_ebike['ebike'], p_sensed_given_actual_ebike['car']])\n",
    "\n",
    "    n_car_predictions = sum(predictions_for_car_trips) + sum(predictions_for_ebike_trips)\n",
    "    n_ebike_predictions = n_car + n_ebike - n_car_predictions\n",
    "\n",
    "    # 0 is ebike, 1 is car\n",
    "    \n",
    "    # Find the expected counts of each mode.\n",
    "    expected_car_count = prob_actual_given_predicted_df.loc[\"car\"][\"ebike\"]*n_ebike_predictions + prob_actual_given_predicted_df.loc[\"car\"][\"car\"]*n_car_predictions\n",
    "    expected_ebike_count = prob_actual_given_predicted_df.loc[\"ebike\"][\"ebike\"]*n_ebike_predictions + prob_actual_given_predicted_df.loc[\"ebike\"][\"car\"]*n_car_predictions\n",
    "\n",
    "    #expected_car_count = np.dot(np.array(prob_actual_given_predicted_df.loc[\"car\"]), np.array(n_ebike_predictions,n_car_predictions))#p_actual_given_predict_car[1]*car_distance + p_actual_given_predict_ebike[1]*ebike_distance\n",
    "    #expected_ebike_count = np.dot(np.array(prob_actual_given_predicted_df.loc[\"ebike\"]), np.array(n_ebike_predictions,n_car_predictions))\n",
    "\n",
    "    p_actual_car_given_car = prob_actual_given_predicted_df.loc[\"car\"][\"car\"]\n",
    "    p_actual_car_given_ebike = prob_actual_given_predicted_df.loc[\"car\"][\"ebike\"]\n",
    "\n",
    "    p_actual_ebike_given_car = prob_actual_given_predicted_df.loc[\"ebike\"][\"car\"]\n",
    "    p_actual_ebike_given_ebike = prob_actual_given_predicted_df.loc[\"ebike\"][\"ebike\"]\n",
    "\n",
    "    # The commented out code mistakenly treats var(p) as p(1-p).\n",
    "    #car_count_variance = n_car_predictions**2*p_actual_car_given_car*(1-p_actual_car_given_car) + n_ebike_predictions**2*p_actual_car_given_ebike*(1-p_actual_car_given_ebike)\n",
    "    #ebike_count_variance = n_car_predictions**2*p_actual_ebike_given_car*(1-p_actual_ebike_given_car) + n_ebike_predictions**2*p_actual_ebike_given_ebike*(1-p_actual_ebike_given_ebike)\n",
    "    # If p ~ Beta(a,b), Var(p) = ab/[(a+b)^2 * (a + b + 1)]\n",
    "    var_p_car = 2*5/((2+5)**2*(2 + 5+ 1))  # assuming p_car follows beta(2,5) https://en.wikipedia.org/wiki/Beta_distribution\n",
    "\n",
    "    car_count_variance = n_car_predictions**2*var_p_car + n_ebike_predictions**2*var_p_car\n",
    "    ebike_count_variance = n_car_predictions**2*p_actual_ebike_given_car*(1-p_actual_ebike_given_car) + n_ebike_predictions**2*p_actual_ebike_given_ebike*(1-p_actual_ebike_given_ebike)\n",
    "\n",
    "\n",
    "    car_sd = np.sqrt(car_count_variance)\n",
    "    ebike_sd = np.sqrt(ebike_count_variance)\n",
    "\n",
    "    car_error = expected_car_count - n_car\n",
    "    ebike_error = expected_ebike_count - n_ebike\n",
    "\n",
    "    expected_n_sd = {\"car\": car_error/car_sd, \"ebike\": ebike_error/ebike_sd}\n",
    "\n",
    "    predicted_n_sd = {\"car\": (n_car_predictions - n_car)/car_sd, \"ebike\": (n_ebike_predictions - n_ebike)/ebike_sd}\n",
    "\n",
    "    print(f\"\\tsd car, ebike: {car_sd:.2f},{ebike_sd:.2f}\")\n",
    "    print(f\"\\tExpected: car, ebike: ({expected_car_count:.1f}, {expected_ebike_count:.1f}). n standard deviations: {expected_n_sd['car']:.2f}, {expected_n_sd['ebike']:.2f}\")\n",
    "    print(f\"\\tPredicted: car, ebike: {n_car_predictions,n_ebike_predictions}. n standard deviations: {predicted_n_sd['car']:.2f}, {predicted_n_sd['ebike']:.2f}\")\n",
    "\n",
    "    return expected_car_count, expected_ebike_count, car_count_variance, ebike_count_variance\n",
    "\n",
    "car_number_list = [300,400,500,600,700,800,900]\n",
    "\n",
    "# which does better on average in each situation?\n",
    "\n",
    "for n_car in car_number_list:\n",
    "    print(f\"{n_car} car trips, {1000 - n_car} ebike trips\")\n",
    "    vals = trip_set_simulator_mode_counts(n_car,1000-n_car, 10, NMC = 5000, \n",
    "        p_sensed_given_actual_car = {\"ebike\": 0.1, \"car\": 0.9}, \n",
    "        p_sensed_given_actual_ebike = {\"ebike\": 0.9, \"car\": 0.1},\n",
    "        prior_mode_probs = {\"car\": 0.5, \"ebike\":  0.5})"
   ]
  },
  {
   "cell_type": "code",
   "execution_count": 1,
   "metadata": {},
   "outputs": [
    {
     "data": {
      "text/plain": [
       "0.025510204081632654"
      ]
     },
     "execution_count": 1,
     "metadata": {},
     "output_type": "execute_result"
    }
   ],
   "source": [
    "2*5/((2+5)**2*(2 + 5+ 1))"
   ]
  },
  {
   "cell_type": "code",
   "execution_count": 2,
   "metadata": {},
   "outputs": [
    {
     "data": {
      "text/plain": [
       "0.08333333333333333"
      ]
     },
     "execution_count": 2,
     "metadata": {},
     "output_type": "execute_result"
    }
   ],
   "source": [
    "1/((2)**2*(2+ 1))"
   ]
  },
  {
   "cell_type": "code",
   "execution_count": 3,
   "metadata": {},
   "outputs": [
    {
     "data": {
      "text/plain": [
       "[<matplotlib.lines.Line2D at 0x7fab83eda710>]"
      ]
     },
     "execution_count": 3,
     "metadata": {},
     "output_type": "execute_result"
    },
    {
     "data": {
      "image/png": "[encoded data removed]",
      "text/plain": [
       "<Figure size 432x288 with 1 Axes>"
      ]
     },
     "metadata": {
      "needs_background": "light"
     },
     "output_type": "display_data"
    }
   ],
   "source": [
    "from scipy.stats import beta\n",
    "import matplotlib.pyplot as plt\n",
    "\n",
    "# Imagine you are looking at the distribution of car success probability.\n",
    "# That's what I'm trying to represent here.\n",
    "# E[p] = a/(a + b)\n",
    "a =  6\n",
    "b = 2\n",
    "x = np.arange (0.01, 1, 0.01)\n",
    "y = beta.pdf(x,a,b)\n",
    "plt.plot(x,y)"
   ]
  },
  {
   "cell_type": "code",
   "execution_count": 6,
   "metadata": {},
   "outputs": [
    {
     "name": "stdout",
     "output_type": "stream",
     "text": [
      "0.2 car prior prob, 0.8 ebike prior prob\n",
      "\tsd car, ebike: 12.08,18.16\n",
      "\tExpected: car, ebike: (23.3, 76.7). n standard deviations: -0.55, 0.37\n",
      "\tPredicted: car, ebike: (31, 69). n standard deviations: 0.08, -0.06\n",
      "0.3 car prior prob, 0.7 ebike prior prob\n",
      "\tsd car, ebike: 12.08,19.07\n",
      "\tExpected: car, ebike: (27.8, 72.2). n standard deviations: -0.19, 0.12\n",
      "\tPredicted: car, ebike: (31, 69). n standard deviations: 0.08, -0.05\n",
      "0.4 car prior prob, 0.6 ebike prior prob\n",
      "\tsd car, ebike: 11.73,20.54\n",
      "\tExpected: car, ebike: (35.3, 64.7). n standard deviations: 0.45, -0.26\n",
      "\tPredicted: car, ebike: (36, 64). n standard deviations: 0.51, -0.29\n",
      "0.5 car prior prob, 0.5 ebike prior prob\n",
      "\tsd car, ebike: 11.86,22.27\n",
      "\tExpected: car, ebike: (37.2, 62.8). n standard deviations: 0.61, -0.32\n",
      "\tPredicted: car, ebike: (34, 66). n standard deviations: 0.34, -0.18\n",
      "0.6 car prior prob, 0.4 ebike prior prob\n",
      "\tsd car, ebike: 11.61,23.74\n",
      "\tExpected: car, ebike: (44.2, 55.8). n standard deviations: 1.23, -0.60\n",
      "\tPredicted: car, ebike: (38, 62). n standard deviations: 0.69, -0.34\n",
      "0.7 car prior prob, 0.30000000000000004 ebike prior prob\n",
      "\tsd car, ebike: 11.93,27.95\n",
      "\tExpected: car, ebike: (45.3, 54.7). n standard deviations: 1.28, -0.55\n",
      "\tPredicted: car, ebike: (33, 67). n standard deviations: 0.25, -0.11\n",
      "0.8 car prior prob, 0.19999999999999996 ebike prior prob\n",
      "\tsd car, ebike: 11.67,29.69\n",
      "\tExpected: car, ebike: (55.4, 44.6). n standard deviations: 2.18, -0.86\n",
      "\tPredicted: car, ebike: (37, 63). n standard deviations: 0.60, -0.24\n",
      "0.9 car prior prob, 0.09999999999999998 ebike prior prob\n",
      "\tsd car, ebike: 11.79,32.73\n",
      "\tExpected: car, ebike: (67.1, 32.9). n standard deviations: 3.14, -1.13\n",
      "\tPredicted: car, ebike: (35, 65). n standard deviations: 0.42, -0.15\n"
     ]
    },
    {
     "data": {
      "text/plain": [
       "(41.9424633684417, 12.081779163480105)"
      ]
     },
     "execution_count": 6,
     "metadata": {},
     "output_type": "execute_result"
    }
   ],
   "source": [
    "# For a fixed number of true car and ebike trips, what happens when we vary our prior probabilities of \n",
    "# car and ebike?\n",
    "p_car_list = [0.2,0.30,0.40,0.50,0.60,0.70,0.80,0.90]\n",
    "\n",
    "n_car = 30\n",
    "\n",
    "expected_car_list = []\n",
    "car_var_list = []\n",
    "for p_car in p_car_list:\n",
    "    print(f\"{p_car} car prior prob, {1-p_car} ebike prior prob\")\n",
    "    vals = trip_set_simulator_mode_counts(n_car,100-n_car, 10, NMC = 5000, \n",
    "        p_sensed_given_actual_car = {\"ebike\": 0.1, \"car\": 0.9}, \n",
    "        p_sensed_given_actual_ebike = {\"ebike\": 0.9, \"car\": 0.1},\n",
    "        prior_mode_probs = {\"car\": p_car, \"ebike\":  1-p_car})\n",
    "    expected_car_list.append(vals[0])\n",
    "    car_var_list.append(vals[2])\n",
    "\n",
    "ecl = np.array(expected_car_list)\n",
    "cvl = np.array(car_var_list)\n",
    "np.mean(ecl), np.max(np.sqrt(cvl))"
   ]
  },
  {
   "cell_type": "markdown",
   "metadata": {},
   "source": [
    "### Example of a dirichlet distribution"
   ]
  },
  {
   "cell_type": "code",
   "execution_count": 68,
   "metadata": {},
   "outputs": [
    {
     "data": {
      "text/plain": [
       "(3, 20)"
      ]
     },
     "execution_count": 68,
     "metadata": {},
     "output_type": "execute_result"
    }
   ],
   "source": [
    "from numpy.random import default_rng\n",
    "rng = default_rng()\n",
    "s = rng.dirichlet((1,1,1),20).transpose()\n",
    "s.shape"
   ]
  },
  {
   "cell_type": "code",
   "execution_count": 69,
   "metadata": {},
   "outputs": [
    {
     "data": {
      "text/plain": [
       "Text(0.5, 1.0, 'Lengths of Strings')"
      ]
     },
     "execution_count": 69,
     "metadata": {},
     "output_type": "execute_result"
    },
    {
     "data": {
      "image/png": "[encoded data removed]",
      "text/plain": [
       "<Figure size 432x288 with 1 Axes>"
      ]
     },
     "metadata": {
      "needs_background": "light"
     },
     "output_type": "display_data"
    }
   ],
   "source": [
    "import matplotlib.pyplot as plt\n",
    "\n",
    "plt.barh(range(20), s[0])\n",
    "\n",
    "plt.barh(range(20), s[1], left=s[0], color='g')\n",
    "\n",
    "plt.barh(range(20), s[2], left=s[0]+s[1], color='r')\n",
    "\n",
    "plt.title(\"Lengths of Strings\")"
   ]
  },
  {
   "cell_type": "code",
   "execution_count": 14,
   "metadata": {},
   "outputs": [
    {
     "data": {
      "text/html": [
       "<div>\n",
       "<style scoped>\n",
       "    .dataframe tbody tr th:only-of-type {\n",
       "        vertical-align: middle;\n",
       "    }\n",
       "\n",
       "    .dataframe tbody tr th {\n",
       "        vertical-align: top;\n",
       "    }\n",
       "\n",
       "    .dataframe thead th {\n",
       "        text-align: right;\n",
       "    }\n",
       "</style>\n",
       "<table border=\"1\" class=\"dataframe\">\n",
       "  <thead>\n",
       "    <tr style=\"text-align: right;\">\n",
       "      <th></th>\n",
       "      <th>ebike</th>\n",
       "      <th>car</th>\n",
       "    </tr>\n",
       "  </thead>\n",
       "  <tbody>\n",
       "    <tr>\n",
       "      <th>ebike</th>\n",
       "      <td>0.6</td>\n",
       "      <td>0.4</td>\n",
       "    </tr>\n",
       "    <tr>\n",
       "      <th>car</th>\n",
       "      <td>0.4</td>\n",
       "      <td>0.6</td>\n",
       "    </tr>\n",
       "  </tbody>\n",
       "</table>\n",
       "</div>"
      ],
      "text/plain": [
       "       ebike  car\n",
       "ebike    0.6  0.4\n",
       "car      0.4  0.6"
      ]
     },
     "execution_count": 14,
     "metadata": {},
     "output_type": "execute_result"
    }
   ],
   "source": [
    "row_normalized_confusion_matrix"
   ]
  },
  {
   "cell_type": "code",
   "execution_count": 40,
   "metadata": {},
   "outputs": [
    {
     "data": {
      "text/plain": [
       "ebike    0.222222\n",
       "car      0.391304\n",
       "Name: car, dtype: float64"
      ]
     },
     "execution_count": 40,
     "metadata": {},
     "output_type": "execute_result"
    }
   ],
   "source": [
    "p_sensed_given_actual_car = {\"ebike\": 0.4, \"car\": 0.6} \n",
    "p_sensed_given_actual_ebike = {\"ebike\": 0.6, \"car\": 0.4}\n",
    "\n",
    "prior_mode_probs = {\"car\": 0.3, \"ebike\":  0.7}\n",
    "row_normalized_confusion_matrix = pd.DataFrame({\"ebike\": p_sensed_given_actual_ebike, \"car\": p_sensed_given_actual_car})\n",
    "likelihood_times_priors = row_normalized_confusion_matrix.multiply(pd.Series(prior_mode_probs), axis='rows')\n",
    "normalizing_constants = likelihood_times_priors.sum(axis='rows')\n",
    "prob_actual_given_predicted_df = likelihood_times_priors.divide(normalizing_constants, axis='columns').copy()\n",
    "prob_actual_given_predicted_df.loc[\"car\"]"
   ]
  },
  {
   "cell_type": "markdown",
   "metadata": {},
   "source": [
    "### Now simulate with varied distances"
   ]
  },
  {
   "cell_type": "code",
   "execution_count": null,
   "metadata": {},
   "outputs": [],
   "source": [
    "# Currently not complete- doesn't simulate distance.\n",
    "def trip_set_simulator_with_distances(n_car, n_ebike, trip_distance, NMC, p_sensed_given_actual_car = {\"ebike\": 0.4, \"car\": 0.6}, p_sensed_given_actual_ebike = {\"ebike\": 0.4, \"car\": 0.6}):\n",
    "    '''\n",
    "    Simulate aggregate EC calculations for 2 modes: car and ebike.\n",
    "    Start with a set of actual modes, and then assign sensed modes based on probabilities that depend on the actual mode.\n",
    "        For example, if the actual mode is car and p_sensed_given_actual_car = [0.4,0.6], \n",
    "        then there is a 40% chance that we will predict ebike and 60% chance of predicting car.\n",
    "\n",
    "    By \"binomial\" I mean that the set of predictions in each class is assumed to come from a binomial distribution.\n",
    "\n",
    "    Right now the question is, which performs better on average? Expected EC or predicted EC?\n",
    "    '''\n",
    "\n",
    "    prior_mode_probs = {\"car\": n_car/(n_car + n_ebike), \"ebike\":  n_ebike/(n_car + n_ebike)}\n",
    "    #prior_mode_probs = {\"car\": 0.5, \"ebike\":  0.5}\n",
    "    row_normalized_confusion_matrix = pd.DataFrame({\"ebike\": p_sensed_given_actual_ebike, \"car\": p_sensed_given_actual_car})\n",
    "    likelihood_times_priors = row_normalized_confusion_matrix.multiply(pd.Series(prior_mode_probs), axis='rows')\n",
    "    normalizing_constants = likelihood_times_priors.sum(axis='rows')\n",
    "    prob_actual_given_predicted_df = likelihood_times_priors.divide(normalizing_constants, axis='columns').copy()\n",
    "\n",
    "    # Compute EI expected values and variances\n",
    "    # [ebike value, car value]\n",
    "    EI_values = np.array([0.022,1.5]) \n",
    "\n",
    "    car_expected_EI = cm_handling.expectation(prob_actual_given_predicted_df[\"car\"],EI_values)\n",
    "    car_E2 = cm_handling.expectation(prob_actual_given_predicted_df[\"car\"],EI_values**2)\n",
    "\n",
    "    ebike_expected_EI = cm_handling.expectation(prob_actual_given_predicted_df[\"ebike\"],EI_values)\n",
    "    ebike_E2 = cm_handling.expectation(prob_actual_given_predicted_df[\"ebike\"],EI_values**2)\n",
    "    V_ebike = ebike_E2 - ebike_expected_EI**2\n",
    "\n",
    "    predicted_EC_list = np.array([])\n",
    "    expected_EC_list = np.array([])\n",
    "    binomial_EC_list = np.array([])\n",
    "\n",
    "    predicted_expected_avg_list = np.array([])\n",
    "   \n",
    "    # Calculate expected and actual energy consumptions, assuming 10 miles.\n",
    "    actual_EC_total = trip_distance*(n_car*EI_values[0] + n_ebike*EI_values[1])\n",
    "    #print(f\"actual EC: {actual_EC_total}\")\n",
    "\n",
    "    for j in range(0,NMC):\n",
    "        # make predictions for car trips. 0 represents ebike, 1 represents car\n",
    "        predictions_for_car_trips = np.random.choice([0,1],size=n_car, replace=True, p = [p_sensed_given_actual_car['ebike'], p_sensed_given_actual_car['car']])\n",
    "\n",
    "        # make predictions for ebike trips\n",
    "        predictions_for_ebike_trips = np.random.choice([0,1],size=n_ebike, replace=True, p = [p_sensed_given_actual_ebike['ebike'], p_sensed_given_actual_ebike['car']])\n",
    "\n",
    "        n_car_predictions = sum(predictions_for_car_trips) + sum(predictions_for_ebike_trips)\n",
    "        n_ebike_predictions = n_car + n_ebike - n_car_predictions\n",
    "\n",
    "        car_distance = trip_distance*n_car_predictions\n",
    "        ebike_distance = trip_distance*n_ebike_predictions\n",
    "\n",
    "        # 0 is ebike, 1 is car\n",
    "        expected_distance_in_car = np.dot(prob_actual_given_predicted_df[\"car\"], np.array(ebike_distance,car_distance))#p_actual_given_predict_car[1]*car_distance + p_actual_given_predict_ebike[1]*ebike_distance\n",
    "        expected_distance_in_ebike = np.dot(prob_actual_given_predicted_df[\"ebike\"], np.array(ebike_distance,car_distance))\n",
    "\n",
    "        # Compute the estimates for the current iteration.\n",
    "        predicted_EC = car_distance*EI_values[0] + ebike_distance*EI_values[1]\n",
    "        expected_EC = car_distance*car_expected_EI + ebike_distance*ebike_expected_EI\n",
    "        binomial_EC = expected_distance_in_car*EI_values[0] + expected_distance_in_ebike*EI_values[1]\n",
    "        predicted_expected_avg_EC = np.mean([predicted_EC,expected_EC])\n",
    "\n",
    "        # Append to their respective lists.\n",
    "        predicted_EC_list = np.append(predicted_EC_list, predicted_EC)\n",
    "        expected_EC_list = np.append(expected_EC_list, expected_EC)\n",
    "        binomial_EC_list = np.append(binomial_EC_list, binomial_EC)\n",
    "        predicted_expected_avg_list = np.append(predicted_expected_avg_list, predicted_expected_avg_EC)\n",
    "\n",
    "    prediction_errors = predicted_EC_list - actual_EC_total\n",
    "    expected_EC_errors = expected_EC_list - actual_EC_total\n",
    "    binomial_EC_errors = binomial_EC_list - actual_EC_total\n",
    "    predicted_expected_avg_errors = predicted_expected_avg_list - actual_EC_total\n",
    "\n",
    "    prediction_var, expected_var, binomial_var, predicted_expected_var = np.var(predicted_EC_list), np.var(expected_EC_list), np.var(binomial_EC_list), np.var(predicted_expected_avg_list)\n",
    "\n",
    "    print(f\"\\tMean error for predicted: {np.mean(prediction_errors):.1f}. Error quantiles (25,75): {np.quantile(prediction_errors, [0.25,0.75])}. var of predicted: {prediction_var:.1f}\")\n",
    "    print(f\"\\tMean error for expected: {np.mean(expected_EC_errors):.1f}. Error quantiles (25,75): {np.quantile(expected_EC_errors, [0.25,0.75])}. var of expected: {expected_var:.1f}\")\n",
    "    print(f\"\\tMean error for binomial: {np.mean(binomial_EC_errors):.1f}. Error quantiles (25,75): {np.quantile(binomial_EC_errors, [0.25,0.75])}. var of binomial: {binomial_var:.1f}\")\n",
    "    #print(f\"\\tMean error for average: {np.mean(predicted_expected_avg_errors):.1f}. Error quantiles (25,75): {np.quantile(predicted_expected_avg_errors, [0.25,0.75])}. var of combined estimate: {predicted_expected_var:.1f}\")\n",
    "\n",
    "# try it with predicted and try it with modeshare.\n",
    "car_number_list = [30,40,50,60,70,80,90]\n",
    "\n",
    "\n",
    "# which does better on average in each situation?\n",
    "\n",
    "for n_car in car_number_list:\n",
    "    print(f\"{n_car} car trips, {100 - n_car} ebike trips\")\n",
    "    trip_set_simulator(n_car,100-n_car, 10, NMC = 5000)"
   ]
  },
  {
   "cell_type": "code",
   "execution_count": null,
   "metadata": {},
   "outputs": [],
   "source": [
    "n_car_predictions = 80\n",
    "n_ebike_predictions = 20\n",
    "observed_predictions = ['car']*n_car_predictions + ['ebike']*n_ebike_predictions\n",
    "\n",
    "# make predictions for car trips. 0 represents ebike, 1 represents car\n",
    "predictions_for_car_trips = np.random.choice([0,1],size=n_car, replace=True, p = [0.4,0.6])\n",
    "\n",
    "# make predictions for ebike trips\n",
    "predictions_for_ebike_trips = np.random.choice([0,1],size=n_ebike, replace=True, p = [0.6,0.4])"
   ]
  },
  {
   "cell_type": "code",
   "execution_count": null,
   "metadata": {},
   "outputs": [],
   "source": [
    "# what is the chance of predicting car car car ebike given actual modes of car, ebike, ebike, ebike?\n",
    "# we'll say order doesn't matter, since multiple trip orderings can yield the same energy consumption\n",
    "# I am also assuming P(actual|predicted) = P(predicted| actual)\n",
    "3*(0.6**2 * 0.4**2) + 0.4**4  # almost 20%\n",
    "\n",
    "# what is the chance of being over 2 standard deviations away across all possible trip prediction sequences?"
   ]
  }
 ],
 "metadata": {
  "kernelspec": {
   "display_name": "Python 3.7.12 ('emission-private-eval')",
   "language": "python",
   "name": "python3"
  },
  "language_info": {
   "codemirror_mode": {
    "name": "ipython",
    "version": 3
   },
   "file_extension": ".py",
   "mimetype": "text/x-python",
   "name": "python",
   "nbconvert_exporter": "python",
   "pygments_lexer": "ipython3",
   "version": "3.7.12"
  },
  "orig_nbformat": 4,
  "vscode": {
   "interpreter": {
    "hash": "73ac5b45931ab4dd3f8e07a8d0e5daf0146eed4821bf42374f6ac6fa4af28c83"
   }
  }
 },
 "nbformat": 4,
 "nbformat_minor": 2
}
