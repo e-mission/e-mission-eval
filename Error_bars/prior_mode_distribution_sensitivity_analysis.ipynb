{
 "cells": [
  {
   "cell_type": "code",
   "execution_count": 16,
   "metadata": {},
   "outputs": [
    {
     "name": "stdout",
     "output_type": "stream",
     "text": [
      "The autoreload extension is already loaded. To reload it, use:\n",
      "  %reload_ext autoreload\n"
     ]
    }
   ],
   "source": [
    "%load_ext autoreload\n",
    "%autoreload 2\n",
    "\n",
    "import pandas as pd\n",
    "import numpy as np\n",
    "from uuid import UUID\n",
    "\n",
    "import matplotlib.pyplot as plt\n",
    "\n",
    "import confusion_matrix_handling as cm_handling\n",
    "from confusion_matrix_handling import MODE_MAPPING_DICT\n",
    "import get_EC\n",
    "import helper_functions as hf\n",
    "\n",
    "import sklearn.model_selection as skm\n",
    "\n",
    "from sklearn.model_selection import KFold\n",
    "from sklearn import linear_model\n",
    "\n",
    "METERS_TO_MILES = 0.000621371 # 1 meter = 0.000621371 miles\n",
    "ECAR_PROPORTION = 0 #0.01 #~1% of cars on the road are electric.\n",
    "DROVE_ALONE_TO_SHARED_RIDE_RATIO = 1\n",
    "\n",
    "df_EI = pd.read_csv(r'Public_Dashboard/auxiliary_files/energy_intensity.csv') # r stands for raw string, only matters if the path is on Windows"
   ]
  },
  {
   "cell_type": "code",
   "execution_count": 17,
   "metadata": {},
   "outputs": [
    {
     "data": {
      "text/plain": [
       "'import database_related_functions as drf  # all the emission server functions for this notebook are in here.\\nuser_list, os_map, uuid_program_map = drf.get_participants_programs_and_operating_systems()\\n#print(len(user_list), len(os_map), len(uuid_program_map))\\n\\n# Takes 6 to 14 minutes for the full 1.5 year CEO study plus stage and prepilot.\\n# Takes ~ 1 min 45 s to 2 min 45 s on Macbook Pro for all ceo data up to May 2022.\\nexpanded_labeled_trips = drf.get_expanded_labeled_trips(user_list)\\nexpanded_labeled_trips[\\'os\\'] = expanded_labeled_trips.user_id.map(os_map)\\nexpanded_labeled_trips[\\'program\\'] = expanded_labeled_trips[\\'user_id\\'].map(uuid_program_map)\\n\\nexpanded_labeled_trips = expanded_labeled_trips.drop(labels = [\\'source\\', \\'end_fmt_time\\', \\'end_loc\\', \\'raw_trip\\',\\n    \\'start_fmt_time\\', \\'start_loc\\',\\'start_local_dt_year\\', \\'start_local_dt_month\\', \\'start_local_dt_day\\',\\n    \\'start_local_dt_hour\\', \\'start_local_dt_minute\\', \\'start_local_dt_second\\',\\n    \\'start_local_dt_weekday\\', \\'start_local_dt_timezone\\',\\n    \\'end_local_dt_year\\', \\'end_local_dt_month\\', \\'end_local_dt_day\\',\\n    \\'end_local_dt_hour\\', \\'end_local_dt_minute\\', \\'end_local_dt_second\\',\\n    \\'end_local_dt_weekday\\', \\'end_local_dt_timezone\\'], axis = 1)\\n\\nexpanded_labeled_trips[\\'distance_miles\\'] = expanded_labeled_trips.distance*METERS_TO_MILES\\n\\n# Group together the prepilot participants\\nprepilot_list = [\\'84Q9SsrH\\',\\'cwZazZLJ\\',\\'CudLAeg8\\',\\'sxxcLqbK\\',\\'Q8T7QTXK\\',\\'5KEGHHuf\\',\\'e9MaNVU7\\',\\'7c797MRD\\',\\'rhBZukxY\\',\\'k36cxmfA\\',\\'FmxVf8u6\\',\\'F3jxHLSW\\']\\nexpanded_labeled_trips[\\'program\\'] = expanded_labeled_trips.program.replace(prepilot_list, \"prepilot\")'"
      ]
     },
     "execution_count": 17,
     "metadata": {},
     "output_type": "execute_result"
    }
   ],
   "source": [
    "# Run store_expanded_labeled_trips instead\n",
    "'''import database_related_functions as drf  # all the emission server functions for this notebook are in here.\n",
    "user_list, os_map, uuid_program_map = drf.get_participants_programs_and_operating_systems()\n",
    "#print(len(user_list), len(os_map), len(uuid_program_map))\n",
    "\n",
    "# Takes 6 to 14 minutes for the full 1.5 year CEO study plus stage and prepilot.\n",
    "# Takes ~ 1 min 45 s to 2 min 45 s on Macbook Pro for all ceo data up to May 2022.\n",
    "expanded_labeled_trips = drf.get_expanded_labeled_trips(user_list)\n",
    "expanded_labeled_trips['os'] = expanded_labeled_trips.user_id.map(os_map)\n",
    "expanded_labeled_trips['program'] = expanded_labeled_trips['user_id'].map(uuid_program_map)\n",
    "\n",
    "expanded_labeled_trips = expanded_labeled_trips.drop(labels = ['source', 'end_fmt_time', 'end_loc', 'raw_trip',\n",
    "    'start_fmt_time', 'start_loc','start_local_dt_year', 'start_local_dt_month', 'start_local_dt_day',\n",
    "    'start_local_dt_hour', 'start_local_dt_minute', 'start_local_dt_second',\n",
    "    'start_local_dt_weekday', 'start_local_dt_timezone',\n",
    "    'end_local_dt_year', 'end_local_dt_month', 'end_local_dt_day',\n",
    "    'end_local_dt_hour', 'end_local_dt_minute', 'end_local_dt_second',\n",
    "    'end_local_dt_weekday', 'end_local_dt_timezone'], axis = 1)\n",
    "\n",
    "expanded_labeled_trips['distance_miles'] = expanded_labeled_trips.distance*METERS_TO_MILES\n",
    "\n",
    "# Group together the prepilot participants\n",
    "prepilot_list = ['84Q9SsrH','cwZazZLJ','CudLAeg8','sxxcLqbK','Q8T7QTXK','5KEGHHuf','e9MaNVU7','7c797MRD','rhBZukxY','k36cxmfA','FmxVf8u6','F3jxHLSW']\n",
    "expanded_labeled_trips['program'] = expanded_labeled_trips.program.replace(prepilot_list, \"prepilot\")'''"
   ]
  },
  {
   "cell_type": "code",
   "execution_count": 18,
   "metadata": {},
   "outputs": [],
   "source": [
    "%store -r expanded_labeled_trips"
   ]
  },
  {
   "cell_type": "code",
   "execution_count": 19,
   "metadata": {},
   "outputs": [],
   "source": [
    "unit_dist_MCS_df = pd.read_csv(\"unit_distance_MCS.csv\").set_index(\"moment\")\n",
    "energy_dict = cm_handling.get_energy_dict(df_EI, units='MWH')"
   ]
  },
  {
   "cell_type": "code",
   "execution_count": 20,
   "metadata": {},
   "outputs": [
    {
     "name": "stdout",
     "output_type": "stream",
     "text": [
      "Dropping user labeled AIR trips and trips with no OS.\n",
      "Dropped 93 trips with no sensed sections.\n",
      "Here are the number of labeled trips remaining in each program dataset:\n"
     ]
    },
    {
     "data": {
      "text/plain": [
       "cc          28768\n",
       "pc          17880\n",
       "fc          11744\n",
       "stage       10715\n",
       "sc           9092\n",
       "vail         6348\n",
       "4c           5262\n",
       "prepilot     2425\n",
       "Name: program, dtype: int64"
      ]
     },
     "execution_count": 20,
     "metadata": {},
     "output_type": "execute_result"
    }
   ],
   "source": [
    "expanded_labeled_trips = hf.drop_unwanted_trips(expanded_labeled_trips,drop_not_a_trip=False)\n",
    "expanded_labeled_trips = hf.get_primary_modes(expanded_labeled_trips,energy_dict,MODE_MAPPING_DICT)\n",
    "print('Here are the number of labeled trips remaining in each program dataset:')\n",
    "expanded_labeled_trips.program.value_counts()"
   ]
  },
  {
   "cell_type": "code",
   "execution_count": 21,
   "metadata": {},
   "outputs": [],
   "source": [
    "# Get the confusion matrices and then the EI moments from those.\n",
    "android_confusion = pd.read_csv(\"android_confusion.csv\").set_index('gt_mode')\n",
    "ios_confusion = pd.read_csv(\"ios_confusion.csv\").set_index('gt_mode')\n",
    "\n",
    "android_confusion = cm_handling.collapse_confusion_matrix(android_confusion, rows_to_collapse={\"Train\": [\"Train\"]}, columns_to_collapse={})\n",
    "ios_confusion = cm_handling.collapse_confusion_matrix(ios_confusion, rows_to_collapse={\"Train\": [\"Train\"]}, columns_to_collapse={})\n",
    "\n",
    "# here I'm referring to car_load_factor the number that we divide the drove alone energy intensity by\n",
    "# for r = 1, car_load_factor is 4/3.\n",
    "sensed_car_EI = hf.find_sensed_car_energy_intensity(energy_dict, ECAR_PROPORTION, DROVE_ALONE_TO_SHARED_RIDE_RATIO)\n",
    "energy_dict.update({\"Car, sensed\": sensed_car_EI})\n",
    "expanded_labeled_trips['distance_miles'] = expanded_labeled_trips.distance*METERS_TO_MILES\n",
    "EI_length_cov = 0"
   ]
  },
  {
   "cell_type": "code",
   "execution_count": 91,
   "metadata": {},
   "outputs": [],
   "source": [
    "# note. Approach differently if the android ground truth modes are not the same set as ios ground truth modes in the test dataset.\n",
    "available_ground_truth_modes = android_confusion.index\n",
    "\n",
    "# Previously, with duration CMs, I included no_gt. \n",
    "# However, since no_gt is zero in the trajectory distance CMs, I set all no_gt priors to zero.\n",
    "uniform_prior = hf.construct_prior_dict({\"no_gt\": 0},available_ground_truth_modes)\n",
    "mostly_car_prior = hf.construct_prior_dict({\"Car, sensed\": 0.80, \"Pilot ebike\": 0.05, \"no_gt\": 0}, available_ground_truth_modes)\n",
    "mostly_ebike_prior = hf.construct_prior_dict({\"Pilot ebike\": 0.80, \"Pilot ebike\": 0.05, \"no_gt\": 0}, available_ground_truth_modes)\n",
    "mostly_train_prior = hf.construct_prior_dict({\"Train\": 0.30, \"no_gt\": 0}, available_ground_truth_modes)\n",
    "half_car = hf.construct_prior_dict({\"Car, sensed\": 0.50, \"no_gt\": 0}, available_ground_truth_modes)\n",
    "half_ebike = hf.construct_prior_dict({\"Pilot ebike\": 0.50, \"no_gt\": 0}, available_ground_truth_modes)\n",
    "close_to_CEO_true_car_and_ebike = hf.construct_prior_dict({\"Car, sensed\": 0.7, \"Pilot ebike\": 0.13,\"no_gt\": 0}, available_ground_truth_modes)\n",
    "\n",
    "\n",
    "\n",
    "prior_mode_distributions_map = {\n",
    "    \"80 Percent Car\": mostly_car_prior,\n",
    "    \"80 Percent Ebike\": mostly_ebike_prior,\n",
    "    \"30 Percent Train\": mostly_train_prior,\n",
    "    \"50 Percent Car\": half_car,\n",
    "    \"50 Percent Ebike\": half_ebike,\n",
    "    \"No Bayes Update\": {},\n",
    "    \"MobilityNet Specific to OS\": {},\n",
    "    \"Uniform Prior\": uniform_prior,\n",
    "    \"Close to CEO Mode Distribution\": close_to_CEO_true_car_and_ebike,\n",
    "}\n",
    "#prior_and_error_dataframe_vail,_  = hf.prior_mode_distribution_sensitivity_analysis(expanded_labeled_trips[expanded_labeled_trips.program == 'vail'], prior_mode_distributions_map, android_confusion, ios_confusion, unit_dist_MCS_df, energy_dict, EI_length_cov)"
   ]
  },
  {
   "cell_type": "code",
   "execution_count": 94,
   "metadata": {},
   "outputs": [
    {
     "name": "stdout",
     "output_type": "stream",
     "text": [
      "80 Percent Car\n",
      "Computing energy consumption for each trip.\n",
      "Using EI length covariance = 0.\n",
      "80 Percent Ebike\n",
      "Computing energy consumption for each trip.\n",
      "Using EI length covariance = 0.\n",
      "30 Percent Train\n",
      "Computing energy consumption for each trip.\n",
      "Using EI length covariance = 0.\n",
      "50 Percent Car\n",
      "Computing energy consumption for each trip.\n",
      "Using EI length covariance = 0.\n",
      "50 Percent Ebike\n",
      "Computing energy consumption for each trip.\n",
      "Using EI length covariance = 0.\n",
      "No Bayes Update\n",
      "Computing energy consumption for each trip.\n",
      "Using EI length covariance = 0.\n",
      "MobilityNet Specific to OS\n",
      "Computing energy consumption for each trip.\n",
      "Using EI length covariance = 0.\n",
      "Uniform Prior\n",
      "Computing energy consumption for each trip.\n",
      "Using EI length covariance = 0.\n",
      "Close to CEO Mode Distribution\n",
      "Computing energy consumption for each trip.\n",
      "Using EI length covariance = 0.\n"
     ]
    }
   ],
   "source": [
    "prior_and_error_dataframe,_  = hf.prior_mode_distribution_sensitivity_analysis(\n",
    "    expanded_labeled_trips, \n",
    "    prior_mode_distributions_map, \n",
    "    android_confusion, \n",
    "    ios_confusion, \n",
    "    unit_dist_MCS_df, \n",
    "    energy_dict, \n",
    "    EI_length_cov)"
   ]
  },
  {
   "cell_type": "markdown",
   "metadata": {},
   "source": [
    "### Priors for paper"
   ]
  },
  {
   "cell_type": "code",
   "execution_count": 95,
   "metadata": {},
   "outputs": [
    {
     "name": "stdout",
     "output_type": "stream",
     "text": [
      "\\begin{tabular}{lrrr}\n",
      "\\toprule\n",
      "                 Prior Name &  Percent Error &  Estimated Standard Deviation (SD) &  Number of Standard Deviations to Truth \\\\\n",
      "\\midrule\n",
      "             80 Percent Car &          21.57 &                             136.52 &                                    0.74 \\\\\n",
      "            No Bayes Update &          13.96 &                             152.42 &                                    0.43 \\\\\n",
      " MobilityNet Specific to OS &          13.96 &                             152.42 &                                    0.43 \\\\\n",
      "              Uniform Prior &          15.70 &                             153.73 &                                    0.48 \\\\\n",
      "\\bottomrule\n",
      "\\end{tabular}\n",
      "\n"
     ]
    }
   ],
   "source": [
    "priors_for_paper = [\"80 Percent Car\", \"No Bayes Update\", \"MobilityNet Specific to OS\", \"Uniform Prior\"]\n",
    "print(prior_and_error_dataframe.query('`Prior Name` == @priors_for_paper').round(2).to_latex(index=False))"
   ]
  },
  {
   "cell_type": "code",
   "execution_count": 96,
   "metadata": {},
   "outputs": [
    {
     "data": {
      "text/html": [
       "<div>\n",
       "<style scoped>\n",
       "    .dataframe tbody tr th:only-of-type {\n",
       "        vertical-align: middle;\n",
       "    }\n",
       "\n",
       "    .dataframe tbody tr th {\n",
       "        vertical-align: top;\n",
       "    }\n",
       "\n",
       "    .dataframe thead th {\n",
       "        text-align: right;\n",
       "    }\n",
       "</style>\n",
       "<table border=\"1\" class=\"dataframe\">\n",
       "  <thead>\n",
       "    <tr style=\"text-align: right;\">\n",
       "      <th></th>\n",
       "      <th>Prior Name</th>\n",
       "      <th>Percent Error</th>\n",
       "      <th>Estimated Standard Deviation (SD)</th>\n",
       "      <th>Number of Standard Deviations to Truth</th>\n",
       "    </tr>\n",
       "  </thead>\n",
       "  <tbody>\n",
       "    <tr>\n",
       "      <th>0</th>\n",
       "      <td>80 Percent Car</td>\n",
       "      <td>21.573168</td>\n",
       "      <td>136.518450</td>\n",
       "      <td>0.743791</td>\n",
       "    </tr>\n",
       "    <tr>\n",
       "      <th>1</th>\n",
       "      <td>80 Percent Ebike</td>\n",
       "      <td>15.773328</td>\n",
       "      <td>153.749822</td>\n",
       "      <td>0.482878</td>\n",
       "    </tr>\n",
       "    <tr>\n",
       "      <th>2</th>\n",
       "      <td>30 Percent Train</td>\n",
       "      <td>11.905138</td>\n",
       "      <td>153.743555</td>\n",
       "      <td>0.364474</td>\n",
       "    </tr>\n",
       "    <tr>\n",
       "      <th>3</th>\n",
       "      <td>50 Percent Car</td>\n",
       "      <td>18.851997</td>\n",
       "      <td>140.183538</td>\n",
       "      <td>0.632978</td>\n",
       "    </tr>\n",
       "    <tr>\n",
       "      <th>4</th>\n",
       "      <td>50 Percent Ebike</td>\n",
       "      <td>15.315175</td>\n",
       "      <td>153.653480</td>\n",
       "      <td>0.469146</td>\n",
       "    </tr>\n",
       "    <tr>\n",
       "      <th>5</th>\n",
       "      <td>No Bayes Update</td>\n",
       "      <td>13.962821</td>\n",
       "      <td>152.422821</td>\n",
       "      <td>0.431173</td>\n",
       "    </tr>\n",
       "    <tr>\n",
       "      <th>6</th>\n",
       "      <td>MobilityNet Specific to OS</td>\n",
       "      <td>13.962821</td>\n",
       "      <td>152.422821</td>\n",
       "      <td>0.431173</td>\n",
       "    </tr>\n",
       "    <tr>\n",
       "      <th>7</th>\n",
       "      <td>Uniform Prior</td>\n",
       "      <td>15.696178</td>\n",
       "      <td>153.732361</td>\n",
       "      <td>0.480570</td>\n",
       "    </tr>\n",
       "    <tr>\n",
       "      <th>8</th>\n",
       "      <td>Close to CEO Mode Distribution</td>\n",
       "      <td>20.904255</td>\n",
       "      <td>136.864670</td>\n",
       "      <td>0.718905</td>\n",
       "    </tr>\n",
       "  </tbody>\n",
       "</table>\n",
       "</div>"
      ],
      "text/plain": [
       "                       Prior Name  Percent Error  \\\n",
       "0                  80 Percent Car      21.573168   \n",
       "1                80 Percent Ebike      15.773328   \n",
       "2                30 Percent Train      11.905138   \n",
       "3                  50 Percent Car      18.851997   \n",
       "4                50 Percent Ebike      15.315175   \n",
       "5                 No Bayes Update      13.962821   \n",
       "6      MobilityNet Specific to OS      13.962821   \n",
       "7                   Uniform Prior      15.696178   \n",
       "8  Close to CEO Mode Distribution      20.904255   \n",
       "\n",
       "   Estimated Standard Deviation (SD)  Number of Standard Deviations to Truth  \n",
       "0                         136.518450                                0.743791  \n",
       "1                         153.749822                                0.482878  \n",
       "2                         153.743555                                0.364474  \n",
       "3                         140.183538                                0.632978  \n",
       "4                         153.653480                                0.469146  \n",
       "5                         152.422821                                0.431173  \n",
       "6                         152.422821                                0.431173  \n",
       "7                         153.732361                                0.480570  \n",
       "8                         136.864670                                0.718905  "
      ]
     },
     "execution_count": 96,
     "metadata": {},
     "output_type": "execute_result"
    }
   ],
   "source": [
    "prior_and_error_dataframe"
   ]
  },
  {
   "cell_type": "code",
   "execution_count": 97,
   "metadata": {},
   "outputs": [
    {
     "name": "stdout",
     "output_type": "stream",
     "text": [
      "80 Percent Car\n",
      "Computing energy consumption for each trip.\n",
      "Using EI length covariance = 0.\n",
      "80 Percent Ebike\n",
      "Computing energy consumption for each trip.\n",
      "Using EI length covariance = 0.\n",
      "30 Percent Train\n",
      "Computing energy consumption for each trip.\n",
      "Using EI length covariance = 0.\n",
      "50 Percent Car\n",
      "Computing energy consumption for each trip.\n",
      "Using EI length covariance = 0.\n",
      "50 Percent Ebike\n",
      "Computing energy consumption for each trip.\n",
      "Using EI length covariance = 0.\n",
      "No Bayes Update\n",
      "Computing energy consumption for each trip.\n",
      "Using EI length covariance = 0.\n",
      "MobilityNet Specific to OS\n",
      "Computing energy consumption for each trip.\n",
      "Using EI length covariance = 0.\n",
      "Uniform Prior\n",
      "Computing energy consumption for each trip.\n",
      "Using EI length covariance = 0.\n",
      "Close to CEO Mode Distribution\n",
      "Computing energy consumption for each trip.\n",
      "Using EI length covariance = 0.\n"
     ]
    }
   ],
   "source": [
    "prior_and_error_dataframe_cc,_  = hf.prior_mode_distribution_sensitivity_analysis(expanded_labeled_trips[expanded_labeled_trips.program == \"cc\"], prior_mode_distributions_map, android_confusion, ios_confusion, unit_dist_MCS_df, energy_dict, EI_length_cov)"
   ]
  },
  {
   "cell_type": "code",
   "execution_count": 98,
   "metadata": {},
   "outputs": [
    {
     "name": "stdout",
     "output_type": "stream",
     "text": [
      "sc\n",
      "Uniform Prior\n",
      "Computing energy consumption for each trip.\n",
      "Using EI length covariance = 0.\n",
      "fc\n",
      "Uniform Prior\n",
      "Computing energy consumption for each trip.\n",
      "Using EI length covariance = 0.\n",
      "4c\n",
      "Uniform Prior\n",
      "Computing energy consumption for each trip.\n",
      "Using EI length covariance = 0.\n",
      "stage\n",
      "Uniform Prior\n",
      "Computing energy consumption for each trip.\n",
      "Using EI length covariance = 0.\n",
      "pc\n",
      "Uniform Prior\n",
      "Computing energy consumption for each trip.\n",
      "Using EI length covariance = 0.\n",
      "vail\n",
      "Uniform Prior\n",
      "Computing energy consumption for each trip.\n",
      "Using EI length covariance = 0.\n",
      "cc\n",
      "Uniform Prior\n",
      "Computing energy consumption for each trip.\n",
      "Using EI length covariance = 0.\n",
      "prepilot\n",
      "Uniform Prior\n",
      "Computing energy consumption for each trip.\n",
      "Using EI length covariance = 0.\n"
     ]
    }
   ],
   "source": [
    "# Uniform priors for each program\n",
    "prior_mode_distributions_map = {\"Uniform Prior\": uniform_prior}\n",
    "uniform_prior_dataframe_map = {}\n",
    "for program in expanded_labeled_trips.program.unique():\n",
    "    print(program)\n",
    "    uniform_prior_df, _ = hf.prior_mode_distribution_sensitivity_analysis(\n",
    "        expanded_labeled_trips[expanded_labeled_trips.program == program], \n",
    "        prior_mode_distributions_map, android_confusion, ios_confusion, \n",
    "        unit_dist_MCS_df, energy_dict, EI_length_cov\n",
    "        )\n",
    "    uniform_prior_df[\"program\"] = program\n",
    "    uniform_prior_dataframe_map[program] = uniform_prior_df\n",
    "uniform_prior_df_all_programs = pd.concat(uniform_prior_dataframe_map, ignore_index=True)"
   ]
  },
  {
   "cell_type": "code",
   "execution_count": 99,
   "metadata": {},
   "outputs": [
    {
     "data": {
      "text/html": [
       "<div>\n",
       "<style scoped>\n",
       "    .dataframe tbody tr th:only-of-type {\n",
       "        vertical-align: middle;\n",
       "    }\n",
       "\n",
       "    .dataframe tbody tr th {\n",
       "        vertical-align: top;\n",
       "    }\n",
       "\n",
       "    .dataframe thead th {\n",
       "        text-align: right;\n",
       "    }\n",
       "</style>\n",
       "<table border=\"1\" class=\"dataframe\">\n",
       "  <thead>\n",
       "    <tr style=\"text-align: right;\">\n",
       "      <th></th>\n",
       "      <th>Prior Name</th>\n",
       "      <th>Percent Error</th>\n",
       "      <th>Estimated Standard Deviation (SD)</th>\n",
       "      <th>Number of Standard Deviations to Truth</th>\n",
       "    </tr>\n",
       "    <tr>\n",
       "      <th>program</th>\n",
       "      <th></th>\n",
       "      <th></th>\n",
       "      <th></th>\n",
       "      <th></th>\n",
       "    </tr>\n",
       "  </thead>\n",
       "  <tbody>\n",
       "    <tr>\n",
       "      <th>sc</th>\n",
       "      <td>Uniform Prior</td>\n",
       "      <td>10.515667</td>\n",
       "      <td>7.220534</td>\n",
       "      <td>0.549044</td>\n",
       "    </tr>\n",
       "    <tr>\n",
       "      <th>fc</th>\n",
       "      <td>Uniform Prior</td>\n",
       "      <td>19.837382</td>\n",
       "      <td>8.856299</td>\n",
       "      <td>0.868093</td>\n",
       "    </tr>\n",
       "    <tr>\n",
       "      <th>4c</th>\n",
       "      <td>Uniform Prior</td>\n",
       "      <td>3.272010</td>\n",
       "      <td>9.946720</td>\n",
       "      <td>0.078192</td>\n",
       "    </tr>\n",
       "    <tr>\n",
       "      <th>stage</th>\n",
       "      <td>Uniform Prior</td>\n",
       "      <td>6.030970</td>\n",
       "      <td>21.553792</td>\n",
       "      <td>0.209436</td>\n",
       "    </tr>\n",
       "    <tr>\n",
       "      <th>pc</th>\n",
       "      <td>Uniform Prior</td>\n",
       "      <td>30.909686</td>\n",
       "      <td>29.960071</td>\n",
       "      <td>0.990314</td>\n",
       "    </tr>\n",
       "    <tr>\n",
       "      <th>vail</th>\n",
       "      <td>Uniform Prior</td>\n",
       "      <td>11.251835</td>\n",
       "      <td>14.461729</td>\n",
       "      <td>0.253345</td>\n",
       "    </tr>\n",
       "    <tr>\n",
       "      <th>cc</th>\n",
       "      <td>Uniform Prior</td>\n",
       "      <td>13.528741</td>\n",
       "      <td>62.793950</td>\n",
       "      <td>0.333913</td>\n",
       "    </tr>\n",
       "    <tr>\n",
       "      <th>prepilot</th>\n",
       "      <td>Uniform Prior</td>\n",
       "      <td>21.816170</td>\n",
       "      <td>3.262432</td>\n",
       "      <td>0.807205</td>\n",
       "    </tr>\n",
       "  </tbody>\n",
       "</table>\n",
       "</div>"
      ],
      "text/plain": [
       "             Prior Name  Percent Error  Estimated Standard Deviation (SD)  \\\n",
       "program                                                                     \n",
       "sc        Uniform Prior      10.515667                           7.220534   \n",
       "fc        Uniform Prior      19.837382                           8.856299   \n",
       "4c        Uniform Prior       3.272010                           9.946720   \n",
       "stage     Uniform Prior       6.030970                          21.553792   \n",
       "pc        Uniform Prior      30.909686                          29.960071   \n",
       "vail      Uniform Prior      11.251835                          14.461729   \n",
       "cc        Uniform Prior      13.528741                          62.793950   \n",
       "prepilot  Uniform Prior      21.816170                           3.262432   \n",
       "\n",
       "          Number of Standard Deviations to Truth  \n",
       "program                                           \n",
       "sc                                      0.549044  \n",
       "fc                                      0.868093  \n",
       "4c                                      0.078192  \n",
       "stage                                   0.209436  \n",
       "pc                                      0.990314  \n",
       "vail                                    0.253345  \n",
       "cc                                      0.333913  \n",
       "prepilot                                0.807205  "
      ]
     },
     "execution_count": 99,
     "metadata": {},
     "output_type": "execute_result"
    }
   ],
   "source": [
    "# these percent errors seem similar to those we get with the predicted values and no uncertainty.\n",
    "uniform_prior_df_all_programs.set_index('program')"
   ]
  },
  {
   "cell_type": "code",
   "execution_count": 100,
   "metadata": {},
   "outputs": [
    {
     "data": {
      "text/plain": [
       "gt_mode\n",
       "Walk             0.027579\n",
       "Regular Bike     0.009059\n",
       "Pilot ebike      0.030208\n",
       "Scooter share    0.013426\n",
       "Car, sensed      0.082845\n",
       "Bus              0.141820\n",
       "no_gt            0.000000\n",
       "Train            0.695063\n",
       "dtype: float64"
      ]
     },
     "execution_count": 100,
     "metadata": {},
     "output_type": "execute_result"
    }
   ],
   "source": [
    "durations_in_modes = android_confusion.sum(axis=1)\n",
    "prior_mode_probs = durations_in_modes/android_confusion.sum().sum()\n",
    "\n",
    "\n",
    "# for each prior: compute energy consumption.\n",
    "android_EI_moments_df = cm_handling.get_conditional_EI_expectation_and_variance(android_confusion,energy_dict)\n",
    "ios_EI_moments_df = cm_handling.get_conditional_EI_expectation_and_variance(ios_confusion,energy_dict)\n",
    "os_EI_moments_map = {'ios': ios_EI_moments_df, 'android': android_EI_moments_df}\n",
    "prior_mode_probs"
   ]
  }
 ],
 "metadata": {
  "kernelspec": {
   "display_name": "Python 3.7.12 ('emission-private-eval')",
   "language": "python",
   "name": "python3"
  },
  "language_info": {
   "codemirror_mode": {
    "name": "ipython",
    "version": 3
   },
   "file_extension": ".py",
   "mimetype": "text/x-python",
   "name": "python",
   "nbconvert_exporter": "python",
   "pygments_lexer": "ipython3",
   "version": "3.7.12"
  },
  "orig_nbformat": 4,
  "vscode": {
   "interpreter": {
    "hash": "73ac5b45931ab4dd3f8e07a8d0e5daf0146eed4821bf42374f6ac6fa4af28c83"
   }
  }
 },
 "nbformat": 4,
 "nbformat_minor": 2
}
