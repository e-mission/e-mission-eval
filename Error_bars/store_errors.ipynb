{
 "cells": [
  {
   "cell_type": "markdown",
   "metadata": {},
   "source": [
    "## Save confusion matrices and distance errors, and construct MODE_MAPPING_DICT"
   ]
  },
  {
   "cell_type": "code",
   "execution_count": null,
   "metadata": {},
   "outputs": [],
   "source": [
    "%load_ext autoreload\n",
    "%autoreload 2\n",
    "\n",
    "import pandas as pd\n",
    "import numpy as np\n",
    "import statistics\n",
    "\n",
    "import confusion_matrix_handling as cm_handling\n",
    "from confusion_matrix_handling import MODE_MAPPING_DICT\n",
    "\n",
    "import sklearn.model_selection as skm\n",
    "\n",
    "df_EI = pd.read_csv(r'Public_Dashboard/auxiliary_files/energy_intensity.csv')"
   ]
  },
  {
   "cell_type": "code",
   "execution_count": null,
   "metadata": {},
   "outputs": [],
   "source": [
    "# Base mode map for GIS. Not directly used in this notebook but nice to see the modes the sensing algorithm labels.\n",
    "gis_sensed_modes = {0 : 'no_sensed',    # UNKNOWN  #NOTE: this is important info to mention.\n",
    "        1 : 'walking',    # WALKING\n",
    "        2 : 'bicycling',    # BICYCLING\n",
    "        3 : 'bus',        # BUS\n",
    "        4 : 'train',      # TRAIN\n",
    "        5 : 'car',        # CAR\n",
    "        6 : 'air_or_hsr', # AIR_OR_HSR\n",
    "        7 : 'subway',      # SUBWAY\n",
    "        8 : 'train',      # TRAM\n",
    "        9 : 'train',      # LIGHT_RAIL\n",
    "}\n",
    "\n",
    "# Dictionary of energy intensities in kWH/PMT\n",
    "energy_dict = cm_handling.get_energy_dict(df_EI)\n",
    "\n",
    "\n",
    "# sensed_car -> (via MODE_MAPPING_DICT) “Car, sensed” in energy dict, \n",
    "# which is used for the ground truth car intensity in get_conditional_EI_expectation_and_variance(). \n",
    "# Then the sensed mode will show car, but the EI used will be based on a car with a 1.5 person load factor.\n",
    "drove_alone_EI = energy_dict[\"Gas Car, drove alone\"]\n",
    "r = 1\n",
    "load_factor = (r+1)/(r+1/2) \n",
    "energy_dict.update({\"Car, sensed\": drove_alone_EI/load_factor})"
   ]
  },
  {
   "cell_type": "markdown",
   "metadata": {},
   "source": [
    "### Saving distance error info\n",
    "Some notes:\n",
    "sampling from the kde directly for ios gives relative errors smaller than -1, which isn't possible. The gaussian_kde function makes a small bump centered at -1. Also, if we get arbitrarily close to -1, we can get an arbitrarily large estimate of the actual length (1/(1+R) where R is the relative error).\n",
    "\n",
    "Since we are not worrying about completely missed trips, I am dropping the relative error of -1 before finding a kde. It still allows for the possibility of a relative error of -1, but with a smaller chance."
   ]
  },
  {
   "cell_type": "code",
   "execution_count": null,
   "metadata": {},
   "outputs": [],
   "source": [
    "# these are dataframes at the moment. I just learned that \"store -r\" tries to read variables \n",
    "# from the comment if it is in the same line.\n",
    "%store -r r_err_ios\n",
    "%store -r r_err_and"
   ]
  },
  {
   "cell_type": "code",
   "execution_count": null,
   "metadata": {},
   "outputs": [],
   "source": [
    "%store -r android_confusion_GIS_HAMFDC"
   ]
  },
  {
   "cell_type": "code",
   "execution_count": null,
   "metadata": {},
   "outputs": [],
   "source": [
    "## Sample from distance errors to get a distribution of possible distances.\n",
    "import scipy.stats\n",
    "\n",
    "# save kde objects of these. we can use gaussian_kde.resample() \n",
    "# to sample from the pdf of relative errors in a Monte Carlo simulation to get trip length variance.\n",
    "android_rel_error_array = np.array(r_err_and).flatten()\n",
    "kde_android_HAMFDC = scipy.stats.gaussian_kde(android_rel_error_array)\n",
    "\n",
    "ios_array = np.array(r_err_ios).flatten()\n",
    "cleaned_r_err_ios = ios_array[ios_array > -1]\n",
    "kde_ios_HAHFDC = scipy.stats.gaussian_kde(cleaned_r_err_ios)\n",
    "\n",
    "# Monte Carlo (MC) simulate android relative distance errors (R).\n",
    "# This cell takes 27 seconds for NMC= 10**8\n",
    "NMC = 10**8\n",
    "android_R_MC = kde_android_HAMFDC.resample(size = NMC).flatten()\n",
    "ios_R_MC = kde_ios_HAHFDC.resample(size = NMC).flatten()\n",
    "# old\n",
    "'''android_rel_dist_errors = pd.read_csv(\"android_rel_distance_errors.csv\")\n",
    "ios_rel_dist_errors = pd.read_csv(\"ios_rel_distance_errors.csv\")\n",
    "\n",
    "# Monte Carlo (MC) simulate android relative distance errors (R).\n",
    "android_R_MC = np.random.choice(android_rel_dist_errors['x'], size = 10**5, p= android_rel_dist_errors['p(x)'])\n",
    "ios_R_MC = np.random.choice(ios_rel_dist_errors['x'], size = 10**5, p= ios_rel_dist_errors['p(x)'])'''\n",
    "\n",
    "# Compute a Monte Carlo simulated (MCS) distance estimate for a unit length trip, given the relative error.\n",
    "# Inputs: inferred trip length of 1, randomly assigned relative error.\n",
    "# Output: an estimate of the \"true\" distance based on the relative error. \n",
    "# Since relative error is typically negative, the \"true\" distance will usually be bigger than the inferred distance.\n",
    "android_MCS_dist = 1/(1+ android_R_MC)\n",
    "ios_MCS_dist = 1/(1 + ios_R_MC)\n",
    "\n",
    "# Compute the sample means and variances.\n",
    "android_unit_dist_MCS_summary = {\"mean\": np.mean(android_MCS_dist), \"var\": np.var(android_MCS_dist, ddof = 1)}\n",
    "ios_unit_dist_MCS_summary = {\"mean\": np.mean(ios_MCS_dist), \"var\": np.var(ios_MCS_dist, ddof = 1)}\n",
    "\n",
    "unit_dist_MCS_df = pd.DataFrame({\"android\":android_unit_dist_MCS_summary, \"ios\":ios_unit_dist_MCS_summary})\n",
    "unit_dist_MCS_df.to_csv(\"/Users/mallen2/OpenPATH_Data/e-mission-eval-private-data/Error_bars/unit_distance_MCS.csv\", index_label= \"moment\")"
   ]
  },
  {
   "cell_type": "markdown",
   "metadata": {},
   "source": [
    "### Saving confusion matrices"
   ]
  },
  {
   "cell_type": "code",
   "execution_count": null,
   "metadata": {},
   "outputs": [],
   "source": [
    "# store these with mobilitynet_analysis_scripts/classification_analysis.ipynb\n",
    "%store -r android_confusion_GIS_HAMFDC\n",
    "%store -r ios_confusion_GIS_HAHFDC"
   ]
  },
  {
   "cell_type": "code",
   "execution_count": null,
   "metadata": {},
   "outputs": [],
   "source": [
    "# Very important step\n",
    "android_confusion_GIS_HAMFDC = android_confusion_GIS_HAMFDC.rename(mapper= {\"car\": \"sensed_car\"}, axis=\"index\")\n",
    "ios_confusion_GIS_HAHFDC = ios_confusion_GIS_HAHFDC.rename(mapper= {\"car\": \"sensed_car\"}, axis=\"index\")"
   ]
  },
  {
   "cell_type": "code",
   "execution_count": null,
   "metadata": {},
   "outputs": [],
   "source": [
    "ios_confusion_GIS_HAHFDC"
   ]
  },
  {
   "cell_type": "code",
   "execution_count": null,
   "metadata": {},
   "outputs": [],
   "source": [
    "# This cell is to save copies of the confusion matrices with ground truth labels that are consistent with those seen in energy_intensity.csv\n",
    "\n",
    "# Android\n",
    "collapsed_android_cm = cm_handling.collapse_confusion_matrix(android_confusion_GIS_HAMFDC,\n",
    "        rows_to_collapse = {\"no_gt\": [\"no_gt_start\",\"no_gt_middle\", \"no_gt_end\"]},\n",
    "        columns_to_collapse = {\"no_sensed\": [\"no_sensed_start\",\"no_sensed_middle\",\"no_sensed_end\"]})\n",
    "collapsed_android_cm = collapsed_android_cm.rename(mapper= MODE_MAPPING_DICT, axis=\"index\")\n",
    "\n",
    "# IOS\n",
    "collapsed_ios_cm = cm_handling.collapse_confusion_matrix(ios_confusion_GIS_HAHFDC,\n",
    "        rows_to_collapse = {\"no_gt\": [\"no_gt_start\",\"no_gt_middle\", \"no_gt_end\"]},\n",
    "        columns_to_collapse = {\"no_sensed\": [\"no_sensed_start\",\"no_sensed_middle\",\"no_sensed_end\"]})\n",
    "collapsed_ios_cm = collapsed_ios_cm.rename(mapper= MODE_MAPPING_DICT, axis=\"index\")\n",
    "\n",
    "# Store them\n",
    "collapsed_android_cm.to_csv(\"/Users/mallen2/OpenPATH_Data/e-mission-eval-private-data/Error_bars/android_confusion.csv\", index_label= \"gt_mode\")\n",
    "collapsed_ios_cm.to_csv(\"/Users/mallen2/OpenPATH_Data/e-mission-eval-private-data/Error_bars/ios_confusion.csv\", index_label = \"gt_mode\")"
   ]
  },
  {
   "cell_type": "markdown",
   "metadata": {},
   "source": [
    "### The code below was used to generate MODE_MAPPING_DICT.\n",
    "I copied the printed version of dic_mode to the end of confusion_matrix_handling.py and named it MODE_MAPPING_DICT.\n",
    "Note that modes similar to \"car\" or \"carpool\" labels get mapped to \"Gas Car, drove alone\" or \"Gas Car, with others\"."
   ]
  },
  {
   "cell_type": "code",
   "execution_count": null,
   "metadata": {},
   "outputs": [],
   "source": [
    "# dic_re is generated in mapping_dictionaries.ipynb\n",
    "%store -r dic_re\n",
    "# Note: dic_mode is most relevant for energy and carbon intensities. We may want to use a different mapping for mode share.\n",
    "dic_mode = dic_re.copy()\n",
    "\n",
    "# Add old mode labels.\n",
    "old_mode_labels = {\"Bike\": \"Regular Bike\", \"pilot_ebike\": \"Pilot ebike\",\"e-bike\": \"Pilot ebike\",\n",
    "                    \"Drove Alone\": \"Gas Car, drove alone\", \n",
    "                    \"Shared Ride\": \"Gas Car, with others\", \n",
    "                    \"taxi\": \"Taxi/Uber/Lyft\",\n",
    "                    \"Air\": \"Air\"}\n",
    "\n",
    "dic_mode.update(old_mode_labels)\n",
    "\n",
    "# Add the mode labels from the energy intensity csv just in case.\n",
    "dic_mode.update({m:m for m in df_EI['mode']}) \n",
    "\n",
    "# Add the ground truth labels from mobilitynet.\n",
    "mobilitynet_gis_gt = {\n",
    "    \"walking\": \"Walk\",\n",
    "    \"bicycling\": \"Regular Bike\",\n",
    "    \"escooter\": \"Scooter share\",\n",
    "    \"ebike\": \"Pilot ebike\",\n",
    "    \"e_bike\": \"Pilot ebike\",\n",
    "    \"car\": \"Gas Car, drove alone\",  # car BTU: 5170,     #1 BTU = 0.000293071 kWH\n",
    "    \"bus\": \"Bus\",  # bus BTU: 4560\n",
    "    \"subway\": \"Train\",     # using train value\n",
    "    \"light_rail\": \"Train\",  # using train value\n",
    "    \"train\": \"Train\",\n",
    "    \"no_gt\": \"no_gt\"\n",
    "}\n",
    "\n",
    "# There is a difference between the ground truth possible values and the possible inferred values.\n",
    "\n",
    "\n",
    "# Add other label assist labels\n",
    "la_mode = {'air': \"Air\",  \n",
    "    'car': \"Gas Car, drove alone\",\n",
    "    'electric_vehicle': \"E-car, drove alone\",\n",
    "    'skiing': \"Walk\",\n",
    "    'snowboarding': \"Walk\",\n",
    "    'subway': \"Train\" } \n",
    "\n",
    "dic_mode.update(la_mode)\n",
    "dic_mode.update(mobilitynet_gis_gt)\n",
    "dic_mode.update({\"air_or_hsr\": \"Train\", \"no_sensed\":\"Not a Trip\", \"sensed_car\": \"Car, sensed\"})\n",
    "\n",
    "#dic_mode = defaultdict(lambda: 'Other',dic_mode) # not in use at the moment since we have no  \"other\" EI"
   ]
  },
  {
   "cell_type": "code",
   "execution_count": null,
   "metadata": {},
   "outputs": [],
   "source": [
    "# Checking to make sure I didn't make a change directly to MODE_MAPPING_DICT in confusion_matrix_handling.py without changing it in the cell above.\n",
    "# (confusion_matrix_handling.py has a fully written out version of dic_mode)\n",
    "NEW_MODE_MAPPING_DICT = dic_mode\n",
    "\n",
    "for key in MODE_MAPPING_DICT:\n",
    "    if MODE_MAPPING_DICT[key] != NEW_MODE_MAPPING_DICT[key]:\n",
    "        print(f\"key value difference: the value of {key} in MODE_MAPPING_DICT is {MODE_MAPPING_DICT[key]}, but in NEW_MODE_MAPPING_DICT it is {NEW_MODE_MAPPING_DICT[key]}\")\n",
    "\n",
    "for key in NEW_MODE_MAPPING_DICT:\n",
    "    if MODE_MAPPING_DICT[key] != NEW_MODE_MAPPING_DICT[key]:\n",
    "        print(f\"key value difference: the value of {key} in MODE_MAPPING_DICT is {MODE_MAPPING_DICT[key]}, but in NEW_MODE_MAPPING_DICT it is {NEW_MODE_MAPPING_DICT[key]}\")\n",
    "len(NEW_MODE_MAPPING_DICT.keys()), len(MODE_MAPPING_DICT.keys())"
   ]
  },
  {
   "cell_type": "code",
   "execution_count": null,
   "metadata": {},
   "outputs": [],
   "source": [
    "# copy and paste this into cm_handling if you made changes.\n",
    "NEW_MODE_MAPPING_DICT"
   ]
  }
 ],
 "metadata": {
  "kernelspec": {
   "display_name": "Python 3.7.12 ('emission-private-eval')",
   "language": "python",
   "name": "python3"
  },
  "language_info": {
   "codemirror_mode": {
    "name": "ipython",
    "version": 3
   },
   "file_extension": ".py",
   "mimetype": "text/x-python",
   "name": "python",
   "nbconvert_exporter": "python",
   "pygments_lexer": "ipython3",
   "version": "3.7.12"
  },
  "orig_nbformat": 4,
  "vscode": {
   "interpreter": {
    "hash": "73ac5b45931ab4dd3f8e07a8d0e5daf0146eed4821bf42374f6ac6fa4af28c83"
   }
  }
 },
 "nbformat": 4,
 "nbformat_minor": 2
}
