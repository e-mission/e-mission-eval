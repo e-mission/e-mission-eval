{
 "cells": [
  {
   "cell_type": "markdown",
   "metadata": {},
   "source": [
    "# Simulate trips counts with a toy model\n",
    "This notebook attempts to look at what happens when we know the probabilities of our model choosing each mode and the actual numbers of each mode.\n",
    "The toy model is just random choice. It randomly chooses trips to be car or ebike, with different chances depending on the actual mode.\n",
    "\n",
    "This can help us better understand how our estimates behave."
   ]
  },
  {
   "cell_type": "code",
   "execution_count": 4,
   "metadata": {},
   "outputs": [],
   "source": [
    "%load_ext autoreload\n",
    "%autoreload 2\n",
    "\n",
    "import pandas as pd\n",
    "import numpy as np\n",
    "from uuid import UUID\n",
    "\n",
    "import matplotlib.pyplot as plt"
   ]
  },
  {
   "cell_type": "markdown",
   "metadata": {},
   "source": [
    "### Ways to represent uncertain class probabilities\n",
    "For two classes, we can use a Beta distribution. Here is a great interactive visualization of the beta distribution. https://www.acsu.buffalo.edu/~adamcunn/probability/beta.html \\\n",
    "For >2 classes - Dirichlet distribution."
   ]
  },
  {
   "cell_type": "code",
   "execution_count": 16,
   "metadata": {},
   "outputs": [
    {
     "data": {
      "image/png": "[encoded data removed]",
      "text/plain": [
       "<Figure size 432x288 with 1 Axes>"
      ]
     },
     "metadata": {
      "needs_background": "light"
     },
     "output_type": "display_data"
    }
   ],
   "source": [
    "from scipy.stats import beta\n",
    "import matplotlib.pyplot as plt\n",
    "\n",
    "# Imagine you are looking at the distribution of the probability a trip is car.\n",
    "# That's what I'm trying to represent here. See https://en.wikipedia.org/wiki/Beta_distribution. \n",
    "# If a and b are equal, then we have no reason to favor p(car) vs p(not car).\n",
    "# Let p ~ Beta(a,b)\n",
    "# E[p] = a/(a + b)\n",
    "# Var(p) = ab/[(a+b)^2 * (a + b + 1)] \n",
    "a =  6\n",
    "b = 2\n",
    "x = np.arange (0.01, 1, 0.01)\n",
    "y = beta.pdf(x,a,b)\n",
    "plt.plot(x,y); plt.show()"
   ]
  },
  {
   "cell_type": "markdown",
   "metadata": {},
   "source": [
    "#### Dirichlet example\n",
    "Based on the example in https://numpy.org/doc/stable/reference/random/generated/numpy.random.dirichlet.html.\n",
    "See also: https://en.wikipedia.org/wiki/Dirichlet_distribution"
   ]
  },
  {
   "cell_type": "code",
   "execution_count": 9,
   "metadata": {},
   "outputs": [
    {
     "data": {
      "image/png": "[encoded data removed]",
      "text/plain": [
       "<Figure size 432x288 with 1 Axes>"
      ]
     },
     "metadata": {
      "needs_background": "light"
     },
     "output_type": "display_data"
    }
   ],
   "source": [
    "# If we cut a string into 3 pieces and each piece is meant to have some average length. What if we allow variation in each length?\n",
    "# We set all three Dirichlet parameters to the same value, we favor no piece over the other.\n",
    "import matplotlib.pyplot as plt\n",
    "from numpy.random import default_rng\n",
    "rng = default_rng()\n",
    "s = rng.dirichlet((1,1,1),20).transpose()\n",
    "plt.barh(range(20), s[0])\n",
    "\n",
    "plt.barh(range(20), s[1], left=s[0], color='tab:orange')\n",
    "\n",
    "plt.barh(range(20), s[2], left=s[0]+s[1], color='r')\n",
    "\n",
    "plt.title(\"Lengths of Strings\"); plt.show()"
   ]
  },
  {
   "cell_type": "code",
   "execution_count": 10,
   "metadata": {},
   "outputs": [
    {
     "data": {
      "image/png": "[encoded data removed]",
      "text/plain": [
       "<Figure size 432x288 with 1 Axes>"
      ]
     },
     "metadata": {
      "needs_background": "light"
     },
     "output_type": "display_data"
    }
   ],
   "source": [
    "# If we want the distribtion concentrated more on the first string.\n",
    "import matplotlib.pyplot as plt\n",
    "from numpy.random import default_rng\n",
    "rng = default_rng()\n",
    "s = rng.dirichlet((10,3,1),20).transpose()\n",
    "plt.barh(range(20), s[0])\n",
    "\n",
    "plt.barh(range(20), s[1], left=s[0], color='tab:orange')\n",
    "\n",
    "plt.barh(range(20), s[2], left=s[0]+s[1], color='r')\n",
    "\n",
    "plt.title(\"Lengths of Strings\"); plt.show()"
   ]
  },
  {
   "cell_type": "markdown",
   "metadata": {},
   "source": [
    "### Example of going from P(predicted | ground truth) to P(ground truth | predicted) using prior mode probabilities.\n",
    "Ground truth is on the rows, predicted on columns"
   ]
  },
  {
   "cell_type": "code",
   "execution_count": 23,
   "metadata": {},
   "outputs": [
    {
     "data": {
      "text/html": [
       "<div>\n",
       "<style scoped>\n",
       "    .dataframe tbody tr th:only-of-type {\n",
       "        vertical-align: middle;\n",
       "    }\n",
       "\n",
       "    .dataframe tbody tr th {\n",
       "        vertical-align: top;\n",
       "    }\n",
       "\n",
       "    .dataframe thead th {\n",
       "        text-align: right;\n",
       "    }\n",
       "</style>\n",
       "<table border=\"1\" class=\"dataframe\">\n",
       "  <thead>\n",
       "    <tr style=\"text-align: right;\">\n",
       "      <th></th>\n",
       "      <th>ebike</th>\n",
       "      <th>car</th>\n",
       "    </tr>\n",
       "  </thead>\n",
       "  <tbody>\n",
       "    <tr>\n",
       "      <th>car</th>\n",
       "      <td>0.432432</td>\n",
       "      <td>0.631579</td>\n",
       "    </tr>\n",
       "    <tr>\n",
       "      <th>ebike</th>\n",
       "      <td>0.567568</td>\n",
       "      <td>0.368421</td>\n",
       "    </tr>\n",
       "  </tbody>\n",
       "</table>\n",
       "</div>"
      ],
      "text/plain": [
       "          ebike       car\n",
       "car    0.432432  0.631579\n",
       "ebike  0.567568  0.368421"
      ]
     },
     "execution_count": 23,
     "metadata": {},
     "output_type": "execute_result"
    }
   ],
   "source": [
    "# Together, these to are like our confusion matrix.\n",
    "p_sensed_given_actual_car = {\"ebike\": 0.4, \"car\": 0.6} \n",
    "p_sensed_given_actual_ebike = {\"ebike\": 0.6, \"car\": 0.4}\n",
    "\n",
    "prior_mode_probs = {\"car\": 0.8, \"ebike\":  0.7}\n",
    "row_normalized_confusion_matrix = pd.DataFrame({\"ebike\": p_sensed_given_actual_ebike, \"car\": p_sensed_given_actual_car})\n",
    "likelihood_times_priors = row_normalized_confusion_matrix.multiply(pd.Series(prior_mode_probs), axis='rows')\n",
    "normalizing_constants = likelihood_times_priors.sum(axis='rows')\n",
    "prob_actual_given_predicted_df = likelihood_times_priors.divide(normalizing_constants, axis='columns').copy()\n",
    "prob_actual_given_predicted_df"
   ]
  },
  {
   "cell_type": "markdown",
   "metadata": {},
   "source": [
    "### A look at modeshare\n",
    "**Note that as the true distribution of car vs ebike gets further from our prior mode distribution, \n",
    "our estimates for the counts get further from the truth. The distance in standard deviations also becomes larger.**\n",
    "- if the prior probabilities are 50-50, then cases of 10-90 or 90-10 are where the estimate is worst."
   ]
  },
  {
   "cell_type": "code",
   "execution_count": 24,
   "metadata": {},
   "outputs": [
    {
     "name": "stdout",
     "output_type": "stream",
     "text": [
      "Actual counts: 300 car trips, 700 ebike trips\n",
      "\tPredicted counts: (car, ebike): (348, 652). n standard deviations: 0.41, -0.22\n",
      "\tExpected counts: (car, ebike): (378.4, 621.6). n standard deviations: 0.66, -0.35\n",
      "\tsd car, ebike: 118.04,221.72\n",
      "Actual counts: 400 car trips, 600 ebike trips\n",
      "\tPredicted counts: (car, ebike): (427, 573). n standard deviations: 0.24, -0.13\n",
      "\tExpected counts: (car, ebike): (441.6, 558.4). n standard deviations: 0.36, -0.19\n",
      "\tsd car, ebike: 114.14,214.38\n",
      "Actual counts: 500 car trips, 500 ebike trips\n",
      "\tPredicted counts: (car, ebike): (498, 502). n standard deviations: -0.02, 0.01\n",
      "\tExpected counts: (car, ebike): (498.4, 501.6). n standard deviations: -0.01, 0.01\n",
      "\tsd car, ebike: 112.94,212.13\n",
      "Actual counts: 600 car trips, 400 ebike trips\n",
      "\tPredicted counts: (car, ebike): (587, 413). n standard deviations: -0.11, 0.06\n",
      "\tExpected counts: (car, ebike): (569.6, 430.4). n standard deviations: -0.27, 0.14\n",
      "\tsd car, ebike: 114.64,215.32\n",
      "Actual counts: 700 car trips, 300 ebike trips\n",
      "\tPredicted counts: (car, ebike): (657, 343). n standard deviations: -0.36, 0.19\n",
      "\tExpected counts: (car, ebike): (625.6, 374.4). n standard deviations: -0.63, 0.33\n",
      "\tsd car, ebike: 118.38,222.34\n",
      "Actual counts: 800 car trips, 200 ebike trips\n",
      "\tPredicted counts: (car, ebike): (748, 252). n standard deviations: -0.41, 0.22\n",
      "\tExpected counts: (car, ebike): (698.4, 301.6). n standard deviations: -0.81, 0.43\n",
      "\tsd car, ebike: 126.07,236.79\n",
      "Actual counts: 900 car trips, 100 ebike trips\n",
      "\tPredicted counts: (car, ebike): (826, 174). n standard deviations: -0.55, 0.29\n",
      "\tExpected counts: (car, ebike): (760.8, 239.2). n standard deviations: -1.03, 0.55\n",
      "\tsd car, ebike: 134.82,253.24\n"
     ]
    }
   ],
   "source": [
    "# Note: in my simulation, the true chance of predicted mode given actual mode is the same as the value I use in my confusion matrix.\n",
    "# This is not the case with real data - the mobilitynet confusion matrix approximates the true chances of predicted given actual.\n",
    "\n",
    "def trip_set_simulator_mode_counts(n_car, n_ebike, trip_distance, NMC, prior_mode_probs,\n",
    "                                p_sensed_given_actual_car, \n",
    "                                p_sensed_given_actual_ebike\n",
    "                                ):\n",
    "    '''\n",
    "    Simulate mode count calculations for 2 modes: car and ebike.\n",
    "    Start with a set of actual modes, and then assign sensed modes based on probabilities that depend on the actual mode.\n",
    "        For example, if the actual mode is car and p_sensed_given_actual_car = [0.4,0.6], \n",
    "        then there is a 40% chance that we will predict ebike and 60% chance of predicting car.\n",
    "    It might be better to reformat p_sensed_given_actual_car and p_sensed_given_actual_ebike as one row normalized confusion matrix input.\n",
    "\n",
    "    Inputs:\n",
    "    n_car: the number of actual car trips to include.\n",
    "    n_ebike: number of actual ebike trips.\n",
    "    NMC: number of monte carlo simulations. \n",
    "        Looks like I did not build it into this function yet, \n",
    "        but we could run multiple simulations for a given number of car and ebike trips and see how the estimates vary.\n",
    "\n",
    "    The following are dictionaries by mode with two keys: car and ebike.\n",
    "    prior_mode_probs:  The assumed prior distribution (or prevalence) of each mode.\n",
    "    p_sensed_given_actual_car: The probabilities of predicting either car or ebike given that the actual mode is car.\n",
    "    p_sensed_given_actual_ebike: The probabilities of predicting either car or ebike given that the actual mode is ebike.\n",
    "\n",
    "    Outputs:\n",
    "    prints the number of car and ebike trips randomly predicted by our \"model\". \n",
    "    prints the \"expected\" number of car and ebike trips, based on the confusion matrix and assumed prior probabilities.\n",
    "    prints the number of standard deviations from the truth both estimates are, \n",
    "        where standard deviation is calculated roughly as sum_{predicted modes} [var(P(actual mode|predicted mode)*n_predicted_mode**2].\n",
    "        I'm still not sure how best to represent the variances  of the probabilities in this simulation.\n",
    "\n",
    "    '''\n",
    "\n",
    "    #prior_mode_probs = {\"car\": n_car/(n_car + n_ebike), \"ebike\":  n_ebike/(n_car + n_ebike)}\n",
    "    row_normalized_confusion_matrix = pd.DataFrame({\"ebike\": p_sensed_given_actual_ebike, \n",
    "                                                    \"car\": p_sensed_given_actual_car})\n",
    "    #print(row_normalized_confusion_matrix)\n",
    "    likelihood_times_priors = row_normalized_confusion_matrix.multiply(pd.Series(prior_mode_probs), axis='rows')\n",
    "    normalizing_constants = likelihood_times_priors.sum(axis='rows')\n",
    "    prob_actual_given_predicted_df = likelihood_times_priors.divide(normalizing_constants, axis='columns').copy()\n",
    "    #print(prob_actual_given_predicted_df)\n",
    "\n",
    "    #predicted_count_list = np.array([])\n",
    "    #expected_EC_list = np.array([])\n",
    "\n",
    "    # make predictions for car trips. 0 represents ebike, 1 represents car\n",
    "    predictions_for_car_trips = np.random.choice([0,1],size=n_car, replace=True, p = [p_sensed_given_actual_car['ebike'], p_sensed_given_actual_car['car']])\n",
    "\n",
    "    # make predictions for ebike trips\n",
    "    predictions_for_ebike_trips = np.random.choice([0,1],size=n_ebike, replace=True, p = [p_sensed_given_actual_ebike['ebike'], p_sensed_given_actual_ebike['car']])\n",
    "\n",
    "    n_car_predictions = sum(predictions_for_car_trips) + sum(predictions_for_ebike_trips)\n",
    "    n_ebike_predictions = n_car + n_ebike - n_car_predictions\n",
    "\n",
    "    # 0 is ebike, 1 is car\n",
    "    \n",
    "    # Find the expected counts of each mode.\n",
    "    expected_car_count = prob_actual_given_predicted_df.loc[\"car\"][\"ebike\"]*n_ebike_predictions + prob_actual_given_predicted_df.loc[\"car\"][\"car\"]*n_car_predictions\n",
    "    expected_ebike_count = prob_actual_given_predicted_df.loc[\"ebike\"][\"ebike\"]*n_ebike_predictions + prob_actual_given_predicted_df.loc[\"ebike\"][\"car\"]*n_car_predictions\n",
    "\n",
    "    #expected_car_count = np.dot(np.array(prob_actual_given_predicted_df.loc[\"car\"]), np.array(n_ebike_predictions,n_car_predictions))#p_actual_given_predict_car[1]*car_distance + p_actual_given_predict_ebike[1]*ebike_distance\n",
    "    #expected_ebike_count = np.dot(np.array(prob_actual_given_predicted_df.loc[\"ebike\"]), np.array(n_ebike_predictions,n_car_predictions))\n",
    "\n",
    "    p_actual_car_given_car = prob_actual_given_predicted_df.loc[\"car\"][\"car\"]\n",
    "    p_actual_car_given_ebike = prob_actual_given_predicted_df.loc[\"car\"][\"ebike\"]\n",
    "\n",
    "    p_actual_ebike_given_car = prob_actual_given_predicted_df.loc[\"ebike\"][\"car\"]\n",
    "    p_actual_ebike_given_ebike = prob_actual_given_predicted_df.loc[\"ebike\"][\"ebike\"]\n",
    "\n",
    "    # If p ~ Beta(a,b), Var(p) = ab/[(a+b)^2 * (a + b + 1)]\n",
    "    var_p_car = 2*5/((2+5)**2*(2 + 5+ 1))  # assuming p_car follows beta(2,5) https://en.wikipedia.org/wiki/Beta_distribution\n",
    "\n",
    "    # There should really be two \"var_p_cars\": one given that the predicted was car, one given that the predicted was ebike.\n",
    "    car_count_variance = n_car_predictions**2*var_p_car + n_ebike_predictions**2*var_p_car\n",
    "\n",
    "    # I was more interested in a rough idea of variance of car counts and never got around to setting a Beta distribution on ebike probability. \n",
    "    # I used the variance of a Bernoulli variable instead: (p*(1-p)), which is not quite right for our situation.\n",
    "    ebike_count_variance = n_car_predictions**2*p_actual_ebike_given_car*(1-p_actual_ebike_given_car) + n_ebike_predictions**2*p_actual_ebike_given_ebike*(1-p_actual_ebike_given_ebike)\n",
    "\n",
    "\n",
    "    car_sd = np.sqrt(car_count_variance)\n",
    "    ebike_sd = np.sqrt(ebike_count_variance)\n",
    "\n",
    "    car_error = expected_car_count - n_car\n",
    "    ebike_error = expected_ebike_count - n_ebike\n",
    "\n",
    "    expected_n_sd = {\"car\": car_error/car_sd, \"ebike\": ebike_error/ebike_sd}\n",
    "\n",
    "    predicted_n_sd = {\"car\": (n_car_predictions - n_car)/car_sd, \"ebike\": (n_ebike_predictions - n_ebike)/ebike_sd}\n",
    "\n",
    "    print(f\"\\tPredicted counts: (car, ebike): {n_car_predictions,n_ebike_predictions}. n standard deviations: {predicted_n_sd['car']:.2f}, {predicted_n_sd['ebike']:.2f}\")\n",
    "    print(f\"\\tExpected counts: (car, ebike): ({expected_car_count:.1f}, {expected_ebike_count:.1f}). n standard deviations: {expected_n_sd['car']:.2f}, {expected_n_sd['ebike']:.2f}\")\n",
    "    print(f\"\\tsd car, ebike: {car_sd:.2f},{ebike_sd:.2f}\")\n",
    "    \n",
    "\n",
    "    return expected_car_count, expected_ebike_count, car_count_variance, ebike_count_variance\n",
    "\n",
    "car_number_list = [300,400,500,600,700,800,900]\n",
    "\n",
    "# Simulate 1000 trips and preselect the number of actual car trips.\n",
    "for n_car in car_number_list:\n",
    "    print(f\"Actual counts: {n_car} car trips, {1000 - n_car} ebike trips\")\n",
    "    vals = trip_set_simulator_mode_counts(n_car,1000-n_car, 10, NMC = 5000, \n",
    "        p_sensed_given_actual_car = {\"ebike\": 0.1, \"car\": 0.9}, \n",
    "        p_sensed_given_actual_ebike = {\"ebike\": 0.9, \"car\": 0.1},\n",
    "        prior_mode_probs = {\"car\": 0.5, \"ebike\":  0.5})"
   ]
  },
  {
   "cell_type": "code",
   "execution_count": 6,
   "metadata": {},
   "outputs": [
    {
     "name": "stdout",
     "output_type": "stream",
     "text": [
      "0.2 car prior prob, 0.8 ebike prior prob\n",
      "\tsd car, ebike: 12.08,18.16\n",
      "\tExpected: car, ebike: (23.3, 76.7). n standard deviations: -0.55, 0.37\n",
      "\tPredicted: car, ebike: (31, 69). n standard deviations: 0.08, -0.06\n",
      "0.3 car prior prob, 0.7 ebike prior prob\n",
      "\tsd car, ebike: 12.08,19.07\n",
      "\tExpected: car, ebike: (27.8, 72.2). n standard deviations: -0.19, 0.12\n",
      "\tPredicted: car, ebike: (31, 69). n standard deviations: 0.08, -0.05\n",
      "0.4 car prior prob, 0.6 ebike prior prob\n",
      "\tsd car, ebike: 11.73,20.54\n",
      "\tExpected: car, ebike: (35.3, 64.7). n standard deviations: 0.45, -0.26\n",
      "\tPredicted: car, ebike: (36, 64). n standard deviations: 0.51, -0.29\n",
      "0.5 car prior prob, 0.5 ebike prior prob\n",
      "\tsd car, ebike: 11.86,22.27\n",
      "\tExpected: car, ebike: (37.2, 62.8). n standard deviations: 0.61, -0.32\n",
      "\tPredicted: car, ebike: (34, 66). n standard deviations: 0.34, -0.18\n",
      "0.6 car prior prob, 0.4 ebike prior prob\n",
      "\tsd car, ebike: 11.61,23.74\n",
      "\tExpected: car, ebike: (44.2, 55.8). n standard deviations: 1.23, -0.60\n",
      "\tPredicted: car, ebike: (38, 62). n standard deviations: 0.69, -0.34\n",
      "0.7 car prior prob, 0.30000000000000004 ebike prior prob\n",
      "\tsd car, ebike: 11.93,27.95\n",
      "\tExpected: car, ebike: (45.3, 54.7). n standard deviations: 1.28, -0.55\n",
      "\tPredicted: car, ebike: (33, 67). n standard deviations: 0.25, -0.11\n",
      "0.8 car prior prob, 0.19999999999999996 ebike prior prob\n",
      "\tsd car, ebike: 11.67,29.69\n",
      "\tExpected: car, ebike: (55.4, 44.6). n standard deviations: 2.18, -0.86\n",
      "\tPredicted: car, ebike: (37, 63). n standard deviations: 0.60, -0.24\n",
      "0.9 car prior prob, 0.09999999999999998 ebike prior prob\n",
      "\tsd car, ebike: 11.79,32.73\n",
      "\tExpected: car, ebike: (67.1, 32.9). n standard deviations: 3.14, -1.13\n",
      "\tPredicted: car, ebike: (35, 65). n standard deviations: 0.42, -0.15\n"
     ]
    },
    {
     "data": {
      "text/plain": [
       "(41.9424633684417, 12.081779163480105)"
      ]
     },
     "execution_count": 6,
     "metadata": {},
     "output_type": "execute_result"
    }
   ],
   "source": [
    "# For a fixed number of true car and ebike trips, what happens when we vary our prior probabilities of \n",
    "# car and ebike?\n",
    "p_car_list = [0.2,0.30,0.40,0.50,0.60,0.70,0.80,0.90]\n",
    "\n",
    "n_car = 30\n",
    "\n",
    "expected_car_list = []\n",
    "car_var_list = []\n",
    "for p_car in p_car_list:\n",
    "    print(f\"{p_car} car prior prob, {1-p_car} ebike prior prob\")\n",
    "    vals = trip_set_simulator_mode_counts(n_car,100-n_car, 10, NMC = 5000, \n",
    "        p_sensed_given_actual_car = {\"ebike\": 0.1, \"car\": 0.9}, \n",
    "        p_sensed_given_actual_ebike = {\"ebike\": 0.9, \"car\": 0.1},\n",
    "        prior_mode_probs = {\"car\": p_car, \"ebike\":  1-p_car})\n",
    "    expected_car_list.append(vals[0])\n",
    "    car_var_list.append(vals[2])\n",
    "\n",
    "ecl = np.array(expected_car_list)\n",
    "cvl = np.array(car_var_list)\n",
    "np.mean(ecl), np.max(np.sqrt(cvl))"
   ]
  }
 ],
 "metadata": {
  "kernelspec": {
   "display_name": "Python 3.7.12 ('emission-private-eval')",
   "language": "python",
   "name": "python3"
  },
  "language_info": {
   "codemirror_mode": {
    "name": "ipython",
    "version": 3
   },
   "file_extension": ".py",
   "mimetype": "text/x-python",
   "name": "python",
   "nbconvert_exporter": "python",
   "pygments_lexer": "ipython3",
   "version": "3.7.12"
  },
  "orig_nbformat": 4,
  "vscode": {
   "interpreter": {
    "hash": "73ac5b45931ab4dd3f8e07a8d0e5daf0146eed4821bf42374f6ac6fa4af28c83"
   }
  }
 },
 "nbformat": 4,
 "nbformat_minor": 2
}
