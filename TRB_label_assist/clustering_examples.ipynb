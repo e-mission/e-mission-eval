{
 "cells": [
  {
   "cell_type": "markdown",
   "metadata": {},
   "source": [
    "This notebook generates figures that demonstrate the clustering algorithms at various distance thresholds.\n"
   ]
  },
  {
   "cell_type": "markdown",
   "metadata": {},
   "source": [
    "### imports\n"
   ]
  },
  {
   "cell_type": "code",
   "execution_count": null,
   "metadata": {},
   "outputs": [],
   "source": [
    "%load_ext autoreload\n",
    "%autoreload 2\n",
    "\n",
    "from uuid import UUID\n",
    "\n",
    "import emission.storage.timeseries.abstract_timeseries as esta\n",
    "import emission.storage.decorations.trip_queries as esdtq\n",
    "import emission.core.get_database as edb\n",
    "import emission.analysis.modelling.trip_model.run_model as eamtr\n",
    "import mapping\n",
    "import emission.analysis.modelling as eam"
   ]
  },
  {
   "cell_type": "markdown",
   "metadata": {},
   "source": [
    "### load data\n"
   ]
  },
  {
   "cell_type": "code",
   "execution_count": null,
   "metadata": {},
   "outputs": [],
   "source": [
    "# Please contact the corresponding author for the emails/uuids of the data used in the paper.\n",
    "suburban_email = \"stage_d3GBLDSVzn4\"\n",
    "college_campus_email = \"stage_OlTMUasqLbxL7KfI\"\n",
    "suburban_uuid = list(edb.get_uuid_db().find({\"user_email\":\n",
    "                                             suburban_email}))[0]['uuid']\n",
    "college_campus_uuid = list(edb.get_uuid_db().find(\n",
    "    {\"user_email\": college_campus_email}))[0]['uuid']\n",
    "\n",
    "uuids = [suburban_uuid, college_campus_uuid]\n",
    "confirmed_trip_df_map = {}\n",
    "labeled_trip_df_map = {}\n",
    "EntryList=[]\n",
    "expanded_trip_df_map = {}\n",
    "ct_entry={}\n",
    "for u in uuids:\n",
    "    ts = esta.TimeSeries.get_time_series(u)\n",
    "    ct_df = ts.get_data_df(\"analysis/confirmed_trip\")\n",
    "    ct_entry[u]=eamtr._get_training_data(u,None)\n",
    "    confirmed_trip_df_map[u] = ct_df\n",
    "    labeled_trip_df_map[u] = esdtq.filter_labeled_trips(ct_df)\n",
    "    expanded_trip_df_map[u] = esdtq.expand_userinputs(labeled_trip_df_map[u])\n"
   ]
  },
  {
   "cell_type": "markdown",
   "metadata": {},
   "source": [
    "### naive fixed-width clustering\n"
   ]
  },
  {
   "cell_type": "code",
   "execution_count": null,
   "metadata": {},
   "outputs": [],
   "source": [
    "fig = mapping.find_plot_clusters(expanded_trip_df_map[suburban_uuid],\n",
    "                                 ct_entry[suburban_uuid],\n",
    "                                 alg='naive',\n",
    "                                 loc_type='end',\n",
    "                                 clustering_way=\"destination\",\n",
    "                                 plot_unlabeled=False,\n",
    "                                 cluster_unlabeled=False,\n",
    "                                 radii=[50, 100, 150])\n",
    "fig"
   ]
  },
  {
   "cell_type": "code",
   "execution_count": null,
   "metadata": {},
   "outputs": [],
   "source": [
    "fig = mapping.find_plot_clusters(expanded_trip_df_map[college_campus_uuid],\n",
    "                                 ct_entry[college_campus_uuid],\n",
    "                                 alg='naive',\n",
    "                                 loc_type='end',\n",
    "                                 clustering_way=\"destination\",\n",
    "                                 plot_unlabeled=False,\n",
    "                                 cluster_unlabeled=False,\n",
    "                                 radii=[50, 100, 150])\n",
    "fig"
   ]
  },
  {
   "cell_type": "markdown",
   "metadata": {},
   "source": [
    "### DBSCAN\n"
   ]
  },
  {
   "cell_type": "code",
   "execution_count": null,
   "metadata": {},
   "outputs": [],
   "source": [
    "fig = mapping.find_plot_clusters(expanded_trip_df_map[suburban_uuid],\n",
    "                                 ct_entry[suburban_uuid],\n",
    "                                 alg='DBSCAN',\n",
    "                                 SVM=False,\n",
    "                                 loc_type='end',\n",
    "                                 clustering_way=\"destination\",\n",
    "                                 plot_unlabeled=False,\n",
    "                                 cluster_unlabeled=False,\n",
    "                                 radii=[50, 100, 150, 200])\n",
    "fig"
   ]
  },
  {
   "cell_type": "code",
   "execution_count": null,
   "metadata": {},
   "outputs": [],
   "source": [
    "fig = mapping.find_plot_clusters(expanded_trip_df_map[college_campus_uuid],\n",
    "                                 ct_entry[college_campus_uuid],\n",
    "                                 alg='DBSCAN',\n",
    "                                 SVM=False,\n",
    "                                 loc_type='end',\n",
    "                                 clustering_way=\"destination\",\n",
    "                                 plot_unlabeled=False,\n",
    "                                 cluster_unlabeled=False,\n",
    "                                 radii=[50, 100, 150, 200])\n",
    "fig"
   ]
  },
  {
   "cell_type": "markdown",
   "metadata": {},
   "source": [
    "### DBSCAN+SVM\n"
   ]
  },
  {
   "cell_type": "code",
   "execution_count": null,
   "metadata": {},
   "outputs": [],
   "source": [
    "fig = mapping.find_plot_clusters(expanded_trip_df_map[suburban_uuid],\n",
    "                                 ct_entry[suburban_uuid],\n",
    "                                 alg='DBSCAN',\n",
    "                                 SVM=True,\n",
    "                                 loc_type='end',\n",
    "                                 clustering_way=\"destination\",\n",
    "                                 plot_unlabeled=False,\n",
    "                                 cluster_unlabeled=False,\n",
    "                                 radii=[50, 100, 150, 200])\n",
    "fig"
   ]
  },
  {
   "cell_type": "code",
   "execution_count": null,
   "metadata": {},
   "outputs": [],
   "source": [
    "fig = mapping.find_plot_clusters(expanded_trip_df_map[college_campus_uuid],\n",
    "                                 ct_entry[college_campus_uuid],\n",
    "                                 alg='DBSCAN',\n",
    "                                 SVM=True,\n",
    "                                 loc_type='end',\n",
    "                                 clustering_way=\"destination\",\n",
    "                                 plot_unlabeled=False,\n",
    "                                 cluster_unlabeled=False,\n",
    "                                 radii=[50, 100, 150, 200])\n",
    "fig"
   ]
  }
 ],
 "metadata": {
  "kernelspec": {
   "display_name": "emission-private-eval",
   "language": "python",
   "name": "emission-private-eval"
  },
  "language_info": {
   "codemirror_mode": {
    "name": "ipython",
    "version": 3
   },
   "file_extension": ".py",
   "mimetype": "text/x-python",
   "name": "python",
   "nbconvert_exporter": "python",
   "pygments_lexer": "ipython3",
   "version": "3.9.16"
  },
  "vscode": {
   "interpreter": {
    "hash": "5edc29c2ed010d6458d71a83433b383a96a8cbd3efe8531bc90c4b8a5b8bcec9"
   }
  }
 },
 "nbformat": 4,
 "nbformat_minor": 2
}
