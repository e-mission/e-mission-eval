{
 "cells": [
  {
   "cell_type": "markdown",
   "id": "b926ac86",
   "metadata": {},
   "source": [
    "# Centralizing the Data Vizualizations from the Paper"
   ]
  },
  {
   "cell_type": "code",
   "execution_count": null,
   "id": "34800722",
   "metadata": {},
   "outputs": [],
   "source": [
    "#path configuration\n",
    "to_data_parent = \"../Data/abby_ceo\" #path to the parent folder, should contain program subfolders\n",
    "to_data_folder = \"../Data\" #data folder, where composite data was written from the TSDC_data file"
   ]
  },
  {
   "cell_type": "code",
   "execution_count": null,
   "id": "3de0a132",
   "metadata": {},
   "outputs": [],
   "source": [
    "# dependencies\n",
    "from collections import defaultdict\n",
    "\n",
    "from paper_utilities import *\n",
    "\n",
    "import matplotlib.pyplot as plt\n",
    "import numpy as np\n",
    "import pandas as pd\n",
    "import seaborn as sns\n",
    "from sklearn import linear_model\n",
    "\n",
    "sns.set_style(\"whitegrid\")\n",
    "sns.set()\n",
    "%matplotlib inline\n",
    "\n",
    "params = {'legend.fontsize': 'small',\n",
    "          'figure.figsize': (10, 8),\n",
    "         'axes.labelsize': 'small',\n",
    "         'axes.titlesize':'small',\n",
    "         'xtick.labelsize':'small',\n",
    "         'ytick.labelsize':'small'}\n",
    "plt.rcParams.update(params)\n",
    "\n",
    "import importlib"
   ]
  },
  {
   "cell_type": "markdown",
   "id": "07172172",
   "metadata": {},
   "source": [
    "## full data - for labeling rates"
   ]
  },
  {
   "cell_type": "code",
   "execution_count": null,
   "id": "f1a09519",
   "metadata": {},
   "outputs": [],
   "source": [
    "#gather all of the trips into one dataframe\n",
    "#loop over\n",
    "programs = ['4c', 'cc', 'fc', 'pc', 'sc', 'vail_22']\n",
    "datasets = []\n",
    "\n",
    "for program in programs:\n",
    "    print('starting with ', program)\n",
    "    \n",
    "    #create dataset with surveys and trips\n",
    "    trips = pd.read_csv(to_data_parent + '/' + program + '/analysis_confirmed_trip.csv')\n",
    "    print(len(trips), 'trips')\n",
    "    print(trips.perno.nunique(), 'people')\n",
    "\n",
    "    #prepare trip ids for merging\n",
    "    trips['user_id_socio'] = trips.perno.astype(str)\n",
    "    trips['user_id_socio'] = trips['user_id_socio'].str.strip() #remove leading or trailing whitespace!!\n",
    "    trips.user_id_socio = [i.replace('-','') for i in trips.user_id_socio] # remove all dashes from strings\n",
    "    \n",
    "    trips['program'] = program.split('_')[0]\n",
    "    \n",
    "    #add to list of datasets\n",
    "    datasets.append(trips)\n",
    "\n",
    "participant_ct_df = pd.concat(datasets)\n",
    "\n",
    "#just labeled data\n",
    "labeled_df = participant_ct_df[participant_ct_df.data_user_input_mode_confirm.notna() | \n",
    "                                       participant_ct_df.data_user_input_purpose_confirm.notna() |\n",
    "                                       participant_ct_df.data_user_input_replaced_mode.notna()]"
   ]
  },
  {
   "cell_type": "code",
   "execution_count": null,
   "id": "90434618",
   "metadata": {},
   "outputs": [],
   "source": [
    "all_user_trips = participant_ct_df.groupby(['user_id_socio'], as_index=False).count()[['user_id_socio','data_distance']]\n",
    "print(len(all_user_trips), \"total users\")\n",
    "\n",
    "labeled_user_trips = labeled_df.groupby(['user_id_socio'], as_index=False).count()[['user_id_socio','data_distance']]\n",
    "print(len(labeled_user_trips), \"users who labeled\")\n",
    "\n",
    "plot_data = all_user_trips.merge(labeled_user_trips, how='right', on='user_id_socio').fillna(0)\n",
    "plot_data.head()"
   ]
  },
  {
   "cell_type": "markdown",
   "id": "c6249271",
   "metadata": {},
   "source": [
    "### figure 2"
   ]
  },
  {
   "cell_type": "code",
   "execution_count": null,
   "id": "90e70a96",
   "metadata": {},
   "outputs": [],
   "source": [
    "plot_data['proportion'] = plot_data['data_distance_y'] / plot_data['data_distance_x']\n",
    "data_order = plot_data.sort_values('proportion', ascending=True).user_id_socio\n",
    "print(len(plot_data))\n",
    "\n",
    "plot_title='Distribution of User Response Rates'\n",
    "ylab='Proportion of Trips Labeled'\n",
    "file_name='CanBikeCO_report_user_participation%s'\n",
    "fig, ax = plt.subplots(figsize=(10,4))\n",
    "sns.barplot(data=plot_data, x='user_id_socio', y='proportion', order=data_order, color='blue').set(title=plot_title,xlabel='Individual Users (176)',ylabel=ylab,xticklabels=[])\n",
    "plt.subplots_adjust(bottom=0.25)\n",
    "ax.figure.savefig(file_name+\".jpg\", bbox_inches='tight')"
   ]
  },
  {
   "cell_type": "code",
   "execution_count": null,
   "id": "419c4056",
   "metadata": {},
   "outputs": [],
   "source": [
    "#drop infected data\n",
    "all_data = participant_ct_df.copy()\n",
    "\n",
    "all_data['data_start_local_dt_month'] = all_data['data_start_local_dt_month'].apply(pd.to_numeric, errors='coerce').fillna(0).astype(int).dropna()\n",
    "all_data = all_data[all_data.data_start_local_dt_month >= 1]\n",
    "all_data = all_data[all_data.data_start_local_dt_month <= 12]\n",
    "\n",
    "all_data['data_start_local_dt_year'] = all_data['data_start_local_dt_year'].apply(pd.to_numeric, errors='coerce').fillna(0).astype(int).dropna()\n",
    "all_data = all_data[all_data.data_start_local_dt_year >= 2019]\n",
    "all_data = all_data[all_data.data_start_local_dt_year <= 2023]\n",
    "\n",
    "labeled = labeled_df.copy()\n",
    "labeled['data_start_local_dt_month'] = labeled['data_start_local_dt_month'].apply(pd.to_numeric, errors='coerce').fillna(0).astype(int).dropna()\n",
    "labeled = labeled[labeled.data_start_local_dt_month >= 1]\n",
    "labeled = labeled[labeled.data_start_local_dt_month <= 12]\n",
    "\n",
    "labeled['data_start_local_dt_year'] = labeled['data_start_local_dt_year'].apply(pd.to_numeric, errors='coerce').fillna(0).astype(int).dropna()\n",
    "labeled = labeled[labeled.data_start_local_dt_year >= 2019]\n",
    "labeled = labeled[labeled.data_start_local_dt_year <= 2023]"
   ]
  },
  {
   "cell_type": "code",
   "execution_count": null,
   "id": "888db3d6",
   "metadata": {},
   "outputs": [],
   "source": [
    "#group the total data by day\n",
    "all_data = (all_data.groupby(['data_start_local_dt_month', 'data_start_local_dt_year']).size() \n",
    "   .reset_index(name='count'))\n",
    "\n",
    "all_data = all_data.sort_values(['data_start_local_dt_year', 'data_start_local_dt_month'])\n",
    "\n",
    "all_data = all_data.astype({'data_start_local_dt_month': 'str'})\n",
    "all_data = all_data.astype({'data_start_local_dt_year': 'str'})\n",
    "all_data['Month'] = all_data[['data_start_local_dt_year', 'data_start_local_dt_month']].agg('-'.join, axis=1)\n",
    "\n",
    "#group the labeled data by day#group the total data by day\n",
    "labeled = (labeled.groupby(['data_start_local_dt_month', 'data_start_local_dt_year']).size() \n",
    "   .reset_index(name='count'))\n",
    "\n",
    "labeled = labeled.sort_values(['data_start_local_dt_year', 'data_start_local_dt_month'])\n",
    "\n",
    "labeled = labeled.astype({'data_start_local_dt_month': 'str'})\n",
    "labeled = labeled.astype({'data_start_local_dt_year': 'str'})\n",
    "labeled['Month'] = labeled[['data_start_local_dt_year', 'data_start_local_dt_month']].agg('-'.join, axis=1)\n",
    "\n",
    "#merge them\n",
    "plot_data = all_data.merge(labeled, how='left', on='Month').fillna(0)\n",
    "\n",
    "#calc the proportion\n",
    "plot_data['proportion'] = plot_data['count_y'] / plot_data['count_x']\n",
    "\n",
    "#drop data before 6/2022 (when the full pilot started)\n",
    "plot_data = plot_data.iloc[5:]"
   ]
  },
  {
   "cell_type": "markdown",
   "id": "04541dde",
   "metadata": {},
   "source": [
    "### figure 3"
   ]
  },
  {
   "cell_type": "code",
   "execution_count": null,
   "id": "87e5d8f3",
   "metadata": {},
   "outputs": [],
   "source": [
    "#graph it - bar chart\n",
    "plot_title='Response Rates Over Time'\n",
    "ylab='Proportion of Trips Labeled'\n",
    "file_name='CanBikeCO_report_ts_labels'\n",
    "\n",
    "fig, ax = plt.subplots(figsize=(8,4))\n",
    "sns.barplot(data=plot_data, x='Month', y='proportion', color='blue').set(title=plot_title,xlabel='Month',ylabel=ylab)\n",
    "plt.xticks(rotation=35, ha='right', fontsize=10)\n",
    "plt.subplots_adjust(bottom=0.25)\n",
    "ax.figure.savefig(file_name+\".jpeg\", bbox_inches='tight')"
   ]
  },
  {
   "cell_type": "markdown",
   "id": "9f6e153a",
   "metadata": {},
   "source": [
    "## Loading from CSV way"
   ]
  },
  {
   "cell_type": "code",
   "execution_count": null,
   "id": "8fbcfd00",
   "metadata": {},
   "outputs": [],
   "source": [
    "# loading the data\n",
    "cleaned_data = pd.read_csv(to_data_folder + \"/tsdc_filtered_merged_trips.csv\")"
   ]
  },
  {
   "cell_type": "code",
   "execution_count": null,
   "id": "746a0a77",
   "metadata": {},
   "outputs": [],
   "source": [
    "# Summary statistics table\n",
    "print(len(pd.unique(cleaned_data.user_id)), \"users in the cleaned data\")\n",
    "stat_data = cleaned_data[['distance','duration']]\n",
    "stat_data.describe()"
   ]
  },
  {
   "cell_type": "markdown",
   "id": "b1650869",
   "metadata": {},
   "source": [
    "## general demographics\n",
    "\n",
    "figure #10"
   ]
  },
  {
   "cell_type": "code",
   "execution_count": null,
   "id": "844fe608",
   "metadata": {},
   "outputs": [],
   "source": [
    "# Age, Income, Gender\n",
    "plot_data = cleaned_data.copy()\n",
    "plot_data = plot_data.groupby(['perno']).nth(0)[['AGE','GENDER','VEH_num','HHINC']].dropna()\n",
    "plot_data = plot_data[plot_data['GENDER'].isin(['Man','Woman'])]\n",
    "\n",
    "plot_title='Participant Demographics'\n",
    "ylab='Count'\n",
    "file_name='CanBikeCO_report_demog'\n",
    "fig, axs = plt.subplots(2,2,figsize=(10,6))\n",
    "sns.histplot(data=plot_data, x='GENDER', ax=axs[0,0], color='purple', stat='probability').set(xlabel='Sex',ylabel='proportion')\n",
    "sns.histplot(data=plot_data, x='AGE', ax=axs[0,1], color='red', stat='probability').set(xlabel='Age',ylabel='proportion')\n",
    "sns.histplot(data=plot_data, x='VEH_num', ax=axs[1,0], color='blue', stat='probability').set(xlabel='Household Vehicles',ylabel='proportion')\n",
    "sns.histplot(data=pd.DataFrame(plot_data['HHINC'].dropna()), x='HHINC', ax=axs[1,1], color='green', stat='probability').set(xlabel='Household Income',ylabel='proportion')\n",
    "plt.xticks(rotation=35, ha='right')\n",
    "plt.tight_layout()\n",
    "\n",
    "fig.savefig(file_name+\".png\", bbox_inches='tight')"
   ]
  },
  {
   "cell_type": "markdown",
   "id": "1b7be16b",
   "metadata": {},
   "source": [
    "## Modes in Mini vs Full Pilot\n",
    "\n",
    "Figure 6 in the paper"
   ]
  },
  {
   "cell_type": "code",
   "execution_count": null,
   "id": "a2042742",
   "metadata": {},
   "outputs": [],
   "source": [
    "# processing mini data\n",
    "mini_pilot_trips = pd.read_csv(to_data_folder + \"/trip_program.csv\")\n",
    "mini_pilot_trips = mini_pilot_trips[mini_pilot_trips.program == 'prepilot']\n",
    "print(len(mini_pilot_trips), \"total minipilot trips\")\n",
    "MINI_PILOT_DF = mini_pilot_trips.copy() #saving a copy for later\n",
    "\n",
    "# Combine variable categories\n",
    "mini_pilot_trips = mini_pilot_trips.replace('Gas Car, drove alone', 'Car')\n",
    "mini_pilot_trips = mini_pilot_trips.replace('Gas Car, with others', 'Shared Car')\n",
    "mini_pilot_trips = mini_pilot_trips.replace('Bikeshare', 'Shared Micromobility')\n",
    "mini_pilot_trips = mini_pilot_trips.replace('Scooter share', 'Shared Micromobility')\n",
    "mini_pilot_trips = mini_pilot_trips.replace('Regular Bike', 'Personal Micromobility')\n",
    "mini_pilot_trips = mini_pilot_trips.replace('Skate board', 'Personal Micromobility')\n",
    "mini_pilot_trips = mini_pilot_trips.replace('Train', 'Transit')\n",
    "mini_pilot_trips = mini_pilot_trips.replace('Free Shuttle', 'Transit')\n",
    "mini_pilot_trips = mini_pilot_trips.replace('Bus', 'Transit')\n",
    "mini_pilot_trips = mini_pilot_trips.replace('Walk', 'Walk')\n",
    "mini_pilot_trips = mini_pilot_trips.replace('Taxi/Uber/Lyft', 'Ridehail')\n",
    "mini_pilot_trips = mini_pilot_trips.replace('Pilot ebike', 'E-Bike')\n",
    "\n",
    "#filter out 'not a trip' trips\n",
    "mini_pilot_trips = mini_pilot_trips[~mini_pilot_trips['Mode_confirm'].isin(['Not a Trip'])]\n",
    "mini_pilot_trips = mini_pilot_trips[~mini_pilot_trips['Replaced_mode'].isin(['Not a Trip'])]\n",
    "mini_pilot_trips = mini_pilot_trips[~mini_pilot_trips['Trip_purpose'].isin(['not_a_trip'])]\n",
    "\n",
    "print(len(mini_pilot_trips), \"minipilot trips after cleaning data\")"
   ]
  },
  {
   "cell_type": "code",
   "execution_count": null,
   "id": "181a7001",
   "metadata": {},
   "outputs": [],
   "source": [
    "#prepare mini and full trip dfs for plot\n",
    "mini_trips_cleaned = format_for_mode_bars(mini_pilot_trips, 'Minipilot', True)\n",
    "full_trips_cleaned = format_for_mode_bars(cleaned_data, 'Long Term')\n",
    "\n",
    "plot_data = pd.concat([full_trips_cleaned, mini_trips_cleaned])\n",
    "plot_data"
   ]
  },
  {
   "cell_type": "code",
   "execution_count": null,
   "id": "0a94c111",
   "metadata": {},
   "outputs": [],
   "source": [
    "# make and save the chart\n",
    "make_mini_vs_full(plot_data, 'Mode')"
   ]
  },
  {
   "cell_type": "markdown",
   "id": "c51143bf",
   "metadata": {},
   "source": [
    "## Mode Share by Program\n",
    "\n",
    "figure 7 in the paper"
   ]
  },
  {
   "cell_type": "code",
   "execution_count": null,
   "id": "8a788461",
   "metadata": {},
   "outputs": [],
   "source": [
    "# process the data for the clustered chart\n",
    "cleaned_data.program.unique()"
   ]
  },
  {
   "cell_type": "code",
   "execution_count": null,
   "id": "841d2811",
   "metadata": {},
   "outputs": [],
   "source": [
    "mode_data = cleaned_data.copy()\n",
    "\n",
    "#clean up the modes\n",
    "mode_data.loc[mode_data['Mode_confirm']=='Personal Micromobility', 'Mode_confirm'] = 'Other'\n",
    "mode_data.loc[mode_data['Mode_confirm']=='Shared Micromobility', 'Mode_confirm'] = 'Other'\n",
    "\n",
    "program_list = ['4c', 'cc', 'fc', 'pc', 'sc', 'vail']\n",
    "\n",
    "work_trips = format_mode_by_program(mode_data, program_list, True)\n",
    "all_trips = format_mode_by_program(mode_data, program_list, False)"
   ]
  },
  {
   "cell_type": "code",
   "execution_count": null,
   "id": "6d32d79b",
   "metadata": {},
   "outputs": [],
   "source": [
    "##COLUMN ORDERS MUST MATCH OR CHART MISREPRESENTS DATA\n",
    "all_trips"
   ]
  },
  {
   "cell_type": "code",
   "execution_count": null,
   "id": "596aa44d",
   "metadata": {},
   "outputs": [],
   "source": [
    "work_trips['Ridehail'] = work_trips['Ridehail'].fillna(0)\n",
    "work_trips['Transit'] = work_trips['Transit'].fillna(0)\n",
    "work_trips = work_trips[['Car', 'E-bike', 'Other', 'Ridehail', 'Shared Car', 'Transit', 'Walk']]\n",
    "\n",
    "work_trips"
   ]
  },
  {
   "cell_type": "markdown",
   "id": "5c3cb061",
   "metadata": {},
   "source": [
    "### make and save the clustered chart"
   ]
  },
  {
   "cell_type": "code",
   "execution_count": null,
   "id": "692c048d",
   "metadata": {},
   "outputs": [],
   "source": [
    "#call function to create chart:\n",
    "ax = plot_clustered_stacked([all_trips, work_trips],[\"All Trips\", \"Work Trips\"], title = \"Mode Share by Program\")\n",
    "\n",
    "for c in ax.containers:\n",
    "    labels = [f'{round(v.get_height())}' if v.get_height() > 5 else '' for v in c]\n",
    "    ax.bar_label(c, labels=labels, label_type='center')\n",
    "    \n",
    "ax.set_xticklabels(all_trips.index, rotation=45, ha='right', fontsize=14)\n",
    "\n",
    "ax.set_xlabel('Program', fontsize = 18)\n",
    "ax.set_ylabel('Proportion of Total Trip Count (%)', fontsize = 18)\n",
    "\n",
    "plt.savefig(\"CanBikeCO_report_mode_share_overview.jpeg\", bbox_inches='tight')"
   ]
  },
  {
   "cell_type": "markdown",
   "id": "d9cf319f",
   "metadata": {},
   "source": [
    "## Trip Purpose Mini vs Full\n",
    "\n",
    "figure 8 in the paper"
   ]
  },
  {
   "cell_type": "code",
   "execution_count": null,
   "id": "7ab63059",
   "metadata": {},
   "outputs": [],
   "source": [
    "#arrange the data\n",
    "full_purpose_data = cleaned_data.copy()\n",
    "mini_purpose_data = MINI_PILOT_DF.copy()\n",
    "\n",
    "mini_pilot_trips = format_purpose_bars(mini_purpose_data, \"Minipilot\")\n",
    "plot_data = format_purpose_bars(full_purpose_data, \"Long Term\")\n",
    "\n",
    "plot_data = pd.concat([plot_data, mini_pilot_trips])"
   ]
  },
  {
   "cell_type": "code",
   "execution_count": null,
   "id": "faa4c5f9",
   "metadata": {},
   "outputs": [],
   "source": [
    "# create the chart\n",
    "make_mini_vs_full(plot_data, 'Purpose')"
   ]
  },
  {
   "cell_type": "markdown",
   "id": "78aa120b",
   "metadata": {},
   "source": [
    "## Show what purposes different programs used the e-bikes for\n",
    "\n",
    "figure 9 in the paper"
   ]
  },
  {
   "cell_type": "code",
   "execution_count": null,
   "id": "15605d79",
   "metadata": {},
   "outputs": [],
   "source": [
    "full_purpose_data = cleaned_data.copy()\n",
    "e_purpose = full_purpose_data[full_purpose_data.Mode_confirm == 'E-bike']\n",
    "\n",
    "e_purpose.loc[e_purpose['Trip_purpose']=='Religious', 'Trip_purpose'] = 'Other'\n",
    "e_purpose.loc[e_purpose['Trip_purpose']=='School', 'Trip_purpose'] = 'Other'\n",
    "\n",
    "program_list = ['4c', 'cc', 'fc', 'pc', 'sc', 'vail']\n",
    "all_plot_data = []\n",
    "for program in program_list:\n",
    "    program_data = e_purpose[mode_data.program == program]\n",
    "\n",
    "    t1 = program_data[['Trip_purpose','distance_miles']]\n",
    "    t1 = t1.groupby(['Trip_purpose'], as_index=False).sum()\n",
    "    t1['distance_miles'].fillna(0, inplace=True)\n",
    "    t1[program] = (t1['distance_miles'] / np.sum(t1.distance_miles)) * 100\n",
    "    t1 = t1.set_index('Trip_purpose')\n",
    "    t1 = t1.drop(columns = ['distance_miles'])\n",
    "    all_plot_data.append(t1)\n",
    "    \n",
    "all_trips = pd.concat(all_plot_data, axis = 1)\n",
    "\n",
    "all_trips = all_trips.transpose()\n",
    "\n",
    "all_trips['program'] = all_trips.index\n",
    "all_trips = all_trips.replace({'4c': 'Four Corners\\n(Durango)', \n",
    "                               'cc': 'Comunity Cycles\\n(Boulder)',\n",
    "                               'sc': 'Smart Commute\\n(Denver North)',\n",
    "                               'pc':'Pueblo',\n",
    "                               'vail':'Vail',\n",
    "                               'fc':'Fort Collins'})\n",
    "all_trips = all_trips.set_index('program')\n",
    "\n",
    "all_trips"
   ]
  },
  {
   "cell_type": "code",
   "execution_count": null,
   "id": "f72e1e0b",
   "metadata": {},
   "outputs": [],
   "source": [
    "#plot purposes by program\n",
    "make_stacked_bars(all_trips, \"E-bike Purpose Share by Program\", \"Program\", \"Proportion E-bike Mileage (%)\", \"CanBikeCO_report_ebike_programs_purp_share.jpeg\")"
   ]
  },
  {
   "cell_type": "markdown",
   "id": "c79ac303",
   "metadata": {},
   "source": [
    "## Mode share by age\n",
    "\n",
    "figure 11 in the paper"
   ]
  },
  {
   "cell_type": "code",
   "execution_count": null,
   "id": "92b26796",
   "metadata": {},
   "outputs": [],
   "source": [
    "mode_data = cleaned_data.copy() #complete set of cleaned data\n",
    "\n",
    "age_counts = mode_data.groupby(['AGE'], as_index=False).count()[['AGE', 'user_id']]\n",
    "\n",
    "bins = [18, 30, 42, 54, 66]\n",
    "mode_data['age_bin'] = pd.cut(mode_data['AGE'], bins)\n",
    "\n",
    "age_modes = mode_data.groupby(['age_bin', 'Mode_confirm'], as_index=False).count()[['age_bin', 'Mode_confirm','distance_miles']]\n",
    "age_modes['proportion'] = age_modes['distance_miles'] / np.sum(age_modes.distance_miles)\n",
    "\n",
    "list_age_modes = []\n",
    "for age_bin in age_modes.age_bin.unique():\n",
    "    age_data = mode_data[mode_data['age_bin'] == age_bin]\n",
    "\n",
    "    age_bin_df = age_data.groupby(['Mode_confirm'], as_index=False).count()[['Mode_confirm','distance_miles']]\n",
    "    age_bin_df['distance_miles'].fillna(0, inplace=True)\n",
    "    age_bin_df[age_bin] = (age_bin_df['distance_miles'] / np.sum(age_bin_df.distance_miles)) * 100\n",
    "    age_bin_df = age_bin_df.set_index('Mode_confirm')\n",
    "    age_bin_df = age_bin_df.drop(columns = ['distance_miles'])\n",
    "    list_age_modes.append(age_bin_df)\n",
    "        \n",
    "age_modes = pd.concat(list_age_modes, axis = 1)\n",
    "age_modes = age_modes.transpose()\n",
    "age_modes = age_modes.fillna(0)\n",
    "\n",
    "age_modes"
   ]
  },
  {
   "cell_type": "code",
   "execution_count": null,
   "id": "7fac68c6",
   "metadata": {},
   "outputs": [],
   "source": [
    "#plot mode share by age\n",
    "make_stacked_bars(age_modes, \"Mode Share by Age\", \"Participant Age\", \"Proportion of Total Trip Count (%)\", \"CanBikeCO_report_age_mode_share.jpeg\")"
   ]
  },
  {
   "cell_type": "markdown",
   "id": "8fc34625",
   "metadata": {},
   "source": [
    "## e-bike distances by program\n",
    "\n",
    "figure 5 in the paper"
   ]
  },
  {
   "cell_type": "code",
   "execution_count": null,
   "id": "1d424645",
   "metadata": {},
   "outputs": [],
   "source": [
    "# Distribution of distances by program\n",
    "plot_data = cleaned_data.copy()\n",
    "plot_data = plot_data[plot_data['Mode_confirm']=='E-bike']\n",
    "plot_data['Program'] = plot_data['program'].replace(['4c','cc','fc','pc','sc','vail'],['Four Corners','Community Cycles\\n(Boulder)','Fort Collins','Pueblo','Smart Commute\\n(Denver North)','Vail'])\n",
    "\n",
    "plot_title = 'Distribution of E-Bike Trip Distances by Program'\n",
    "ylab = 'Distance (miles)'\n",
    "\n",
    "fig, ax = plt.subplots(figsize=(10,8))\n",
    "sns.boxplot(ax=ax, data=plot_data, x='Program', y='distance_miles', hue='Mode_confirm', showfliers=False).set(title=plot_title, xlabel='', ylabel=ylab)\n",
    "plt.subplots_adjust(bottom=0.25)\n",
    "plt.xticks(rotation=35, ha='right', fontsize=14)\n",
    "plt.yticks(fontsize=14)\n",
    "plt.legend([])\n",
    "\n",
    "# Calculate number of obs per group & median to position labels\n",
    "medians = plot_data.groupby(['Program'])['distance_miles'].median().values\n",
    "nobs = plot_data['Program'].value_counts().values\n",
    "nobs = [str(x) for x in nobs.tolist()]\n",
    "nobs = [\"n: \" + i for i in nobs]\n",
    " \n",
    "# Add it to the plot\n",
    "pos = range(len(nobs))\n",
    "for tick,label in zip(pos,ax.get_xticklabels()):\n",
    "    ax.text(pos[tick],\n",
    "            medians[tick] + 0.03,\n",
    "            nobs[tick],\n",
    "            horizontalalignment='center',\n",
    "            size='12',\n",
    "            color='w',\n",
    "            weight='semibold')\n",
    " \n",
    "plt.savefig(\"CanBikeCO_report_e-bike_miles_dist.jpeg\", bbox_inches='tight')"
   ]
  },
  {
   "cell_type": "markdown",
   "id": "f8e7f9de",
   "metadata": {},
   "source": [
    "## E-bike trips across occuptations\n",
    "\n",
    "figures 13 and 25"
   ]
  },
  {
   "cell_type": "code",
   "execution_count": null,
   "id": "1100f0ba",
   "metadata": {},
   "outputs": [],
   "source": [
    "data = cleaned_data.copy()\n",
    "data['occupation_cat'] = data['which_best_describes_your_primary_job?'].replace(['Sales or service',\n",
    "                                                                                 'Manufacturing, construction, maintenance, or farming',                                                                            \n",
    "                                                                                 'Janitorial',\n",
    "                                                                                 'Professional, managerial, or technical',\n",
    "                                                                                 'Clerical or administrative support',\n",
    "                                                                                 'Teacher',\n",
    "                                                                                 'Medical',\n",
    "                                                                                 'CNA',\n",
    "                                                                                 'Restaurant manager',\n",
    "                                                                                 'Co op laundry',\n",
    "                                                                                 'Cook',\n",
    "                                                                                 'Nurse',\n",
    "                                                                                 'Dining Services',\n",
    "                                                                                 'Security',\n",
    "                                                                                 'Food service',\n",
    "                                                                                 'Csu custodian',\n",
    "                                                                                 'Residential Dining Services',\n",
    "                                                                                 'education/early childhood',\n",
    "                                                                                 'Inbound cs',\n",
    "                                                                                 'Custodial Maintanace',\n",
    "                                                                                 'Amazon',\n",
    "                                                                                 'Custodian',\n",
    "                                                                                 'Hockey rink',\n",
    "                                                                                 'Pastry chef and line cook',                                                                                 \n",
    "                                                                                 'Cooking',\n",
    "                                                                                 'Education non-profit manager',\n",
    "                                                                                 'Healthcare',\n",
    "                                                                                 'Chef',\n",
    "                                                                                 'Accounting Technician',\n",
    "                                                                                 'Caregiver/ Qmap',\n",
    "                                                                                 'Caregiver',\n",
    "                                                                                 'Health care',\n",
    "                                                                                 'Medical field'],\n",
    "                                                                                ['Sales or Service',\n",
    "                                                                                 'Manufacturing, Construction, Maintenance, or Farming',\n",
    "                                                                                 'Custodial',\n",
    "                                                                                 'Professional, Managerial, or Technical',\n",
    "                                                                                 'Clerical or Administrative Support',\n",
    "                                                                                 'Education',\n",
    "                                                                                 'Medical/Healthcare',\n",
    "                                                                                 'Medical/Healthcare',\n",
    "                                                                                 'Professional, Managerial, or Technical',\n",
    "                                                                                 'Sales or Service',\n",
    "                                                                                 'Sales or Service',\n",
    "                                                                                 'Medical/Healthcare',\n",
    "                                                                                 'Sales or Service',\n",
    "                                                                                 'Professional, Managerial, or Technical',\n",
    "                                                                                 'Sales or Service',\n",
    "                                                                                 'Custodial',\n",
    "                                                                                 'Sales or Service',\n",
    "                                                                                 'Education',\n",
    "                                                                                 'Professional, Managerial, or Technical',\n",
    "                                                                                 'Custodial',\n",
    "                                                                                 'Sales or Service',\n",
    "                                                                                 'Custodial',\n",
    "                                                                                 'Sales or Service',\n",
    "                                                                                 'Sales or Service',\n",
    "                                                                                 'Sales or Service',\n",
    "                                                                                 'Education',\n",
    "                                                                                 'Medical/Healthcare',\n",
    "                                                                                 'Sales or Service',\n",
    "                                                                                 'Professional, Managerial, or Technical',\n",
    "                                                                                 'Medical/Healthcare',\n",
    "                                                                                 'Medical/Healthcare',\n",
    "                                                                                 'Medical/Healthcare',\n",
    "                                                                                 'Medical/Healthcare'])\n",
    "data['occupation_cat'].unique()"
   ]
  },
  {
   "cell_type": "code",
   "execution_count": null,
   "id": "ac38a650",
   "metadata": {},
   "outputs": [],
   "source": [
    "data['occupation_cat']= data['occupation_cat'].replace(['Food Service', 'Cooking ', 'Accounting Technician ','Education ',\n",
    "                                                       'Csu custodian ','Custodial ','Maintenance ','Maintenance','Janitorial ',\n",
    "                                                       'Amazon ', 'Custodial Maintanace ', 'Hockey rink '],\n",
    "                                                      ['Sales or Service' , 'Sales or Service', 'Professional, Managerial, or Technical',\n",
    "                                                      'Education', 'Custodial', 'Custodial', 'Custodial', 'Custodial', 'Custodial',\n",
    "                                                      'Sales or Service','Custodial' ,'Sales or Service'])\n",
    "\n",
    "data['occupation_cat'] = data['occupation_cat'].replace(['Manufacturing, Construction, Maintenance, or Farming', 'Professional, Managerial, or Technical', 'Clerical or Administrative Support'],\n",
    "                                                        ['Manufacturing, Construction,\\nMaintenance, or Farming', 'Professional, Managerial,\\nor Technical', 'Clerical or\\nAdministrative Support'])\n",
    "data['occupation_cat'].unique()"
   ]
  },
  {
   "cell_type": "code",
   "execution_count": null,
   "id": "d42afa3c",
   "metadata": {},
   "outputs": [],
   "source": [
    "plot_data_1=data[data['occupation_cat'].notnull()]"
   ]
  },
  {
   "cell_type": "code",
   "execution_count": null,
   "id": "eedd817f",
   "metadata": {},
   "outputs": [],
   "source": [
    "# proportion of trips by occupation\n",
    "make_occupation_chart(plot_data_1, 'E-bike Use (Trips) by Occupation Categories', 'CanBikeCO_report_occ_ebike_trips.jpeg')"
   ]
  },
  {
   "cell_type": "code",
   "execution_count": null,
   "id": "1dcd5db7",
   "metadata": {},
   "outputs": [],
   "source": [
    "#format more data\n",
    "data['induced']=np.where(data['Replaced_mode']=='No Travel', 'Induced', 'Non-induced')\n",
    "data['Program'] = data['program'].replace(['4c','cc','fc','pc','sc','vail'],['Four Corners (Durango)','Community Cycles (Boulder)','Fort Collins','Pueblo County','Smart Commute (Denver North)','Vail'])\n",
    "\n",
    "# proportion of induced trips by occupation\n",
    "make_occupation_chart(data, 'Induced Work E-bike Trips by Occupation Categories', 'CanBikeCO_report_occ_induced_ebike_trips.jpeg')"
   ]
  },
  {
   "cell_type": "markdown",
   "id": "c08e103d",
   "metadata": {},
   "source": [
    "## substitutions\n",
    "Figure num 23"
   ]
  },
  {
   "cell_type": "code",
   "execution_count": null,
   "id": "5c390f1e",
   "metadata": {},
   "outputs": [],
   "source": [
    "# Substitution rate of ebike trips\n",
    "plot_data = cleaned_data.copy()\n",
    "plot_data = plot_data[plot_data['Mode_confirm']=='E-bike']\n",
    "\n",
    "t1 = plot_data[['Mode_confirm','Replaced_mode','distance_miles']]\n",
    "t1 = t1.groupby(['Mode_confirm','Replaced_mode'], as_index=False).count()\n",
    "t1['distance_miles'].fillna(0, inplace=True)\n",
    "\n",
    "t2 = plot_data[['Mode_confirm','distance_miles']]\n",
    "t2 = t2.groupby(['Mode_confirm'], as_index=False).count()\n",
    "plot_data = t1.merge(t2, on='Mode_confirm')\n",
    "plot_data['proportion'] = plot_data['distance_miles_x'] / plot_data['distance_miles_y']\n",
    "plot_data['proportion'].fillna(0, inplace=True)\n",
    "\n",
    "data_order = plot_data.copy()[['Replaced_mode', 'proportion']]\n",
    "data_order = data_order.groupby(['Replaced_mode'], as_index=False).mean().sort_values('proportion', ascending=False).Replaced_mode\n",
    "labels = data_order.copy()\n",
    "\n",
    "plot_title='Stated Replacement for E-Bike Trips'\n",
    "ylab='Proportion of Trips'\n",
    "\n",
    "fig, ax = plt.subplots(figsize=(10,4))\n",
    "sns.barplot(data=plot_data, x='Replaced_mode', y='proportion', estimator=np.mean, order=data_order).set(title=plot_title,xlabel='',ylabel=ylab,ylim=(0,.5))\n",
    "plt.xticks(rotation=35, ha='right')\n",
    "plt.subplots_adjust(bottom=0.25)\n",
    "ax.bar_label(ax.containers[0], fmt='%.2f', padding=10)"
   ]
  },
  {
   "cell_type": "markdown",
   "id": "c37e1452",
   "metadata": {},
   "source": [
    "## E-bike Mileage change over time\n",
    "Figure #20"
   ]
  },
  {
   "cell_type": "code",
   "execution_count": null,
   "id": "456cc888",
   "metadata": {},
   "outputs": [],
   "source": [
    "# How ebike mileage changes over time\n",
    "from datetime import datetime\n",
    "plot_data = cleaned_data.copy()\n",
    "plot_data ['date'] = pd.to_datetime(plot_data['date_time'])\n",
    "plot_data['Program'] = plot_data['program'].replace(['4c','cc','fc','pc','sc','vail'],['Four Corners (Durango)','Community Cycles (Boulder)','Fort Collins','Pueblo County','Smart Commute (Denver North)','Vail'])\n",
    "t1 = plot_data.copy()[['user_id','date','Mode_confirm','distance_miles']]\n",
    "t1 = t1.groupby(['user_id','date','Mode_confirm'], as_index=False).sum()\n",
    "t1['distance_miles'].fillna(0, inplace=True)\n",
    "t2 = plot_data.copy()[['user_id','Program','date','distance_miles']]\n",
    "t2 = t2.groupby(['user_id','Program','date'], as_index=False).sum()\n",
    "plot_data = t1.merge(t2, on=['user_id','date'])\n",
    "plot_data['proportion'] = plot_data['distance_miles_x'] / plot_data['distance_miles_y']\n",
    "plot_data['proportion'].fillna(0, inplace=True)\n",
    "plot_data = plot_data[plot_data['Mode_confirm']=='E-bike']\n",
    "plot_data = plot_data[plot_data['distance_miles_y'].notnull()]\n",
    "\n",
    "plot_title = 'E-Bike Mileage Proportion Over Time'\n",
    "fig, ax = plt.subplots(6,1, figsize=(50,50))\n",
    "sns.lineplot(data=plot_data[plot_data.Program == \"Four Corners (Durango)\"], x='date', y='proportion',color=\"red\", hue='Program', estimator=np.mean, ax=ax[0])\n",
    "ax[0].set_title(plot_title, fontsize=40)\n",
    "sns.lineplot(data=plot_data[plot_data.Program == \"Community Cycles (Boulder)\"], x='date', y='proportion', color=\"blue\",hue='Program',estimator=np.mean, ax=ax[1], palette=[\"C1\"])\n",
    "sns.lineplot(data=plot_data[plot_data.Program == \"Fort Collins\"], x='date', y='proportion', color=\"green\",hue='Program',estimator=np.mean, ax=ax[2], palette=[\"C2\"])\n",
    "sns.lineplot(data=plot_data[plot_data.Program == \"Pueblo County\"], x='date', y='proportion',color=\"cyan\",hue='Program', estimator=np.mean, ax=ax[3], palette=[\"C3\"])\n",
    "sns.lineplot(data=plot_data[plot_data.Program == \"Smart Commute (Denver North)\"], x='date', y='proportion',color=\"purple\",hue='Program', estimator=np.mean, ax=ax[4], palette=[\"C4\"])\n",
    "sns.lineplot(data=plot_data[plot_data.Program == \"Vail\"], x='date', y='proportion', color=\"orange\",hue='Program',estimator=np.mean, ax=ax[5], palette=[\"C5\"])\n",
    "ax[5].set(xlabel='Date')\n",
    "plt.setp(ax[0].get_legend().get_texts(), fontsize='40')\n",
    "plt.setp(ax[1].get_legend().get_texts(), fontsize='40')\n",
    "plt.setp(ax[2].get_legend().get_texts(), fontsize='40')\n",
    "plt.setp(ax[3].get_legend().get_texts(), fontsize='40')\n",
    "plt.setp(ax[4].get_legend().get_texts(), fontsize='40')\n",
    "plt.setp(ax[5].get_legend().get_texts(), fontsize='40')\n",
    "plt.xticks(rotation=35, ha='right', fontsize=20)\n",
    "plt.subplots_adjust(bottom=0.30)\n",
    "fig.savefig(r'mileage_over_time', bbox_inches='tight')"
   ]
  },
  {
   "cell_type": "markdown",
   "id": "623263a4",
   "metadata": {},
   "source": [
    "## distributions of distances and durations by mode\n",
    "\n",
    "Figures #4a and 4b"
   ]
  },
  {
   "cell_type": "code",
   "execution_count": null,
   "id": "ddacaca8",
   "metadata": {
    "scrolled": true
   },
   "outputs": [],
   "source": [
    "# Distribution of distances\n",
    "make_distribution_plot(cleaned_data, 'duration', 'Distribution of Trips Durations by Mode', 'Duration (minutes)')"
   ]
  },
  {
   "cell_type": "code",
   "execution_count": null,
   "id": "6008ef46",
   "metadata": {},
   "outputs": [],
   "source": [
    "# Distribution of distances by program\n",
    "make_distribution_plot(cleaned_data, 'distance_miles', 'Distribution of Distances by Mode', 'Distance (miles)')"
   ]
  },
  {
   "cell_type": "markdown",
   "id": "1582614d",
   "metadata": {},
   "source": [
    "### Proportion of trips that are ebike by income group\n",
    "\n",
    "Figure #12"
   ]
  },
  {
   "cell_type": "code",
   "execution_count": null,
   "id": "1156d9c8",
   "metadata": {},
   "outputs": [],
   "source": [
    "# Proportion of trips that are ebike by income group\n",
    "make_ebike_proportion_chart(cleaned_data, True, 'HHINC', 'E-bike Use (Trips) by Income', 'Proportion of Total Trips', 'CanBikeCO_report_income_trips')"
   ]
  },
  {
   "cell_type": "markdown",
   "id": "068d039b",
   "metadata": {},
   "source": [
    "## Proportion of miles that are ebike by income group\n",
    "\n",
    "figure #15"
   ]
  },
  {
   "cell_type": "code",
   "execution_count": null,
   "id": "d7492be8",
   "metadata": {},
   "outputs": [],
   "source": [
    "# Proportion of miles that are ebike by income group\n",
    "make_ebike_proportion_chart(cleaned_data, False, 'HHINC', 'E-bike Use (Miles) by Income', 'Proportion of Total Mileage', 'CanBikeCO_report_income_mileages')"
   ]
  },
  {
   "cell_type": "markdown",
   "id": "c4e1b1d7",
   "metadata": {},
   "source": [
    "## Proportion of trips that are ebike by income group\n",
    "\n",
    "figure #14"
   ]
  },
  {
   "cell_type": "code",
   "execution_count": null,
   "id": "704ae5b5",
   "metadata": {},
   "outputs": [],
   "source": [
    "sns.set_palette('Paired', 5)"
   ]
  },
  {
   "cell_type": "code",
   "execution_count": null,
   "id": "6df7407d",
   "metadata": {},
   "outputs": [],
   "source": [
    "# Proportion of trips that are ebike by available vehicles\n",
    "make_ebike_proportion_chart(cleaned_data, True, 'VEH_num', 'E-bike Use (Trips) by Available Vehicles', 'Proportion of Total Trips', 'CanBikeCO_report_veh_trips')"
   ]
  },
  {
   "cell_type": "markdown",
   "id": "a6c65860",
   "metadata": {},
   "source": [
    "## mileage over time\n",
    "\n",
    "figure #18 and #19"
   ]
  },
  {
   "cell_type": "code",
   "execution_count": null,
   "id": "9f9e64e4",
   "metadata": {},
   "outputs": [],
   "source": [
    "sns.set_palette('Set1', 3)"
   ]
  },
  {
   "cell_type": "code",
   "execution_count": null,
   "id": "62b9d005",
   "metadata": {},
   "outputs": [],
   "source": [
    "# How total mileage changes over time\n",
    "plot_data = cleaned_data.copy()\n",
    "plot_data ['date_time'] = pd.to_datetime(plot_data['date_time'])\n",
    "\n",
    "#need to count all combinations - make sure to treat as categorical\n",
    "plot_data[\"User\"] = plot_data[\"user_id\"].astype(\"category\")\n",
    "plot_data[\"Date\"] = plot_data[\"date_time\"].astype(\"category\")\n",
    "plot_data = plot_data.groupby(['User', 'Date']).distance_miles.sum().reset_index()\n",
    "\n",
    "plot_data\n",
    "\n",
    "plot_title = 'Total Mileage Over Time'\n",
    "ylab = 'Daily Miles per User'\n",
    "file_name = \"CanBikeCO_report_ts_miles\"\n",
    "fig, ax = plt.subplots(figsize=(16,4))\n",
    "sns.lineplot(data=plot_data, x='Date', y='distance_miles', estimator=np.mean).set(title=plot_title, xlabel='Date', ylabel=ylab)\n",
    "plt.xticks(rotation=35, ha='right')\n",
    "plt.subplots_adjust(bottom=0.25)\n",
    "ax.figure.savefig(file_name+\".png\", bbox_inches='tight')"
   ]
  },
  {
   "cell_type": "code",
   "execution_count": null,
   "id": "171243e2",
   "metadata": {},
   "outputs": [],
   "source": [
    "# How ebike mileage changes over time\n",
    "plot_data = cleaned_data.copy()\n",
    "plot_data['date_time'] = pd.to_datetime(plot_data['date_time'])\n",
    "\n",
    "#treat as categorical to count all combinations\n",
    "plot_data[\"user_id\"] = plot_data[\"user_id\"].astype(\"category\")\n",
    "plot_data[\"date_time\"] = plot_data[\"date_time\"].astype(\"category\")\n",
    "plot_data['Mode_confirm'] = plot_data['Mode_confirm'].astype(\"category\")\n",
    "\n",
    "#using the total mileage data as one side\n",
    "t1 = plot_data.groupby(['user_id', 'date_time']).distance_miles.sum().reset_index()\n",
    "\n",
    "#create the other side -- also grouping by mode\n",
    "t2 = plot_data.groupby(['user_id', 'date_time', 'Mode_confirm']).distance_miles.sum().reset_index()\n",
    "\n",
    "t2.sample(n=50, random_state=321)\n",
    "\n",
    "#then we merge\n",
    "plot_data = t2.merge(t1, on=['user_id','date_time'])\n",
    "plot_data = plot_data[plot_data['Mode_confirm']=='E-bike']\n",
    "plot_data.sample(n=50, random_state=321)\n",
    "\n",
    "plot_data['proportion'] = plot_data['distance_miles_x'] / plot_data['distance_miles_y']\n",
    "plot_data['proportion'].fillna(0, inplace=True)\n",
    "\n",
    "plot_data.sample(n=50, random_state=321)\n",
    "\n",
    "plot_data = plot_data[plot_data['distance_miles_y'].notnull()]\n",
    "plot_data = plot_data[plot_data['distance_miles_y'] != 0] #drop 0 mile days to prevent 0/0 reading as 1\n",
    "\n",
    "plot_title = 'E-Bike Mileage Proportion Over Time'\n",
    "ylab = 'Proportion of Daily Miles'\n",
    "file_name = \"CanBikeCO_report_ts_mileage_proportion\"\n",
    "fig, ax = plt.subplots(figsize=(16,4))\n",
    "sns.lineplot(data=plot_data, x='date_time', y='proportion', estimator=np.mean).set(title=plot_title, xlabel='Date', ylabel=ylab)\n",
    "plt.xticks(rotation=35, ha='right')\n",
    "plt.subplots_adjust(bottom=0.25)\n",
    "ax.figure.savefig(file_name+\".png\", bbox_inches='tight')"
   ]
  },
  {
   "cell_type": "markdown",
   "id": "f138bd1f",
   "metadata": {},
   "source": [
    "## Distance and mode!\n",
    "\n",
    "figure #16 & 17"
   ]
  },
  {
   "cell_type": "code",
   "execution_count": null,
   "id": "9296d60a",
   "metadata": {},
   "outputs": [],
   "source": [
    "sns.set_palette('Set1', 9)"
   ]
  },
  {
   "cell_type": "code",
   "execution_count": null,
   "id": "8d0664cb",
   "metadata": {},
   "outputs": [],
   "source": [
    "# Distance and mode chosen relationship -- short trips\n",
    "plot_data = cleaned_data.copy()\n",
    "plot_data = plot_data[plot_data['distance_miles']<6]\n",
    "\n",
    "plot_title = 'Mode Share by Trip Distance'\n",
    "ylab = 'Total Trips'\n",
    "file_name = \"CanBikeCO_report_mode_share_distance_short\"\n",
    "sns.histplot(plot_data, x=\"distance_miles\", hue=\"Mode_confirm\", element=\"poly\", multiple=\"stack\")"
   ]
  },
  {
   "cell_type": "code",
   "execution_count": null,
   "id": "6595df73",
   "metadata": {},
   "outputs": [],
   "source": [
    "# Distance and mode chosen relationship -- long trips\n",
    "plot_data = cleaned_data.copy()\n",
    "plot_data = plot_data[plot_data['distance_miles']>5]\n",
    "\n",
    "plot_title = 'Mode Share by Trip Distance'\n",
    "ylab = 'Total Trips'\n",
    "file_name = \"CanBikeCO_report_mode_share_distance_long\"\n",
    "sns.histplot(plot_data, x=\"distance_miles\", hue=\"Mode_confirm\", element=\"poly\", multiple=\"stack\")"
   ]
  },
  {
   "cell_type": "markdown",
   "id": "dea73226",
   "metadata": {},
   "source": [
    "## induced trip purposes for e-bikes\n",
    "\n",
    "Figure #24"
   ]
  },
  {
   "cell_type": "code",
   "execution_count": null,
   "id": "3dd68716",
   "metadata": {},
   "outputs": [],
   "source": [
    "# What purpose ebike is used for by program\n",
    "plot_data = data.copy()\n",
    "# plot_data['induced']=np.where(plot_data['Replaced_mode']=='No Travel', 'Induced', 'Non-induced')\n",
    "t1 = plot_data.groupby(['induced','Trip_purpose','Mode_confirm'], as_index=False).count()[['induced','Trip_purpose','Mode_confirm','distance_miles']]\n",
    "t1['distance_miles'].fillna(0, inplace=True)\n",
    "t2 = plot_data.groupby(['induced','Trip_purpose'], as_index=False).count()[['induced','Trip_purpose','distance_miles']]\n",
    "plot_data = t1.merge(t2, on=['induced','Trip_purpose'])\n",
    "plot_data['proportion'] = (plot_data['distance_miles_x'] / plot_data['distance_miles_y'])*100\n",
    "plot_data['proportion'].fillna(0, inplace=True)\n",
    "plot_data = plot_data[plot_data['Mode_confirm']=='E-bike']\n",
    "plot_data = plot_data[plot_data['induced']=='Induced']\n",
    "\n",
    "plot_title = 'Induced E-Bike Trip Proportion By Trip Purpose'\n",
    "ylab = 'Proportion of Induced Trips'\n",
    "fig, ax = plt.subplots(figsize=(20,10))\n",
    "sns.barplot(data=plot_data, x='Trip_purpose', y='proportion', hue='induced',estimator=np.mean, ci=None).set(title=plot_title, xlabel='Date', ylabel=ylab)\n",
    "plt.xticks(rotation=35, ha='right')\n",
    "plt.subplots_adjust(bottom=0.25)\n"
   ]
  }
 ],
 "metadata": {
  "kernelspec": {
   "display_name": "Python 3 (ipykernel)",
   "language": "python",
   "name": "python3"
  },
  "language_info": {
   "codemirror_mode": {
    "name": "ipython",
    "version": 3
   },
   "file_extension": ".py",
   "mimetype": "text/x-python",
   "name": "python",
   "nbconvert_exporter": "python",
   "pygments_lexer": "ipython3",
   "version": "3.9.19"
  }
 },
 "nbformat": 4,
 "nbformat_minor": 5
}
