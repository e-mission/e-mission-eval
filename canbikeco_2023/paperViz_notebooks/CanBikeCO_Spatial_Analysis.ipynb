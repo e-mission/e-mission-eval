{
 "cells": [
  {
   "cell_type": "markdown",
   "id": "5ad33745",
   "metadata": {},
   "source": [
    "# Spatial Analysis\n",
    "\n",
    "Data expected is the processed TSDC data, stored in a csv"
   ]
  },
  {
   "cell_type": "code",
   "execution_count": null,
   "id": "fd37ea51",
   "metadata": {},
   "outputs": [],
   "source": [
    "to_data_folder = \"../Data\" #data folder, where composite data was written from the TSDC_data file\n",
    "to_boundary_folder = \"../Data/muni_boundaries\" #where municipality boundary files are published"
   ]
  },
  {
   "cell_type": "code",
   "execution_count": null,
   "id": "d9ef5d2a",
   "metadata": {},
   "outputs": [],
   "source": [
    "# %conda install geopandas"
   ]
  },
  {
   "cell_type": "markdown",
   "id": "11f4e900",
   "metadata": {},
   "source": [
    "If, when importing geopandas, you get the error `ImportError: libtiff.so.5: cannot open shared object file: No such file or directory` you can resolve it by running the command `apt install libtiff5` in the root of the notebook container, if using docker desktop, you can access a terminal from the container, else use `docker exec -it [container id] /bin/sh`. You might need to run `apt-get update` before you can perform the install. "
   ]
  },
  {
   "cell_type": "code",
   "execution_count": null,
   "id": "e4ccc2be",
   "metadata": {},
   "outputs": [],
   "source": [
    "# Spatial Analysis\n",
    "import geopandas as gpd\n",
    "import pandas as pd\n",
    "import matplotlib.pyplot as plt\n",
    "import numpy as np\n",
    "import json\n",
    "import shapely as shp\n",
    "from shapely.geometry import shape\n",
    "from shapely.geometry import MultiPoint\n",
    "from shapely.geometry import Point\n",
    "\n",
    "def parse_geom(geom_str):\n",
    "    try:\n",
    "        return shape(json.loads(geom_str.replace(\"'\", '\"')))\n",
    "    except (TypeError, AttributeError):  # Handle NaN and empty strings\n",
    "        return None"
   ]
  },
  {
   "cell_type": "code",
   "execution_count": null,
   "id": "3c8bcf42",
   "metadata": {},
   "outputs": [],
   "source": [
    "trip_program_df = pd.read_csv(to_data_folder + \"/tsdc_filtered_merged_trips.csv\") #issues here with the columns and data formatting when coming from the TSDC...\n",
    "\n",
    "trip_program_df[\"distance_km\"] = trip_program_df.distance / 1000\n",
    "\n",
    "trip_program_df.sample(n=50, random_state=123)[[\"program\", \"perno\", \"_id\", \"data_start_fmt_time\", \"data_end_fmt_time\", \"distance_km\", \"Mode_confirm\", \"data_start_loc_coordinates\"]]"
   ]
  },
  {
   "cell_type": "code",
   "execution_count": null,
   "id": "17a946fb",
   "metadata": {},
   "outputs": [],
   "source": [
    "#assemble the points\n",
    "trip_program_df[\"start_loc\"] = \"{'type': 'Point', 'coordinates': \" + trip_program_df['data_start_loc_coordinates'] + \"}\"\n",
    "trip_program_df[\"end_loc\"] = \"{'type': 'Point', 'coordinates': \" + trip_program_df['data_end_loc_coordinates'] + \"}\"\n",
    "\n",
    "trip_program_df[\"start_loc\"] = trip_program_df[\"start_loc\"].apply(parse_geom)\n",
    "trip_program_df[\"end_loc\"] = trip_program_df[\"end_loc\"].apply(parse_geom)\n",
    "trip_program_df.head()"
   ]
  },
  {
   "cell_type": "code",
   "execution_count": null,
   "id": "657da42e",
   "metadata": {},
   "outputs": [],
   "source": [
    "trip_program_df['start_end'] = trip_program_df.apply(lambda row: MultiPoint([row['start_loc'], row['end_loc']]), axis=1) #Create a multipoint column\n",
    "\n",
    "trip_program_df_gdf = gpd.GeoDataFrame(trip_program_df, geometry=\"start_end\")\n",
    "trip_program_df_gdf.crs is None\n",
    "trip_program_df_gdf = trip_program_df_gdf.set_crs(4269, allow_override=True)\n",
    "trip_program_df_gdf.crs"
   ]
  },
  {
   "cell_type": "markdown",
   "id": "f7b2f6a8",
   "metadata": {},
   "source": [
    "## Data Preparation"
   ]
  },
  {
   "cell_type": "code",
   "execution_count": null,
   "id": "2e613b21",
   "metadata": {},
   "outputs": [],
   "source": [
    "trip_program_df_gdf.rename(columns={\"data_user_input_mode_confirm\": \"mode_confirm\"}, inplace = True)\n",
    "\n",
    "e_bike_trips = trip_program_df_gdf[trip_program_df_gdf.mode_confirm == 'pilot_ebike']\n",
    "print(len(e_bike_trips), \"ebike trips\")\n",
    "\n",
    "denver_boundary = gpd.read_file(to_boundary_folder + \"/denver_uza_akcicek.shp\")\n",
    "\n",
    "e_bike_start_end_points = pd.concat([e_bike_trips.start_loc, e_bike_trips.end_loc]); \n",
    "print(len(e_bike_start_end_points))\n",
    "e_bike_geo_start_end_points = gpd.GeoSeries(e_bike_start_end_points.apply(lambda p: shp.geometry.Point(p.coords)), crs=\"EPSG:4269\")\n",
    "e_bike_start_or_end_within = e_bike_geo_start_end_points[e_bike_geo_start_end_points.within(denver_boundary.geometry.iloc[0])]"
   ]
  },
  {
   "cell_type": "code",
   "execution_count": null,
   "id": "552e2e6a",
   "metadata": {},
   "outputs": [],
   "source": [
    "car_like_trips = trip_program_df_gdf.query('mode_confirm == \"drove_alone\" | mode_confirm == \"shared_ride\" | mode_confirm == \"taxi\"')\n",
    "print(len(car_like_trips))\n",
    "car_like_start_end_points = pd.concat([car_like_trips.start_loc, car_like_trips.end_loc])\n",
    "\n",
    "car_like_geo_start_end_points = gpd.GeoSeries(car_like_start_end_points.apply(lambda p: shp.geometry.Point(p.coords)), crs=\"EPSG:4269\")\n",
    "car_like_start_or_end_within = car_like_geo_start_end_points[car_like_geo_start_end_points.within(denver_boundary.geometry.iloc[0])]"
   ]
  },
  {
   "cell_type": "markdown",
   "id": "2f6a7b47",
   "metadata": {},
   "source": [
    "### preparing the boundaries"
   ]
  },
  {
   "cell_type": "code",
   "execution_count": null,
   "id": "95076149",
   "metadata": {},
   "outputs": [],
   "source": [
    "def prepare_boundary(filename):\n",
    "    boundary = gpd.read_file(to_boundary_folder + filename)\n",
    "    boundary.plot()\n",
    "    return boundary"
   ]
  },
  {
   "cell_type": "code",
   "execution_count": null,
   "id": "ba6cb2f2",
   "metadata": {},
   "outputs": [],
   "source": [
    "boulder_boundary = prepare_boundary(\"/boulder.shp\")\n",
    "durango_boundary = prepare_boundary(\"/durango.shp\")\n",
    "fort_collins_boundary = prepare_boundary(\"/fort_collins.shp\")\n",
    "vail_boundary = prepare_boundary(\"/vail.shp\")\n",
    "pueblo_boundary = prepare_boundary(\"/pueblo.shp\")\n",
    "denver_boundary = prepare_boundary(\"/denver_uza_akcicek.shp\")"
   ]
  },
  {
   "cell_type": "markdown",
   "id": "3d6a9181",
   "metadata": {},
   "source": [
    "### gathering data within the boundaries"
   ]
  },
  {
   "cell_type": "code",
   "execution_count": null,
   "id": "c8da2c96",
   "metadata": {},
   "outputs": [],
   "source": [
    "#denver is particular to smart commute - don't want to cloud with people who visited denver from other places\n",
    "all_sc_within_denver = trip_program_df_gdf[(trip_program_df_gdf.within(denver_boundary.geometry.iloc[0])) & (trip_program_df_gdf.program == \"sc\")]\n",
    "\n",
    "all_within_boulder = trip_program_df_gdf[trip_program_df_gdf.within(boulder_boundary.geometry.iloc[0])]\n",
    "all_within_durango = trip_program_df_gdf[trip_program_df_gdf.within(durango_boundary.geometry.iloc[0])]\n",
    "all_within_fortcollins = trip_program_df_gdf[trip_program_df_gdf.within(fort_collins_boundary.geometry.iloc[0])]\n",
    "all_within_vail = trip_program_df_gdf[trip_program_df_gdf.within(vail_boundary.geometry.iloc[0])]\n",
    "all_within_pueblo = trip_program_df_gdf[trip_program_df_gdf.within(pueblo_boundary.geometry.iloc[0])]"
   ]
  },
  {
   "cell_type": "markdown",
   "id": "b1567784",
   "metadata": {},
   "source": [
    "### splitting out car trips and e-bike trips to compare"
   ]
  },
  {
   "cell_type": "code",
   "execution_count": null,
   "id": "1246ae46",
   "metadata": {},
   "outputs": [],
   "source": [
    "def trips_in_border(boundary):\n",
    "    car_trips = car_like_trips[car_like_trips.within(boundary.geometry.iloc[0])]\n",
    "    bike_trips = e_bike_trips[e_bike_trips.within(boundary.geometry.iloc[0])]\n",
    "    \n",
    "    return car_trips, bike_trips"
   ]
  },
  {
   "cell_type": "code",
   "execution_count": null,
   "id": "681f775a",
   "metadata": {},
   "outputs": [],
   "source": [
    "#denver -- only Smart Commute data!!\n",
    "car_like_start_or_end_within_denver = all_sc_within_denver.query('mode_confirm == \"drove_alone\" | mode_confirm == \"shared_ride\" | mode_confirm == \"taxi\"')\n",
    "e_bike_start_or_end_within_denver = all_sc_within_denver[all_sc_within_denver.mode_confirm == 'pilot_ebike']\n",
    "\n",
    "#boulder\n",
    "car_like_start_or_end_within_boulder, e_bike_start_or_end_within_boulder = trips_in_border(boulder_boundary)\n",
    "\n",
    "#durango\n",
    "car_like_start_or_end_within_durango, e_bike_start_or_end_within_durango = trips_in_border(durango_boundary)\n",
    "\n",
    "#fort collins\n",
    "car_like_start_or_end_within_fortcollins, e_bike_start_or_end_within_fortcollins = trips_in_border(fort_collins_boundary)\n",
    "\n",
    "#vail\n",
    "car_like_start_or_end_within_vail, e_bike_start_or_end_within_vail = trips_in_border(vail_boundary.geometry)\n",
    "\n",
    "#pueblo\n",
    "car_like_start_or_end_within_pueblo, e_bike_start_or_end_within_pueblo = trips_in_border(pueblo_boundary)"
   ]
  },
  {
   "cell_type": "markdown",
   "id": "6ba2e870",
   "metadata": {},
   "source": [
    "### bonus plots [all, e-bike, car]"
   ]
  },
  {
   "cell_type": "code",
   "execution_count": null,
   "id": "5d6a0988",
   "metadata": {},
   "outputs": [],
   "source": [
    "def bonus_plots(area_boundary, all_within, e_bikes, cars):\n",
    "    fig, ax_arr = plt.subplots(nrows=1, ncols=3, figsize=(15,15), sharex=True, sharey=True)\n",
    "    area_boundary.boundary.plot(ax=ax_arr[0], alpha = 0.2, color = \"black\", edgecolor='black')\n",
    "    all_within.plot(ax=ax_arr[0], markersize=1)\n",
    "    area_boundary.boundary.plot(ax=ax_arr[1], alpha = 0.2, color = \"black\", edgecolor='black')\n",
    "    e_bikes.plot(color=\"#28a745\", ax=ax_arr[1], markersize=1)\n",
    "    area_boundary.boundary.plot(ax=ax_arr[2], alpha = 0.2, color = \"black\", edgecolor='black')\n",
    "    cars.plot(color=\"#dc3545\", ax=ax_arr[2], markersize=1)"
   ]
  },
  {
   "cell_type": "code",
   "execution_count": null,
   "id": "d87aae85",
   "metadata": {},
   "outputs": [],
   "source": [
    "#boulder\n",
    "bonus_plots(boulder_boundary, all_within_boulder, e_bike_start_or_end_within_boulder, car_like_start_or_end_within_boulder)"
   ]
  },
  {
   "cell_type": "code",
   "execution_count": null,
   "id": "5baef3f5",
   "metadata": {},
   "outputs": [],
   "source": [
    "#durango\n",
    "bonus_plots(durango_boundary, all_within_durango, e_bike_start_or_end_within_durango, car_like_start_or_end_within_durango)"
   ]
  },
  {
   "cell_type": "code",
   "execution_count": null,
   "id": "6125491d",
   "metadata": {},
   "outputs": [],
   "source": [
    "#fort collins\n",
    "bonus_plots(fort_collins_boundary, all_within_fortcollins, e_bike_start_or_end_within_fortcollins, car_like_start_or_end_within_fortcollins)"
   ]
  },
  {
   "cell_type": "code",
   "execution_count": null,
   "id": "0fa3bccf",
   "metadata": {},
   "outputs": [],
   "source": [
    "#vail\n",
    "bonus_plots(vail_boundary, all_within_vail, e_bike_start_or_end_within_vail, car_like_start_or_end_within_vail)"
   ]
  },
  {
   "cell_type": "code",
   "execution_count": null,
   "id": "562090b3",
   "metadata": {},
   "outputs": [],
   "source": [
    "#pueblo\n",
    "bonus_plots(pueblo_boundary, all_within_pueblo, e_bike_start_or_end_within_pueblo, car_like_start_or_end_within_pueblo)"
   ]
  },
  {
   "cell_type": "code",
   "execution_count": null,
   "id": "2327e55d",
   "metadata": {},
   "outputs": [],
   "source": [
    "#denver\n",
    "bonus_plots(denver_boundary, all_sc_within_denver, e_bike_start_or_end_within_denver, car_like_start_or_end_within_denver)"
   ]
  },
  {
   "cell_type": "markdown",
   "id": "814b21a1",
   "metadata": {},
   "source": [
    "### Preparing for block/pixel analysis"
   ]
  },
  {
   "cell_type": "code",
   "execution_count": null,
   "id": "feb15066",
   "metadata": {},
   "outputs": [],
   "source": [
    "def prepare_blocks_pixels(block_filename, pixel_filename):\n",
    "    blocks = gpd.read_file(to_boundary_folder + block_filename)\n",
    "    pixels = gpd.read_file(to_boundary_folder + pixel_filename)\n",
    "    return blocks, pixels"
   ]
  },
  {
   "cell_type": "code",
   "execution_count": null,
   "id": "34efb4d4",
   "metadata": {},
   "outputs": [],
   "source": [
    "#read in block and pixel files\n",
    "denver_blocks, denver_pixels = prepare_blocks_pixels(\"/denver_blocks.shp\", \"/denver_pixels_ca.shp\")\n",
    "boulder_blocks, boulder_pixels = prepare_blocks_pixels(\"/boulder_blocks.shp\", \"/boulder_pixels.shp\")\n",
    "fort_collins_blocks, fort_collins_pixels = prepare_blocks_pixels(\"/fort_collins_blocks.shp\", \"/fortcollins_pixels.shp\")\n",
    "vail_blocks, vail_pixels = prepare_blocks_pixels(\"/vail_blocks.shp\", \"/vail_pixels.shp\")\n",
    "durango_blocks, durango_pixels = prepare_blocks_pixels(\"/durango_blocks.shp\", \"/durango_pixels.shp\")\n",
    "pueblo_blocks, pueblo_pixels = prepare_blocks_pixels(\"/pueblo_blocks.shp\", \"/pueblo_pixels.shp\")"
   ]
  },
  {
   "cell_type": "markdown",
   "id": "7f781c51",
   "metadata": {},
   "source": [
    "### data processing for e-bike : cars ratios [pixels and blocks]"
   ]
  },
  {
   "cell_type": "code",
   "execution_count": null,
   "id": "3d60d872",
   "metadata": {},
   "outputs": [],
   "source": [
    "## set up the get counts -- note the \"within place\" used to pull from -- denver's only inclueds smart commute\n",
    "def get_counts(pixel_polygon, all_within, all_bikes, all_cars):\n",
    "    all_trip_count = np.count_nonzero(all_within.within(pixel_polygon))\n",
    "    e_bike_trip_count = np.count_nonzero(all_bikes.within(pixel_polygon))\n",
    "    car_like_trip_count = np.count_nonzero(all_cars.within(pixel_polygon))\n",
    "    return pd.Series([all_trip_count, e_bike_trip_count, car_like_trip_count])"
   ]
  },
  {
   "cell_type": "code",
   "execution_count": null,
   "id": "9f37302a",
   "metadata": {},
   "outputs": [],
   "source": [
    "def get_denver_counts(pixel_polygon):\n",
    "    return get_counts(pixel_polygon, all_sc_within_denver, e_bike_start_or_end_within_denver, car_like_start_or_end_within_denver)\n",
    "\n",
    "def get_counts_boulder(pixel_polygon):\n",
    "    return get_counts(pixel_polygon, all_within_boulder, e_bike_start_or_end_within_boulder, car_like_start_or_end_within_boulder)\n",
    "    \n",
    "def get_counts_fortcollins(pixel_polygon):\n",
    "    return get_counts(pixel_polygon, all_within_fortcollins, e_bike_start_or_end_within_fortcollins, car_like_start_or_end_within_fortcollins)\n",
    "\n",
    "def get_counts_vail(pixel_polygon):\n",
    "    return get_counts(pixel_polygon, all_within_vail, e_bike_start_or_end_within_vail, car_like_start_or_end_within_vail)\n",
    "    \n",
    "def get_counts_durango(pixel_polygon):\n",
    "    return get_counts(pixel_polygon, all_within_durango, e_bike_start_or_end_within_durango, car_like_start_or_end_within_durango)\n",
    "    \n",
    "def get_counts_pueblo(pixel_polygon):\n",
    "    return get_counts(pixel_polygon, all_within_pueblo, e_bike_start_or_end_within_pueblo, car_like_start_or_end_within_pueblo)"
   ]
  },
  {
   "cell_type": "code",
   "execution_count": null,
   "id": "d7a0aa69",
   "metadata": {},
   "outputs": [],
   "source": [
    "#get the counts (blocks)\n",
    "denver_blocks[[\"all_trip_count\", \"e_bike_trip_count\", \"car_like_trip_count\"]] = denver_blocks.geometry.apply(lambda pp: get_denver_counts(pp))\n",
    "boulder_blocks[[\"all_trip_count\", \"e_bike_trip_count\", \"car_like_trip_count\"]] = boulder_blocks.geometry.apply(lambda pp: get_counts_boulder(pp))\n",
    "fort_collins_blocks[[\"all_trip_count\", \"e_bike_trip_count\", \"car_like_trip_count\"]] = fort_collins_blocks.geometry.apply(lambda pp: get_counts_fortcollins(pp))\n",
    "vail_blocks[[\"all_trip_count\", \"e_bike_trip_count\", \"car_like_trip_count\"]] = vail_blocks.geometry.apply(lambda pp: get_counts_vail(pp))\n",
    "durango_blocks[[\"all_trip_count\", \"e_bike_trip_count\", \"car_like_trip_count\"]] = durango_blocks.geometry.apply(lambda pp: get_counts_durango(pp))\n",
    "pueblo_blocks[[\"all_trip_count\", \"e_bike_trip_count\", \"car_like_trip_count\"]] = pueblo_blocks.geometry.apply(lambda pp: get_counts_pueblo(pp))"
   ]
  },
  {
   "cell_type": "code",
   "execution_count": null,
   "id": "08115020",
   "metadata": {},
   "outputs": [],
   "source": [
    "#get the counts (pixels)\n",
    "denver_pixels[[\"all_trip_count\", \"e_bike_trip_count\", \"car_like_trip_count\"]] = denver_pixels.geometry.apply(lambda pp: get_denver_counts(pp))\n",
    "boulder_pixels[[\"all_trip_count\", \"e_bike_trip_count\", \"car_like_trip_count\"]] = boulder_pixels.geometry.apply(lambda pp: get_counts_boulder(pp))\n",
    "fort_collins_pixels[[\"all_trip_count\", \"e_bike_trip_count\", \"car_like_trip_count\"]] = fort_collins_pixels.geometry.apply(lambda pp: get_counts_fortcollins(pp))\n",
    "vail_pixels[[\"all_trip_count\", \"e_bike_trip_count\", \"car_like_trip_count\"]] = vail_pixels.geometry.apply(lambda pp: get_counts_vail(pp))\n",
    "durango_pixels[[\"all_trip_count\", \"e_bike_trip_count\", \"car_like_trip_count\"]] = durango_pixels.geometry.apply(lambda pp: get_counts_durango(pp))\n",
    "pueblo_pixels[[\"all_trip_count\", \"e_bike_trip_count\", \"car_like_trip_count\"]] = pueblo_pixels.geometry.apply(lambda pp: get_counts_pueblo(pp))"
   ]
  },
  {
   "cell_type": "code",
   "execution_count": null,
   "id": "83e7793d",
   "metadata": {},
   "outputs": [],
   "source": [
    "def process_ratios(blocks, pixels, area_boundary):\n",
    "    #get ratio of bikes to cars (blocks)\n",
    "    blocks[\"e_bike_2_car_like\"] = blocks.e_bike_trip_count / blocks.car_like_trip_count\n",
    "    #get ratio of bikes to cars (pixels)\n",
    "    pixels[\"e_bike_2_car_like\"] = pixels.e_bike_trip_count / pixels.car_like_trip_count\n",
    "    #replacing infinity with max (blocks)\n",
    "    blocks.replace(np.inf, blocks.replace(np.inf, 0).e_bike_2_car_like.max(), inplace=True)\n",
    "    #replacing infinity with max (pixels)\n",
    "    pixels.replace(np.inf, pixels.replace(np.inf, 0).e_bike_2_car_like.max(), inplace=True)\n",
    "    #calculate where e-bike > car (blocks) -- put in T/F\n",
    "    blocks[\"e_bike_better\"] = pd.Categorical(blocks.e_bike_2_car_like >= 1)\n",
    "    #calculate where e-bike is > car (pixels) -- put in T/F\n",
    "    pixels[\"e_bike_better\"] = pd.Categorical(pixels.e_bike_2_car_like >= 1)\n",
    "    #remove nan ratios in blocks\n",
    "    blocks_2 = blocks[blocks['e_bike_2_car_like'].notna()]\n",
    "    #remove nan ratios in pixels\n",
    "    pixels_2 = pixels[pixels['e_bike_2_car_like'].notna()]\n",
    "    \n",
    "    #make the plot\n",
    "    ax = area_boundary.boundary.plot()\n",
    "    pixels_2.replace({False: \"e-bike < car\", True: \"e-bike > car\"}, inplace=True)\n",
    "    pixels_2.plot(column = \"e_bike_better\", ax = ax, legend=True, legend_kwds={\"loc\": \"lower left\"}, categorical=True, cmap=\"Paired\", figsize=(12,6))\n",
    "    \n",
    "    return blocks_2, pixels_2\n",
    "    "
   ]
  },
  {
   "cell_type": "code",
   "execution_count": null,
   "id": "8379ade4",
   "metadata": {},
   "outputs": [],
   "source": [
    "#denver\n",
    "denver_blocks_2, denver_pixels_2 = process_ratios(denver_blocks, denver_pixels, denver_boundary)"
   ]
  },
  {
   "cell_type": "code",
   "execution_count": null,
   "id": "473d56ca",
   "metadata": {},
   "outputs": [],
   "source": [
    "#boulder\n",
    "boulder_blocks_2, boulder_pixels_2 = process_ratios(boulder_blocks, boulder_pixels, boulder_boundary)"
   ]
  },
  {
   "cell_type": "code",
   "execution_count": null,
   "id": "25fc03e1",
   "metadata": {},
   "outputs": [],
   "source": [
    "#fort collins\n",
    "fort_collins_blocks_2, fort_collins_pixels_2 = process_ratios(fort_collins_blocks, fort_collins_pixels, fort_collins_boundary)"
   ]
  },
  {
   "cell_type": "code",
   "execution_count": null,
   "id": "06e6faea",
   "metadata": {},
   "outputs": [],
   "source": [
    "#vail\n",
    "vail_blocks_2, vail_pixels_2 = process_ratios(vail_blocks, vail_pixels, vail_boundary)"
   ]
  },
  {
   "cell_type": "code",
   "execution_count": null,
   "id": "463a1374",
   "metadata": {},
   "outputs": [],
   "source": [
    "#durango\n",
    "durango_blocks_2, durango_pixels_2 = process_ratios(durango_blocks, durango_pixels, durango_boundary)"
   ]
  },
  {
   "cell_type": "code",
   "execution_count": null,
   "id": "0a3c7580",
   "metadata": {},
   "outputs": [],
   "source": [
    "#pueblo\n",
    "pueblo_blocks_2, pueblo_pixels_2 = process_ratios(pueblo_blocks, pueblo_pixels, pueblo_boundary)"
   ]
  },
  {
   "cell_type": "markdown",
   "id": "4bb65635",
   "metadata": {},
   "source": [
    "## Draw up the pixel plots\n",
    "\n",
    "Figure 21"
   ]
  },
  {
   "cell_type": "markdown",
   "id": "815ff746",
   "metadata": {},
   "source": [
    "# Pixel Proportions\n",
    "\n",
    "Figure #22"
   ]
  },
  {
   "cell_type": "code",
   "execution_count": null,
   "id": "59cf9715",
   "metadata": {},
   "outputs": [],
   "source": [
    "def orgainze_ratios(pixels, program_name):\n",
    "    area = pixels.dropna().groupby(\"e_bike_better\").count()\n",
    "    area[program_name] = area['id'] / sum(area['id'])\n",
    "    \n",
    "    return area"
   ]
  },
  {
   "cell_type": "code",
   "execution_count": null,
   "id": "5c6f789c",
   "metadata": {},
   "outputs": [],
   "source": [
    "denver = orgainze_ratios(denver_pixels_2, 'Smart Commute\\n(Denver North)')\n",
    "boulder = orgainze_ratios(boulder_pixels_2, 'Comunity Cycles\\n(Boulder)')\n",
    "collins = orgainze_ratios(fort_collins_pixels_2,'Fort Collins')\n",
    "durango = orgainze_ratios(durango_pixels_2, 'Four Corners\\n(Durango)')\n",
    "vail = orgainze_ratios(vail_pixels_2, 'Vail')\n",
    "pueblo = orgainze_ratios(pueblo_pixels_2,'Pueblo')"
   ]
  },
  {
   "cell_type": "code",
   "execution_count": null,
   "id": "840139e9",
   "metadata": {},
   "outputs": [],
   "source": [
    "pixels = pd.concat([denver, boulder, collins, durango, vail, pueblo], axis = 1)\n",
    "\n",
    "pixels = pixels.drop(columns = ['id', 'geometry', 'left', 'top', 'right', 'bottom', 'all_trip_count', 'e_bike_trip_count', 'car_like_trip_count', 'e_bike_2_car_like'])\n",
    "\n",
    "pixels = pixels.transpose()\n",
    "\n",
    "#convert to %\n",
    "pixels['e-bike < car'] = pixels['e-bike < car'] * 100\n",
    "pixels['e-bike > car'] = pixels['e-bike > car'] * 100\n",
    "\n",
    "pixels = pixels[['e-bike > car', 'e-bike < car']]\n",
    "\n",
    "pixels"
   ]
  },
  {
   "cell_type": "code",
   "execution_count": null,
   "id": "423fb692",
   "metadata": {},
   "outputs": [],
   "source": [
    "ax = pixels.plot.bar(stacked=True,\n",
    "                            title=\"Where E-bikes Used More Than Cars\", \n",
    "                            ylabel=\"Proportion of Pixels (%)\",\n",
    "                            xlabel = \"Program\",)\n",
    "for c in ax.containers:\n",
    "    labels = [f'{round(v.get_height(),1)}' for v in c]\n",
    "    ax.bar_label(c, labels=labels, label_type='center')\n",
    "    \n",
    "ax.set_xticklabels(pixels.index, rotation=45, ha='right')"
   ]
  }
 ],
 "metadata": {
  "kernelspec": {
   "display_name": "Python 3 (ipykernel)",
   "language": "python",
   "name": "python3"
  },
  "language_info": {
   "codemirror_mode": {
    "name": "ipython",
    "version": 3
   },
   "file_extension": ".py",
   "mimetype": "text/x-python",
   "name": "python",
   "nbconvert_exporter": "python",
   "pygments_lexer": "ipython3",
   "version": "3.9.19"
  }
 },
 "nbformat": 4,
 "nbformat_minor": 5
}
