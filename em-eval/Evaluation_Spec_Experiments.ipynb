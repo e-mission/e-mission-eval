{
 "cells": [
  {
   "cell_type": "markdown",
   "metadata": {},
   "source": [
    "### Convert a list of nodes defining a route to a set of coordinates"
   ]
  },
  {
   "cell_type": "markdown",
   "metadata": {},
   "source": [
    "#### Make sure that OSM API is imported and can be invoked"
   ]
  },
  {
   "cell_type": "code",
   "execution_count": null,
   "metadata": {},
   "outputs": [],
   "source": [
    "import osmapi"
   ]
  },
  {
   "cell_type": "code",
   "execution_count": null,
   "metadata": {},
   "outputs": [],
   "source": [
    "osm = osmapi.OsmApi()"
   ]
  },
  {
   "cell_type": "code",
   "execution_count": null,
   "metadata": {},
   "outputs": [],
   "source": [
    "osm.NodeGet(272208711)"
   ]
  },
  {
   "cell_type": "markdown",
   "metadata": {},
   "source": [
    "#### Convert a list of route waypoints to lat lng"
   ]
  },
  {
   "cell_type": "code",
   "execution_count": null,
   "metadata": {},
   "outputs": [],
   "source": [
    "route_ids = \\\n",
    "[\n",
    "272208711, 189968414, 65544615,\n",
    "65434053, 5935985475, 1782988537, 1782988370,\n",
    "473404902, 6426708498, 343270779, 4177165168,\n",
    "4183935315, 343603930, 4177165169, 343270132,\n",
    "290554459, 65466965, 222327728, 5262671552,\n",
    "65587153, 65587151, 65628960, 65628958, 65628956,\n",
    "65470892, 147451990, 1615001111, 1735909450\n",
    "]"
   ]
  },
  {
   "cell_type": "code",
   "execution_count": null,
   "metadata": {},
   "outputs": [],
   "source": [
    "def node_to_geojson_coords(node_id):\n",
    "    node_details = osm.NodeGet(node_id)\n",
    "    return [node_details[\"lon\"], node_details[\"lat\"]]"
   ]
  },
  {
   "cell_type": "code",
   "execution_count": null,
   "metadata": {},
   "outputs": [],
   "source": [
    "route_coords = [node_to_geojson_coords(node_id) for node_id in route_ids]"
   ]
  },
  {
   "cell_type": "code",
   "execution_count": null,
   "metadata": {},
   "outputs": [],
   "source": [
    "route_coords"
   ]
  },
  {
   "cell_type": "markdown",
   "metadata": {},
   "source": [
    "#### Option 1: Use OSRM to find a route"
   ]
  },
  {
   "cell_type": "code",
   "execution_count": null,
   "metadata": {},
   "outputs": [],
   "source": [
    "route_coords_string = \";\".join([\",\".join([str(lon), str(lat)]) for [lon, lat] in route_coords])"
   ]
  },
  {
   "cell_type": "code",
   "execution_count": null,
   "metadata": {},
   "outputs": [],
   "source": [
    "route_coords_string"
   ]
  },
  {
   "cell_type": "code",
   "execution_count": null,
   "metadata": {},
   "outputs": [],
   "source": [
    "import requests"
   ]
  },
  {
   "cell_type": "markdown",
   "metadata": {},
   "source": [
    "##### With the same options as OSM (figured out by looking at the console logs) -> geometries are in the individual legs"
   ]
  },
  {
   "cell_type": "code",
   "execution_count": null,
   "metadata": {},
   "outputs": [],
   "source": [
    "basic_url = \"https://routing.openstreetmap.de/routed-car/route/v1/driving/\"+route_coords_string+\"?overview=false&geometries=polyline&steps=true\""
   ]
  },
  {
   "cell_type": "code",
   "execution_count": null,
   "metadata": {},
   "outputs": [],
   "source": [
    "basic_result = requests.get(basic_url); basic_result"
   ]
  },
  {
   "cell_type": "code",
   "execution_count": null,
   "metadata": {},
   "outputs": [],
   "source": [
    "basic_result_json = basic_result.json(); basic_result_json"
   ]
  },
  {
   "cell_type": "code",
   "execution_count": null,
   "metadata": {},
   "outputs": [],
   "source": [
    "len(basic_result_json[\"routes\"])"
   ]
  },
  {
   "cell_type": "code",
   "execution_count": null,
   "metadata": {},
   "outputs": [],
   "source": [
    "basic_result_json[\"routes\"][0]"
   ]
  },
  {
   "cell_type": "code",
   "execution_count": null,
   "metadata": {},
   "outputs": [],
   "source": [
    "basic_result_json[\"waypoints\"]"
   ]
  },
  {
   "cell_type": "code",
   "execution_count": null,
   "metadata": {
    "scrolled": true
   },
   "outputs": [],
   "source": [
    "basic_result_json[\"routes\"][0]"
   ]
  },
  {
   "cell_type": "markdown",
   "metadata": {},
   "source": [
    "##### Settings steps = false, we have no geometries at all"
   ]
  },
  {
   "cell_type": "code",
   "execution_count": null,
   "metadata": {},
   "outputs": [],
   "source": [
    "basic_url = \"https://routing.openstreetmap.de/routed-car/route/v1/driving/\"+route_coords_string+\"?overview=false&geometries=polyline&steps=false\"\n",
    "basic_result = requests.get(basic_url); basic_result\n",
    "basic_result_json = basic_result.json(); basic_result_json\n",
    "basic_result_json[\"routes\"][0]"
   ]
  },
  {
   "cell_type": "markdown",
   "metadata": {},
   "source": [
    "##### Setting overview = full returns an overall geometry"
   ]
  },
  {
   "cell_type": "code",
   "execution_count": null,
   "metadata": {},
   "outputs": [],
   "source": [
    "##### Now we have no geometries\n",
    "basic_url = \"https://routing.openstreetmap.de/routed-car/route/v1/driving/\"+route_coords_string+\"?overview=full&geometries=polyline&steps=true\"\n",
    "basic_result = requests.get(basic_url); basic_result\n",
    "basic_result_json = basic_result.json(); basic_result_json\n",
    "basic_result_json"
   ]
  },
  {
   "cell_type": "markdown",
   "metadata": {},
   "source": [
    "### Plotting the waypoints"
   ]
  },
  {
   "cell_type": "markdown",
   "metadata": {},
   "source": [
    "##### Waypoints - seems to map to points that we passed in"
   ]
  },
  {
   "cell_type": "code",
   "execution_count": null,
   "metadata": {},
   "outputs": [],
   "source": [
    "import folium"
   ]
  },
  {
   "cell_type": "code",
   "execution_count": null,
   "metadata": {},
   "outputs": [],
   "source": [
    "def lonlat_swap(lon_lat):\n",
    "    return list(reversed(lon_lat))"
   ]
  },
  {
   "cell_type": "code",
   "execution_count": null,
   "metadata": {
    "scrolled": true
   },
   "outputs": [],
   "source": [
    "basic_result_map = folium.Map()\n",
    "for i, w in enumerate(basic_result_json[\"waypoints\"]):\n",
    "    basic_result_map.add_child(folium.Marker(lonlat_swap(w[\"location\"]), popup=\"%d: %s\" % (i, w[\"name\"])))\n",
    "basic_result_map.fit_bounds([lonlat_swap(c) for c in route_coords])\n",
    "basic_result_map"
   ]
  },
  {
   "cell_type": "markdown",
   "metadata": {},
   "source": [
    "##### Decoding the geometry (note that we have one geometry per leg)"
   ]
  },
  {
   "cell_type": "code",
   "execution_count": null,
   "metadata": {},
   "outputs": [],
   "source": [
    "import polyline.codec as pc"
   ]
  },
  {
   "cell_type": "code",
   "execution_count": null,
   "metadata": {
    "scrolled": true
   },
   "outputs": [],
   "source": [
    "print(\"About to decode \"+basic_result_json[\"routes\"][0][\"geometry\"])"
   ]
  },
  {
   "cell_type": "code",
   "execution_count": null,
   "metadata": {},
   "outputs": [],
   "source": [
    "decoded_geometry = pc.PolylineCodec().decode(basic_result_json[\"routes\"][0][\"geometry\"]); decoded_geometry"
   ]
  },
  {
   "cell_type": "markdown",
   "metadata": {},
   "source": [
    "##### Comparing waypoints to geometry, there are a LOT more geometry points"
   ]
  },
  {
   "cell_type": "code",
   "execution_count": null,
   "metadata": {},
   "outputs": [],
   "source": [
    "len(basic_result_json[\"waypoints\"]), len(decoded_geometry)"
   ]
  },
  {
   "cell_type": "code",
   "execution_count": null,
   "metadata": {},
   "outputs": [],
   "source": [
    "basic_geometry_map = folium.Map()\n",
    "folium.PolyLine(decoded_geometry).add_to(basic_geometry_map)\n",
    "basic_geometry_map.fit_bounds([c for c in decoded_geometry])\n",
    "basic_geometry_map"
   ]
  },
  {
   "cell_type": "markdown",
   "metadata": {},
   "source": [
    "##### Too much zig-zagging, probably due to too many waypoints, reducing them"
   ]
  },
  {
   "cell_type": "code",
   "execution_count": null,
   "metadata": {},
   "outputs": [],
   "source": [
    "route_ids = [272208711, 343270779, 343270132,\n",
    "            65587153, 147451990, 1735909450\n",
    "]"
   ]
  },
  {
   "cell_type": "code",
   "execution_count": null,
   "metadata": {},
   "outputs": [],
   "source": [
    "route_coords = [node_to_geojson_coords(node_id) for node_id in route_ids]\n",
    "route_coords_string = \";\".join([\",\".join([str(lon), str(lat)]) for [lon, lat] in route_coords])\n",
    "basic_url = \"https://routing.openstreetmap.de/routed-car/route/v1/driving/\"+route_coords_string+\"?overview=full&geometries=polyline&steps=true\"\n",
    "basic_result = requests.get(basic_url); basic_result\n",
    "basic_result_json = basic_result.json(); basic_result_json\n",
    "basic_result_json"
   ]
  },
  {
   "cell_type": "markdown",
   "metadata": {},
   "source": [
    "##### Redoing with car"
   ]
  },
  {
   "cell_type": "code",
   "execution_count": null,
   "metadata": {},
   "outputs": [],
   "source": [
    "basic_result_map = folium.Map()\n",
    "for i, w in enumerate(basic_result_json[\"waypoints\"]):\n",
    "    basic_result_map.add_child(folium.Marker(lonlat_swap(w[\"location\"]), popup=\"%d: %s\" % (i, w[\"name\"])))\n",
    "basic_result_map.fit_bounds([lonlat_swap(c) for c in route_coords])\n",
    "basic_result_map"
   ]
  },
  {
   "cell_type": "code",
   "execution_count": null,
   "metadata": {},
   "outputs": [],
   "source": [
    "decoded_geometry = pc.PolylineCodec().decode(basic_result_json[\"routes\"][0][\"geometry\"]); decoded_geometry\n",
    "basic_geometry_map = folium.Map()\n",
    "folium.PolyLine(decoded_geometry).add_to(basic_geometry_map)\n",
    "basic_geometry_map.fit_bounds([c for c in decoded_geometry])\n",
    "basic_geometry_map"
   ]
  },
  {
   "cell_type": "markdown",
   "metadata": {},
   "source": [
    "##### This makes a lot more sense, but let's try it with foot mode"
   ]
  },
  {
   "cell_type": "code",
   "execution_count": null,
   "metadata": {},
   "outputs": [],
   "source": [
    "route_coords = [node_to_geojson_coords(node_id) for node_id in route_ids]\n",
    "route_coords_string = \";\".join([\",\".join([str(lon), str(lat)]) for [lon, lat] in route_coords])\n",
    "basic_url = \"https://routing.openstreetmap.de/routed-foot/route/v1/driving/\"+route_coords_string+\"?overview=full&geometries=polyline&steps=true\"\n",
    "basic_result = requests.get(basic_url); print(basic_result)\n",
    "basic_result_json = basic_result.json(); basic_result_json\n",
    "basic_result_json"
   ]
  },
  {
   "cell_type": "code",
   "execution_count": null,
   "metadata": {},
   "outputs": [],
   "source": [
    "basic_result_map = folium.Map()\n",
    "for i, w in enumerate(basic_result_json[\"waypoints\"]):\n",
    "    basic_result_map.add_child(folium.Marker(lonlat_swap(w[\"location\"]), popup=\"%d: %s\" % (i, w[\"name\"])))\n",
    "basic_result_map.fit_bounds([lonlat_swap(c) for c in route_coords])\n",
    "basic_result_map"
   ]
  },
  {
   "cell_type": "code",
   "execution_count": null,
   "metadata": {},
   "outputs": [],
   "source": [
    "decoded_geometry = pc.PolylineCodec().decode(basic_result_json[\"routes\"][0][\"geometry\"]); decoded_geometry\n",
    "basic_geometry_map = folium.Map()\n",
    "folium.PolyLine(decoded_geometry).add_to(basic_geometry_map)\n",
    "for i, c in enumerate(decoded_geometry):\n",
    "    folium.CircleMarker(c, radius=5, popup=\"%d: %s\" % (i, c)).add_to(basic_geometry_map)\n",
    "basic_geometry_map.fit_bounds([c for c in decoded_geometry])\n",
    "basic_geometry_map"
   ]
  },
  {
   "cell_type": "code",
   "execution_count": null,
   "metadata": {},
   "outputs": [],
   "source": []
  }
 ],
 "metadata": {
  "kernelspec": {
   "display_name": "Python 3",
   "language": "python",
   "name": "python3"
  },
  "language_info": {
   "codemirror_mode": {
    "name": "ipython",
    "version": 3
   },
   "file_extension": ".py",
   "mimetype": "text/x-python",
   "name": "python",
   "nbconvert_exporter": "python",
   "pygments_lexer": "ipython3",
   "version": "3.6.1"
  }
 },
 "nbformat": 4,
 "nbformat_minor": 2
}
