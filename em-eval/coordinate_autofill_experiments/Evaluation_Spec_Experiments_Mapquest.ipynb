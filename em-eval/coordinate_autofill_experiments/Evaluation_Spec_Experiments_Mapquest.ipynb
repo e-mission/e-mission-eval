{
 "cells": [
  {
   "cell_type": "markdown",
   "metadata": {},
   "source": [
    "### Convert a list of nodes defining a route to a set of coordinates"
   ]
  },
  {
   "cell_type": "markdown",
   "metadata": {},
   "source": [
    "This uses mapquest in an attempt to get public transit coordinates. Driving works fine, but alas, multimodal does not."
   ]
  },
  {
   "cell_type": "code",
   "execution_count": null,
   "metadata": {},
   "outputs": [],
   "source": [
    "import logging\n",
    "logging.getLogger().setLevel(logging.DEBUG)"
   ]
  },
  {
   "cell_type": "markdown",
   "metadata": {},
   "source": [
    "#### Try first with mapquest driving directions without waypoints"
   ]
  },
  {
   "cell_type": "code",
   "execution_count": null,
   "metadata": {},
   "outputs": [],
   "source": [
    "caltrain_route_coords = [\n",
    "    [-122.0698518, 37.3920245],\n",
    "    [-122.1397761, 37.4279766],\n",
    "    [-122.1560067, 37.4382072]\n",
    "]"
   ]
  },
  {
   "cell_type": "code",
   "execution_count": null,
   "metadata": {},
   "outputs": [],
   "source": [
    "import requests"
   ]
  },
  {
   "cell_type": "code",
   "execution_count": null,
   "metadata": {},
   "outputs": [],
   "source": [
    "route_response = requests.get(\"http://open.mapquestapi.com/directions/v2/route?key=<your_api_key>&from=37.3913065,-122.0763742&to=37.4454379,-122.1639914&fullShape=true&shapeFormat=cmp\")\n",
    "response_json = route_response.json()\n",
    "response_json"
   ]
  },
  {
   "cell_type": "code",
   "execution_count": null,
   "metadata": {},
   "outputs": [],
   "source": []
  },
  {
   "cell_type": "code",
   "execution_count": null,
   "metadata": {},
   "outputs": [],
   "source": [
    "response_json.keys()"
   ]
  },
  {
   "cell_type": "code",
   "execution_count": null,
   "metadata": {},
   "outputs": [],
   "source": [
    "import polyline.codec as pc\n",
    "decoded_geometry = pc.PolylineCodec().decode(response_json[\"route\"][\"shape\"][\"shapePoints\"])"
   ]
  },
  {
   "cell_type": "code",
   "execution_count": null,
   "metadata": {},
   "outputs": [],
   "source": [
    "import folium"
   ]
  },
  {
   "cell_type": "code",
   "execution_count": null,
   "metadata": {},
   "outputs": [],
   "source": [
    "basic_geometry_map = folium.Map()\n",
    "folium.PolyLine(decoded_geometry).add_to(basic_geometry_map)\n",
    "for i, c in enumerate(decoded_geometry):\n",
    "    folium.CircleMarker(c, radius=5, popup=\"%d: %s\" % (i, c)).add_to(basic_geometry_map)\n",
    "basic_geometry_map.fit_bounds([c for c in decoded_geometry])\n",
    "basic_geometry_map"
   ]
  },
  {
   "cell_type": "markdown",
   "metadata": {},
   "source": [
    "##### Now with multimodal directions"
   ]
  },
  {
   "cell_type": "markdown",
   "metadata": {},
   "source": [
    "Multi-modal is no longer supported (boo! hiss!)\n",
    "https://developer.mapquest.com/forum/multi-modal-not-working"
   ]
  },
  {
   "cell_type": "code",
   "execution_count": null,
   "metadata": {},
   "outputs": [],
   "source": []
  }
 ],
 "metadata": {
  "kernelspec": {
   "display_name": "Python 3",
   "language": "python",
   "name": "python3"
  },
  "language_info": {
   "codemirror_mode": {
    "name": "ipython",
    "version": 3
   },
   "file_extension": ".py",
   "mimetype": "text/x-python",
   "name": "python",
   "nbconvert_exporter": "python",
   "pygments_lexer": "ipython3",
   "version": "3.6.1"
  }
 },
 "nbformat": 4,
 "nbformat_minor": 2
}
