{
 "cells": [
  {
   "cell_type": "markdown",
   "metadata": {},
   "source": [
    "### Convert a list of nodes defining a route to a set of coordinates"
   ]
  },
  {
   "cell_type": "markdown",
   "metadata": {},
   "source": [
    "Again, we are trying to find the coordinates for public transit trip. This experiments with using osmapi directly to find the nodes that are part of a relation. Seems promising, but also seems like a lot of work to get the corner cases right. Might return to this later."
   ]
  },
  {
   "cell_type": "code",
   "execution_count": null,
   "metadata": {},
   "outputs": [],
   "source": [
    "import logging\n",
    "logging.getLogger().setLevel(logging.DEBUG)"
   ]
  },
  {
   "cell_type": "markdown",
   "metadata": {},
   "source": [
    "#### Let's see what we can do with the OSM API directly"
   ]
  },
  {
   "cell_type": "code",
   "execution_count": null,
   "metadata": {},
   "outputs": [],
   "source": [
    "import osmapi"
   ]
  },
  {
   "cell_type": "code",
   "execution_count": null,
   "metadata": {},
   "outputs": [],
   "source": [
    "osm = osmapi.OsmApi()"
   ]
  },
  {
   "cell_type": "code",
   "execution_count": null,
   "metadata": {},
   "outputs": [],
   "source": [
    "# Get a node\n",
    "osm.NodeGet(6426793216)"
   ]
  },
  {
   "cell_type": "code",
   "execution_count": null,
   "metadata": {},
   "outputs": [],
   "source": [
    "# Ways that the node is part of. Note that there are two ways with different IDs (685743128 and 685743129) at different changesets\n",
    "osm.NodeWays(6426793216)"
   ]
  },
  {
   "cell_type": "code",
   "execution_count": null,
   "metadata": {},
   "outputs": [],
   "source": [
    "# NodeRelations does not work, probably because there are no relations and this is not a transitive property\n",
    "osm.NodeRelations(6426793216)"
   ]
  },
  {
   "cell_type": "code",
   "execution_count": null,
   "metadata": {},
   "outputs": [],
   "source": [
    "ways = osm.NodeWays(6426793216)\n",
    "for w in ways:\n",
    "    rw = osm.WayRelations(w[\"id\"])\n",
    "    print(\"Considering way %d\" % w[\"id\"])\n",
    "    for r in rw:\n",
    "        # print(r)\n",
    "        print(\"Found relation %d with type %s\" % (r[\"id\"], r[\"tag\"][\"type\"]))\n",
    "    # print(\"Found %d relations of types %s for way %d\" % (len(rw), [r[\"type\"] for r in rw], w[\"id\"]))\n",
    "    # print(\"Found %d route relations for way %d\" % (len([r for r in rw if r[\"type\"] == \"route\"]), w[\"id\"]))"
   ]
  },
  {
   "cell_type": "code",
   "execution_count": null,
   "metadata": {},
   "outputs": [],
   "source": []
  },
  {
   "cell_type": "code",
   "execution_count": null,
   "metadata": {},
   "outputs": [],
   "source": []
  }
 ],
 "metadata": {
  "kernelspec": {
   "display_name": "Python 3",
   "language": "python",
   "name": "python3"
  },
  "language_info": {
   "codemirror_mode": {
    "name": "ipython",
    "version": 3
   },
   "file_extension": ".py",
   "mimetype": "text/x-python",
   "name": "python",
   "nbconvert_exporter": "python",
   "pygments_lexer": "ipython3",
   "version": "3.6.1"
  }
 },
 "nbformat": 4,
 "nbformat_minor": 2
}
