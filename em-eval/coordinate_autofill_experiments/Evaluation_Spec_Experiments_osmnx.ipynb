{
 "cells": [
  {
   "cell_type": "markdown",
   "metadata": {},
   "source": [
    "### Convert a list of nodes defining a route to a set of coordinates"
   ]
  },
  {
   "cell_type": "markdown",
   "metadata": {},
   "source": [
    "Again for getting public transit coordinates, I attempted to download data using OSMNX and then potentially use networkx.shortest_route.\n",
    "\n",
    "Unfortunately, osmnx is in conda-forge and downloading it required me to update a bunch of other packages as well for consistency. And when I got everything to work, downloading data for the Bay Area did not complete even after 30 minute so I gave up.\n",
    "\n",
    "And when I tried to delete it, it deleted the emission directory, which caused me to lose some work and some tests. \n",
    "\n",
    "I think this may still be a valid approach iff I can download only data associated with the mode or the relation for the evaluation trip (e.g. by using the `infrastructure` parameter to osmnx) but I am going to come back to this later."
   ]
  },
  {
   "cell_type": "code",
   "execution_count": 2,
   "metadata": {},
   "outputs": [],
   "source": [
    "import logging\n",
    "logging.getLogger().setLevel(logging.DEBUG)"
   ]
  },
  {
   "cell_type": "markdown",
   "metadata": {},
   "source": [
    "#### Let's see what we can do with the OSM API directly"
   ]
  },
  {
   "cell_type": "code",
   "execution_count": 4,
   "metadata": {},
   "outputs": [],
   "source": [
    "import osmnx as ox"
   ]
  },
  {
   "cell_type": "code",
   "execution_count": null,
   "metadata": {},
   "outputs": [],
   "source": [
    "G = ox.graph_from_bbox(38.1281, 37.0902, -121.4401, -122.6926, network_type='all')"
   ]
  },
  {
   "cell_type": "code",
   "execution_count": null,
   "metadata": {},
   "outputs": [],
   "source": []
  },
  {
   "cell_type": "code",
   "execution_count": null,
   "metadata": {},
   "outputs": [],
   "source": []
  }
 ],
 "metadata": {
  "kernelspec": {
   "display_name": "Python 3",
   "language": "python",
   "name": "python3"
  },
  "language_info": {
   "codemirror_mode": {
    "name": "ipython",
    "version": 3
   },
   "file_extension": ".py",
   "mimetype": "text/x-python",
   "name": "python",
   "nbconvert_exporter": "python",
   "pygments_lexer": "ipython3",
   "version": "3.6.1"
  }
 },
 "nbformat": 4,
 "nbformat_minor": 2
}
