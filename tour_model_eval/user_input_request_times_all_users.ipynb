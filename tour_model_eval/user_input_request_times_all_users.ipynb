{
 "cells": [
  {
   "cell_type": "markdown",
   "id": "cellular-panel",
   "metadata": {},
   "source": [
    "This notebook integrates user inputs request times in a day, in a month, and in January 2021 for all users. The scatter at the bottom shows the relationship between homogeneity score and the median of user input request proportion in a day on valid common trips after the first round clustering for all users."
   ]
  },
  {
   "cell_type": "code",
   "execution_count": null,
   "id": "inner-sacramento",
   "metadata": {
    "scrolled": true
   },
   "outputs": [],
   "source": [
    "import logging\n",
    "\n",
    "# Our imports\n",
    "import emission.core.get_database as edb\n",
    "import emission.analysis.modelling.tour_model.cluster_pipeline as pipeline\n",
    "import emission.analysis.modelling.tour_model.similarity as similarity\n",
    "import emission.analysis.modelling.tour_model.featurization as featurization\n",
    "import emission.analysis.modelling.tour_model.representatives as representatives\n",
    "import emission.storage.decorations.analysis_timeseries_queries as esda\n",
    "import pandas as pd\n",
    "from numpy import *\n",
    "import confirmed_trips_eval_bins_clusters as evaluation\n",
    "from sklearn import metrics\n",
    "from pandas.testing import assert_frame_equal\n",
    "import matplotlib.pyplot as plt\n",
    "from matplotlib.ticker import MaxNLocator\n",
    "import numpy as np\n",
    "from matplotlib import cm"
   ]
  },
  {
   "cell_type": "code",
   "execution_count": null,
   "id": "subjective-cruise",
   "metadata": {},
   "outputs": [],
   "source": [
    "participant_uuid_obj = list(edb.get_profile_db().find({\"install_group\": \"participant\"}, {\"user_id\": 1, \"_id\": 0}))\n",
    "all_users = [u[\"user_id\"] for u in participant_uuid_obj]"
   ]
  },
  {
   "cell_type": "code",
   "execution_count": null,
   "id": "posted-broadcasting",
   "metadata": {},
   "outputs": [],
   "source": [
    "radius = 100"
   ]
  },
  {
   "cell_type": "code",
   "execution_count": null,
   "id": "lesbian-employee",
   "metadata": {},
   "outputs": [],
   "source": [
    "req_day = []"
   ]
  },
  {
   "cell_type": "code",
   "execution_count": null,
   "id": "wound-thomson",
   "metadata": {},
   "outputs": [],
   "source": [
    "req_month = []"
   ]
  },
  {
   "cell_type": "code",
   "execution_count": null,
   "id": "arabic-growth",
   "metadata": {},
   "outputs": [],
   "source": [
    "req_propor_median = []"
   ]
  },
  {
   "cell_type": "code",
   "execution_count": null,
   "id": "formed-drive",
   "metadata": {
    "scrolled": false
   },
   "outputs": [],
   "source": [
    "# build a base dataframe for request times in January \n",
    "date_df = pd.DataFrame(data = {'date':np.arange(1,32),'drop_col':np.arange(1,32)})\n",
    "date_df.set_index(['date'], inplace=True)\n",
    "\n",
    "# get valid user list\n",
    "user_ls,valid_users = evaluation.get_user_ls(all_users,radius)\n",
    "\n",
    "for a in range(len(all_users)):\n",
    "    user = all_users[a]\n",
    "    filter_trips,sim,trips = evaluation.filter_data(user,radius)\n",
    "    logging.debug(\"len(filter_trips)is %s \"% len(filter_trips))\n",
    "\n",
    "    # filter out users that don't have enough valid labeled trips\n",
    "    if not evaluation.valid_user(filter_trips,trips):\n",
    "        req_day.append(NaN)\n",
    "        req_month.append(NaN) \n",
    "        continue\n",
    "    sim.bin_data()\n",
    "    sim.delete_bins()\n",
    "    bins = sim.bins\n",
    "    \n",
    "    # collect requested trips and common trips(no need to request) indices above cutoff\n",
    "    ab_trip_ls = []\n",
    "    no_req_trip_ls = []\n",
    "    for bin in bins:\n",
    "        early_trip_index, index = evaluation.find_first_trip(filter_trips,bin)\n",
    "        ab_trip_ls.append(early_trip_index)\n",
    "        \n",
    "        for k in range(len(bin)):\n",
    "            if k != index:\n",
    "                no_req_trip_idx = bin[k]\n",
    "                no_req_trip_ls.append(no_req_trip_idx)\n",
    "\n",
    "\n",
    "    \n",
    "    # bins below cutoff\n",
    "    bl_bins = sim.below_cutoff\n",
    "    \n",
    "    # collect requested trips indices below cutoff\n",
    "    bl_trip_ls = []\n",
    "    for bin in bl_bins:\n",
    "        for trip_index in bin:\n",
    "            bl_trip_ls.append(trip_index)\n",
    "            \n",
    "    # whole list of requested trips indices\n",
    "    req_trips_ls=ab_trip_ls+bl_trip_ls\n",
    "    \n",
    "    \n",
    "    # collect request times in a day\n",
    "    bin_day = evaluation.bin_date(req_trips_ls,filter_trips,day=True)\n",
    "    req_day_ls = []\n",
    "    for bin in bin_day:\n",
    "        req_day_ls.append(len(bin))\n",
    "               \n",
    "    # collect 0 request days \n",
    "    for trip_index in no_req_trip_ls:\n",
    "        trip = filter_trips[trip_index]\n",
    "        match = False\n",
    "        for bin in bin_day:\n",
    "            if evaluation.match_day(trip,bin,filter_trips):\n",
    "                match = True\n",
    "                break\n",
    "        if not match:\n",
    "            req_day_ls.append(0)\n",
    "            \n",
    "    # collect request times in a day for every user\n",
    "    req_day.append(req_day_ls)\n",
    "    \n",
    "    # collect user input request proportion in a day\n",
    "    filter_trips_df = pd.DataFrame(filter_trips)\n",
    "    filter_trips_idx_ls = filter_trips_df.index.values.tolist()\n",
    "    bin_filter_trips_day = evaluation.bin_date(filter_trips_idx_ls,filter_trips,day=True)\n",
    "    propor_single_user = []\n",
    "    for valid_trips_bin in bin_filter_trips_day:\n",
    "        match = False\n",
    "        for req_trips_bin in bin_day:\n",
    "            req_trip = filter_trips[req_trips_bin[0]]\n",
    "            if evaluation.match_day(req_trip,valid_trips_bin,filter_trips):\n",
    "                proportion = round(len(req_trips_bin)/len(valid_trips_bin), 2)\n",
    "                propor_single_user.append(proportion)\n",
    "                match = True\n",
    "                break\n",
    "        if not match:\n",
    "            propor_single_user.append(0) \n",
    "            \n",
    "    # get user input request proportion median in a day\n",
    "    median = np.median(propor_single_user)\n",
    "    \n",
    "    # collect medians for every user\n",
    "    req_propor_median.append(median)\n",
    "   \n",
    "    \n",
    "    # collect request times in a month\n",
    "    bin_month = evaluation.bin_date(req_trips_ls,filter_trips,month=True)\n",
    "    req_month_ls = []\n",
    "    for bin in bin_month:\n",
    "        req_month_ls.append(len(bin))\n",
    "\n",
    "    # collect request times in a month for every user\n",
    "    req_month.append(req_month_ls)\n",
    "    \n",
    "    # select the trips that are in Jan 2021\n",
    "    jan_trips = []\n",
    "    for trip_index in req_trips_ls:\n",
    "        if filter_trips[trip_index]['data']['start_local_dt']['year']==2021 and filter_trips[trip_index]['data']['start_local_dt']['month']==1:\n",
    "            jan_trips.append(trip_index)\n",
    "    \n",
    "    # create the data frame for request times in Jan 2021\n",
    "    jan_date = []\n",
    "    for trip_index in jan_trips:\n",
    "        trip_date = filter_trips[trip_index]['data']['start_local_dt']['day']\n",
    "        jan_date.append(trip_date)\n",
    "        new_date_df = pd.DataFrame(data = jan_date)\n",
    "        new_date_df=new_date_df.value_counts(sort = False).rename_axis('date').to_frame('user'+str(a+1)).reset_index()\n",
    "        new_date_df.set_index(['date'], inplace=True)\n",
    "    date_df = date_df.join(new_date_df,how='outer')\n",
    "date_df=date_df.drop(columns=['drop_col'])"
   ]
  },
  {
   "cell_type": "code",
   "execution_count": null,
   "id": "functional-proposal",
   "metadata": {},
   "outputs": [],
   "source": [
    "req_day"
   ]
  },
  {
   "cell_type": "code",
   "execution_count": null,
   "id": "logical-adolescent",
   "metadata": {},
   "outputs": [],
   "source": [
    "req_month"
   ]
  },
  {
   "cell_type": "markdown",
   "id": "ruled-dictionary",
   "metadata": {},
   "source": [
    "### Plot request times in a day"
   ]
  },
  {
   "cell_type": "code",
   "execution_count": null,
   "id": "biological-middle",
   "metadata": {},
   "outputs": [],
   "source": [
    "# show request times in a data frame\n",
    "base = 0\n",
    "for i in range (len(req_day)):\n",
    "    if req_day[i] is not NaN:\n",
    "            req_day_ls_df = pd.DataFrame(data = req_day[i])\n",
    "            req_day_df=req_day_ls_df.value_counts(sort = False).rename_axis('request times').to_frame('user'+str(i+1)).reset_index()\n",
    "            req_day_df.set_index(['request times'], inplace=True)\n",
    "            base = i\n",
    "            break\n",
    "            \n",
    "for i in range (len(req_day)):\n",
    "    if req_day[i] is not NaN and i is not base:\n",
    "        new_day_df = pd.DataFrame(data = req_day[i])\n",
    "        new_day_df = new_day_df.value_counts(sort = False).rename_axis('request times').to_frame('user'+str(i+1)).reset_index()\n",
    "        new_day_df.set_index(['request times'], inplace=True)\n",
    "        req_day_df=req_day_df.join(new_day_df,how='outer',sort='request times')\n",
    "        \n",
    "req_day_df"
   ]
  },
  {
   "cell_type": "code",
   "execution_count": null,
   "id": "revised-venice",
   "metadata": {},
   "outputs": [],
   "source": [
    "# plot a graph for all valid users\n",
    "yticks_max = req_day_df.max().max()\n",
    "graph_day = req_day_df.plot(kind='bar',figsize=(14,16),title='request times in a day',fontsize=18,yticks=np.arange(0, yticks_max+4, step=4))\n",
    "graph_day.title.set_size(20)\n",
    "plt.xlabel('request times',fontsize=16)\n",
    "plt.ylabel('days', fontsize=16)"
   ]
  },
  {
   "cell_type": "code",
   "execution_count": null,
   "id": "requested-canyon",
   "metadata": {
    "scrolled": false
   },
   "outputs": [],
   "source": [
    "# subplots\n",
    "day_ax_arr = req_day_df.plot(subplots=True,layout=(2,4),kind='bar',figsize=(16,8),fontsize=15,sharey=True)\n",
    "\n",
    "for ax in day_ax_arr[-1]:\n",
    "    ax.set_xlabel('query times', fontsize=16)\n",
    "    \n",
    "for ax_arr in day_ax_arr:\n",
    "    ax_arr[0].yaxis.set_major_locator(MaxNLocator(integer=True))\n",
    "    ax_arr[0].set_ylabel('days', fontsize=16)\n",
    "plt.tight_layout()"
   ]
  },
  {
   "cell_type": "markdown",
   "id": "confident-capacity",
   "metadata": {},
   "source": [
    "### Plot request times in a month"
   ]
  },
  {
   "cell_type": "markdown",
   "id": "younger-destiny",
   "metadata": {},
   "source": [
    "Note: not all users have data on the same number of months. "
   ]
  },
  {
   "cell_type": "code",
   "execution_count": null,
   "id": "quiet-minister",
   "metadata": {},
   "outputs": [],
   "source": [
    "# put all request times in a month for all valid users in a data frame\n",
    "start = 0\n",
    "\n",
    "for i in range (len(req_month)):\n",
    "    if req_month[i] is not NaN:\n",
    "        req_month_df = pd.DataFrame({'user'+str(i+1):req_month[i]}).rename_axis('month indicies').reset_index()\n",
    "        req_month_df.set_index(['month indicies'], inplace=True)\n",
    "        start = i\n",
    "        break\n",
    "req_month_df\n",
    "\n",
    "        \n",
    "for t in range(len(req_month)):\n",
    "    if req_month[t] is not NaN and t is not start:\n",
    "        new_month_df = pd.DataFrame({'user'+str(t+1):req_month[t]}).rename_axis('month indicies').reset_index()\n",
    "        new_month_df.set_index(['month indicies'], inplace=True)\n",
    "        req_month_df = req_month_df.join(new_month_df,how='outer')\n",
    "\n",
    "req_month_df"
   ]
  },
  {
   "cell_type": "code",
   "execution_count": null,
   "id": "naked-february",
   "metadata": {
    "scrolled": true
   },
   "outputs": [],
   "source": [
    "# plot a graph for all valid users\n",
    "graph_month = req_month_df.plot(kind='bar',figsize=(12,8),title='request times in a month',fontsize=18)\n",
    "graph_month.title.set_size(20)\n",
    "plt.xlabel('month indicies',fontsize=16)\n",
    "plt.ylabel('request times', fontsize=16)\n",
    "graph_month.yaxis.set_major_locator(MaxNLocator(integer=True))"
   ]
  },
  {
   "cell_type": "markdown",
   "id": "satisfied-essay",
   "metadata": {},
   "source": [
    "### Get request times for all valid users in January"
   ]
  },
  {
   "cell_type": "code",
   "execution_count": null,
   "id": "korean-vintage",
   "metadata": {},
   "outputs": [],
   "source": [
    "date_df"
   ]
  },
  {
   "cell_type": "code",
   "execution_count": null,
   "id": "oriented-possibility",
   "metadata": {},
   "outputs": [],
   "source": [
    "# plot data graph\n",
    "graph_date = date_df.plot(kind='bar',figsize=(20,10),title='request times in January',fontsize=18)\n",
    "graph_date.title.set_size(20)\n",
    "plt.xlabel('date',fontsize=16)\n",
    "plt.ylabel('request times', fontsize=16)\n",
    "graph_date.yaxis.set_major_locator(MaxNLocator(integer=True))"
   ]
  },
  {
   "cell_type": "code",
   "execution_count": null,
   "id": "alpha-vermont",
   "metadata": {
    "scrolled": true
   },
   "outputs": [],
   "source": [
    "# subplots on January request times\n",
    "date_ax_arr = date_df.plot(subplots=True,layout=(2,4),kind='bar',figsize=(16,8),fontsize=15,sharey =True)\n",
    "\n",
    "for ax in date_ax_arr[-1]:\n",
    "    ax.set_xlabel(\"date\", fontsize=16)\n",
    "    \n",
    "for ax_arr in date_ax_arr:\n",
    "    ax_arr[0].yaxis.set_major_locator(MaxNLocator(integer=True))\n",
    "    ax_arr[0].set_ylabel(\"request times\", fontsize=16)\n",
    "    \n",
    "date_ax_arr[-1][0].set_xticks(list(range(0,len(date_df.index),5)))\n",
    "date_ax_arr[-1][0].set_xticklabels(list(range(date_df.index[0],date_df.index[-1]+1,5)))"
   ]
  },
  {
   "cell_type": "markdown",
   "id": "endless-copper",
   "metadata": {},
   "source": [
    "## Scatter(homogeneity score on valid trips above cutoff, user input request proportion median)"
   ]
  },
  {
   "cell_type": "code",
   "execution_count": null,
   "id": "creative-restaurant",
   "metadata": {},
   "outputs": [],
   "source": [
    "# Here we use homogeneity score on bins above cutoff after changing language and converting purposes and modes\n",
    "homo_score_cvt, comp_score_cvt, v_score_cvt = evaluation.v_measure_bins(all_users,radius,cvt_pur_mo=True,cutoff=True)\n",
    "homo_score_df = pd.DataFrame(data = {'homo score':homo_score_cvt}).dropna().reset_index(drop=True)\n",
    "valid_homo_score = homo_score_df['homo score'].values.tolist()"
   ]
  },
  {
   "cell_type": "code",
   "execution_count": null,
   "id": "serious-default",
   "metadata": {
    "scrolled": true
   },
   "outputs": [],
   "source": [
    "x=req_propor_median\n",
    "y=valid_homo_score\n",
    "v=valid_users\n",
    "cmp = cm.get_cmap('Dark2', len(valid_users))\n",
    "\n",
    "for i in range(len(valid_users)):\n",
    "    plt.scatter(x[i], y[i], color=cmp.colors[i], label=v[i], s=70, alpha=0.7)\n",
    "plt.legend(markerscale=0.7, scatterpoints=1)\n",
    "plt.xlabel('user input request proportion median',fontsize=16)\n",
    "plt.ylabel('homogeneity score',fontsize=16)\n",
    "plt.xticks(fontsize=14)\n",
    "plt.yticks(fontsize=14)"
   ]
  }
 ],
 "metadata": {
  "kernelspec": {
   "display_name": "Python 3",
   "language": "python",
   "name": "python3"
  },
  "language_info": {
   "codemirror_mode": {
    "name": "ipython",
    "version": 3
   },
   "file_extension": ".py",
   "mimetype": "text/x-python",
   "name": "python",
   "nbconvert_exporter": "python",
   "pygments_lexer": "ipython3",
   "version": "3.7.9"
  }
 },
 "nbformat": 4,
 "nbformat_minor": 5
}
