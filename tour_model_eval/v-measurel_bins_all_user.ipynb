{
 "cells": [
  {
   "cell_type": "markdown",
   "id": "visible-annual",
   "metadata": {},
   "source": [
    "This notebook shows the homogeneity scores, completeness scores, and v-measure scores based on original user inputs, user inputs after converting language, and user inputs after converting purposes and replaced mode on valid bins above cutoff and on all valid bins for all users after the first round clustering."
   ]
  },
  {
   "cell_type": "code",
   "execution_count": null,
   "id": "superior-snowboard",
   "metadata": {
    "scrolled": true
   },
   "outputs": [],
   "source": [
    "import logging\n",
    "\n",
    "# Our imports\n",
    "import emission.core.get_database as edb\n",
    "import emission.analysis.modelling.tour_model.cluster_pipeline as pipeline\n",
    "import emission.analysis.modelling.tour_model.similarity as similarity\n",
    "import emission.analysis.modelling.tour_model.featurization as featurization\n",
    "import emission.analysis.modelling.tour_model.representatives as representatives\n",
    "import emission.storage.decorations.analysis_timeseries_queries as esda\n",
    "import pandas as pd\n",
    "from numpy import *\n",
    "import confirmed_trips_eval_bins_clusters as evaluation\n",
    "from sklearn import metrics\n",
    "from pandas.testing import assert_frame_equal\n",
    "import numpy as np"
   ]
  },
  {
   "cell_type": "code",
   "execution_count": null,
   "id": "brave-finnish",
   "metadata": {},
   "outputs": [],
   "source": [
    "participant_uuid_obj = list(edb.get_profile_db().find({\"install_group\": \"participant\"}, {\"user_id\": 1, \"_id\": 0}))\n",
    "all_users = [u[\"user_id\"] for u in participant_uuid_obj]"
   ]
  },
  {
   "cell_type": "code",
   "execution_count": null,
   "id": "maritime-arcade",
   "metadata": {},
   "outputs": [],
   "source": [
    "radius = 100"
   ]
  },
  {
   "cell_type": "code",
   "execution_count": null,
   "id": "final-stability",
   "metadata": {},
   "outputs": [],
   "source": [
    "user_ls,_ = evaluation.get_user_ls(all_users,radius)"
   ]
  },
  {
   "cell_type": "code",
   "execution_count": null,
   "id": "colored-arctic",
   "metadata": {},
   "outputs": [],
   "source": [
    "pd.set_option('max_colwidth',100)\n",
    "pd.set_option('display.max_rows', None)"
   ]
  },
  {
   "cell_type": "markdown",
   "id": "complete-excess",
   "metadata": {},
   "source": [
    "## Bins above cutoff"
   ]
  },
  {
   "cell_type": "markdown",
   "id": "higher-charge",
   "metadata": {},
   "source": [
    "### Original user input"
   ]
  },
  {
   "cell_type": "code",
   "execution_count": null,
   "id": "joined-mauritius",
   "metadata": {},
   "outputs": [],
   "source": [
    "homo_score_ori, comp_score_ori, v_score_ori = evaluation.v_measure_bins(all_users,radius,cutoff=True)"
   ]
  },
  {
   "cell_type": "markdown",
   "id": "personalized-stable",
   "metadata": {},
   "source": [
    "### After changing language"
   ]
  },
  {
   "cell_type": "code",
   "execution_count": null,
   "id": "august-breed",
   "metadata": {
    "scrolled": true
   },
   "outputs": [],
   "source": [
    "homo_score_sp2en, comp_score_sp2en, v_score_sp2en = evaluation.v_measure_bins(all_users,radius,sp2en=True,cutoff=True)"
   ]
  },
  {
   "cell_type": "markdown",
   "id": "connected-haven",
   "metadata": {},
   "source": [
    "### After converting purposes and replaced mode"
   ]
  },
  {
   "cell_type": "code",
   "execution_count": null,
   "id": "animated-tumor",
   "metadata": {},
   "outputs": [],
   "source": [
    "homo_score_cvt, comp_score_cvt, v_score_cvt = evaluation.v_measure_bins(all_users,radius,cvt_pur_mo=True,cutoff=True)"
   ]
  },
  {
   "cell_type": "markdown",
   "id": "agricultural-syndicate",
   "metadata": {},
   "source": [
    "### DataFrame"
   ]
  },
  {
   "cell_type": "code",
   "execution_count": null,
   "id": "sorted-honey",
   "metadata": {},
   "outputs": [],
   "source": [
    "cutoff_df = pd.DataFrame(data={'homogeneity score':[homo_score_ori,homo_score_sp2en,homo_score_cvt],\n",
    "                        'completeness score':[comp_score_ori,comp_score_sp2en,comp_score_cvt],\n",
    "                       'v-measure score':[v_score_ori,v_score_sp2en,v_score_cvt]},\n",
    "                  index = ['original user input','after translation','after converting purposes and replaced mode'])\n",
    "cutoff_df"
   ]
  },
  {
   "cell_type": "markdown",
   "id": "conservative-pregnancy",
   "metadata": {},
   "source": [
    "#### homogeneity score"
   ]
  },
  {
   "cell_type": "code",
   "execution_count": null,
   "id": "western-safety",
   "metadata": {},
   "outputs": [],
   "source": [
    "homo_df = pd.DataFrame(data={'original user input':homo_score_ori,'after translation':homo_score_sp2en,\n",
    "                             'after converting purposes and replaced mode':homo_score_cvt}, \n",
    "                           index=user_ls).dropna()\n",
    "homo_df"
   ]
  },
  {
   "cell_type": "code",
   "execution_count": null,
   "id": "spectacular-haven",
   "metadata": {},
   "outputs": [],
   "source": [
    "homo_df.plot(kind = 'bar',title='homogeneity score',yticks=(0,0.1,0.2,0.3,0.4,0.5,0.6,0.7,0.8,0.9,1))"
   ]
  },
  {
   "cell_type": "markdown",
   "id": "incorporated-google",
   "metadata": {},
   "source": [
    "#### completeness score"
   ]
  },
  {
   "cell_type": "code",
   "execution_count": null,
   "id": "adapted-insight",
   "metadata": {},
   "outputs": [],
   "source": [
    "comp_df = pd.DataFrame(data={'original user input':comp_score_ori,'after translation':comp_score_sp2en,\n",
    "                             'after converting purposes and replaced mode':comp_score_cvt},\n",
    "                      index=user_ls).dropna()"
   ]
  },
  {
   "cell_type": "code",
   "execution_count": null,
   "id": "chemical-california",
   "metadata": {},
   "outputs": [],
   "source": [
    "comp_df.plot(kind = 'bar',title='completeness score',yticks=(0,0.1,0.2,0.3,0.4,0.5,0.6,0.7,0.8,0.9,1))"
   ]
  },
  {
   "cell_type": "markdown",
   "id": "living-archives",
   "metadata": {},
   "source": [
    "#### v-measure score"
   ]
  },
  {
   "cell_type": "code",
   "execution_count": null,
   "id": "indonesian-magnet",
   "metadata": {},
   "outputs": [],
   "source": [
    "v_df = pd.DataFrame(data={'original user input':v_score_ori,'after translation':v_score_sp2en,\n",
    "                          'after converting purposes and replaced mode':v_score_cvt},\n",
    "                   index=user_ls).dropna()\n",
    "v_df"
   ]
  },
  {
   "cell_type": "code",
   "execution_count": null,
   "id": "demonstrated-resident",
   "metadata": {
    "scrolled": true
   },
   "outputs": [],
   "source": [
    "v_df.plot(kind = 'bar',title='v-measure score',yticks=(0,0.1,0.2,0.3,0.4,0.5,0.6,0.7,0.8,0.9,1))"
   ]
  },
  {
   "cell_type": "markdown",
   "id": "lined-manner",
   "metadata": {},
   "source": [
    "## All bins"
   ]
  },
  {
   "cell_type": "markdown",
   "id": "insured-kingdom",
   "metadata": {},
   "source": [
    "### Original user input"
   ]
  },
  {
   "cell_type": "code",
   "execution_count": null,
   "id": "latest-finding",
   "metadata": {},
   "outputs": [],
   "source": [
    "ab_homo_score_ori, ab_comp_score_ori, ab_v_score_ori = evaluation.v_measure_bins(all_users,radius)"
   ]
  },
  {
   "cell_type": "markdown",
   "id": "european-philadelphia",
   "metadata": {},
   "source": [
    "### After changing language"
   ]
  },
  {
   "cell_type": "code",
   "execution_count": null,
   "id": "developing-password",
   "metadata": {},
   "outputs": [],
   "source": [
    "ab_homo_score_sp2en, ab_comp_score_sp2en, ab_v_score_sp2en = evaluation.v_measure_bins(all_users,radius,sp2en=True)"
   ]
  },
  {
   "cell_type": "markdown",
   "id": "capable-bathroom",
   "metadata": {},
   "source": [
    "### After converting purposes and replaced mode"
   ]
  },
  {
   "cell_type": "code",
   "execution_count": null,
   "id": "obvious-faculty",
   "metadata": {},
   "outputs": [],
   "source": [
    "ab_homo_score_cvt, ab_comp_score_cvt, ab_v_score_cvt = evaluation.v_measure_bins(all_users,radius,cvt_pur_mo=True)"
   ]
  },
  {
   "cell_type": "markdown",
   "id": "charged-greeting",
   "metadata": {},
   "source": [
    "### DataFrame"
   ]
  },
  {
   "cell_type": "code",
   "execution_count": null,
   "id": "extraordinary-friday",
   "metadata": {},
   "outputs": [],
   "source": [
    "all_df = pd.DataFrame(data={'homogeneity score':[ab_homo_score_ori,ab_homo_score_sp2en,ab_homo_score_cvt],\n",
    "                        'completeness score':[ab_comp_score_ori,ab_comp_score_sp2en,ab_comp_score_cvt],\n",
    "                       'v-measure score':[ab_v_score_ori,ab_v_score_sp2en,ab_v_score_cvt]},\n",
    "                  index = ['original user input','after translation','after converting purposes and replaced mode'])\n",
    "all_df"
   ]
  },
  {
   "cell_type": "markdown",
   "id": "trying-flesh",
   "metadata": {},
   "source": [
    "#### homogeneity score"
   ]
  },
  {
   "cell_type": "code",
   "execution_count": null,
   "id": "distinguished-morris",
   "metadata": {},
   "outputs": [],
   "source": [
    "ab_homo_df=pd.DataFrame(data={'original user input':ab_homo_score_ori,'after translation':ab_homo_score_sp2en,\n",
    "                              'after converting purposes and replaced mode':ab_homo_score_cvt},\n",
    "                        index=user_ls).dropna()"
   ]
  },
  {
   "cell_type": "code",
   "execution_count": null,
   "id": "blocked-judge",
   "metadata": {},
   "outputs": [],
   "source": [
    "ab_homo_df.plot(kind = 'bar',title='homogeneity score',yticks=(0,0.1,0.2,0.3,0.4,0.5,0.6,0.7,0.8,0.9,1))"
   ]
  },
  {
   "cell_type": "markdown",
   "id": "english-quick",
   "metadata": {},
   "source": [
    "#### completeness score"
   ]
  },
  {
   "cell_type": "code",
   "execution_count": null,
   "id": "speaking-watson",
   "metadata": {},
   "outputs": [],
   "source": [
    "ab_comp_df = pd.DataFrame(data={'original user input':ab_comp_score_ori,'after translation':ab_comp_score_sp2en,\n",
    "                                'after converting purposes and replaced mode':ab_comp_score_cvt},\n",
    "                          index=user_ls).dropna()"
   ]
  },
  {
   "cell_type": "code",
   "execution_count": null,
   "id": "equivalent-fleece",
   "metadata": {},
   "outputs": [],
   "source": [
    "ab_comp_df.plot(kind = 'bar',title='completeness score',yticks=(0,0.1,0.2,0.3,0.4,0.5,0.6,0.7,0.8,0.9,1))"
   ]
  },
  {
   "cell_type": "markdown",
   "id": "white-reasoning",
   "metadata": {},
   "source": [
    "#### v-measure score"
   ]
  },
  {
   "cell_type": "code",
   "execution_count": null,
   "id": "sacred-celebrity",
   "metadata": {},
   "outputs": [],
   "source": [
    "ab_v_df = pd.DataFrame(data={'original user input':ab_v_score_ori,'after translation':ab_v_score_sp2en,\n",
    "                             'after converting purposes and replaced mode':ab_v_score_cvt},\n",
    "                       index=user_ls).dropna()"
   ]
  },
  {
   "cell_type": "code",
   "execution_count": null,
   "id": "figured-stack",
   "metadata": {},
   "outputs": [],
   "source": [
    "ab_v_df.plot(kind = 'bar',title='v-measure score',yticks=(0,0.1,0.2,0.3,0.4,0.5,0.6,0.7,0.8,0.9,1))"
   ]
  }
 ],
 "metadata": {
  "kernelspec": {
   "display_name": "Python 3",
   "language": "python",
   "name": "python3"
  },
  "language_info": {
   "codemirror_mode": {
    "name": "ipython",
    "version": 3
   },
   "file_extension": ".py",
   "mimetype": "text/x-python",
   "name": "python",
   "nbconvert_exporter": "python",
   "pygments_lexer": "ipython3",
   "version": "3.7.9"
  }
 },
 "nbformat": 4,
 "nbformat_minor": 5
}
