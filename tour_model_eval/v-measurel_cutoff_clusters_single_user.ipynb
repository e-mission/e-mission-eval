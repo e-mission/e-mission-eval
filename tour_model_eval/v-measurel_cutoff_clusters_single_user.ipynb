{
 "cells": [
  {
   "cell_type": "markdown",
   "id": "developing-commerce",
   "metadata": {},
   "source": [
    "This notebook is for evaluating clusters above cutoff and exploring data for a single user after first round clustering."
   ]
  },
  {
   "cell_type": "code",
   "execution_count": null,
   "id": "worst-baseball",
   "metadata": {},
   "outputs": [],
   "source": [
    "import logging\n",
    "\n",
    "# Our imports\n",
    "import emission.core.get_database as edb\n",
    "import emission.analysis.modelling.tour_model.cluster_pipeline as pipeline\n",
    "import emission.analysis.modelling.tour_model.similarity as similarity\n",
    "import emission.analysis.modelling.tour_model.featurization as featurization\n",
    "import emission.analysis.modelling.tour_model.representatives as representatives\n",
    "import emission.storage.decorations.analysis_timeseries_queries as esda\n",
    "import pandas as pd\n",
    "from numpy import *\n",
    "import confirmed_trips_eval_bins_clusters as evaluation\n",
    "from sklearn import metrics\n",
    "from pandas.testing import assert_frame_equal"
   ]
  },
  {
   "cell_type": "code",
   "execution_count": null,
   "id": "behavioral-generation",
   "metadata": {},
   "outputs": [],
   "source": [
    "logger = logging.getLogger()\n",
    "logger.setLevel(logging.DEBUG)"
   ]
  },
  {
   "cell_type": "code",
   "execution_count": null,
   "id": "powered-import",
   "metadata": {},
   "outputs": [],
   "source": [
    "participant_uuid_obj = list(edb.get_profile_db().find({\"install_group\": \"participant\"}, {\"user_id\": 1, \"_id\": 0}))\n",
    "all_users = [u[\"user_id\"] for u in participant_uuid_obj]"
   ]
  },
  {
   "cell_type": "code",
   "execution_count": null,
   "id": "living-connection",
   "metadata": {},
   "outputs": [],
   "source": [
    "radius = 100"
   ]
  },
  {
   "cell_type": "markdown",
   "id": "thorough-nomination",
   "metadata": {},
   "source": [
    "## Choose one user for experiment"
   ]
  },
  {
   "cell_type": "code",
   "execution_count": null,
   "id": "necessary-letter",
   "metadata": {},
   "outputs": [],
   "source": [
    "user = all_users[0]"
   ]
  },
  {
   "cell_type": "code",
   "execution_count": null,
   "id": "exclusive-think",
   "metadata": {},
   "outputs": [],
   "source": [
    "#read the data from the database. We choose key=esda.CONFIRMED_TRIP_KEY to get confirmed trips here\n",
    "trips = pipeline.read_data(uuid=user,key=esda.CONFIRMED_TRIP_KEY)"
   ]
  },
  {
   "cell_type": "code",
   "execution_count": null,
   "id": "funded-canadian",
   "metadata": {},
   "outputs": [],
   "source": [
    "# select trips that have user_input to analyze\n",
    "non_empty_trips = [t for t in trips if t[\"data\"][\"user_input\"] != {}]\n",
    "len(non_empty_trips)"
   ]
  },
  {
   "cell_type": "code",
   "execution_count": null,
   "id": "excited-closure",
   "metadata": {},
   "outputs": [],
   "source": [
    "# filter out trips that are not fully labeled(contain NaN in user_input)\n",
    "non_empty_trips_df = pd.DataFrame(t[\"data\"][\"user_input\"]for t in non_empty_trips)\n",
    "valid_trips_df = non_empty_trips_df.dropna(axis=0,how='any',thresh=None,subset=None,inplace=False)\n",
    "valid_trips_idx_ls = valid_trips_df.index.tolist()\n",
    "valid_trips = [non_empty_trips[i]for i in valid_trips_idx_ls]\n",
    "len(valid_trips),valid_trips"
   ]
  },
  {
   "cell_type": "code",
   "execution_count": null,
   "id": "owned-advocate",
   "metadata": {},
   "outputs": [],
   "source": [
    "bin_trips, bins = pipeline.remove_noise(valid_trips, radius)"
   ]
  },
  {
   "cell_type": "code",
   "execution_count": null,
   "id": "healthy-wildlife",
   "metadata": {},
   "outputs": [],
   "source": [
    "logging.debug('The list of bins is %s' % bins)"
   ]
  },
  {
   "cell_type": "code",
   "execution_count": null,
   "id": "pleased-generic",
   "metadata": {},
   "outputs": [],
   "source": [
    "# clustering the data only based on sil score (min_cluster = 0) instead of bins number (len(bins))\n",
    "feat = featurization.featurization(bin_trips)\n",
    "min = 0\n",
    "max = int(math.ceil(1.5 * len(bins)))\n",
    "feat.cluster(min_clusters=min, max_clusters=max)"
   ]
  },
  {
   "cell_type": "code",
   "execution_count": null,
   "id": "north-instruction",
   "metadata": {},
   "outputs": [],
   "source": [
    "logging.debug('number of clusters: %d' % feat.clusters)"
   ]
  },
  {
   "cell_type": "code",
   "execution_count": null,
   "id": "boring-nerve",
   "metadata": {},
   "outputs": [],
   "source": [
    "logging.debug('labels list is: %s' % feat.labels)"
   ]
  },
  {
   "cell_type": "code",
   "execution_count": null,
   "id": "neither-toilet",
   "metadata": {
    "scrolled": true
   },
   "outputs": [],
   "source": [
    "cluster_trips = feat.data\n",
    "cluster_trips"
   ]
  },
  {
   "cell_type": "code",
   "execution_count": null,
   "id": "artificial-serum",
   "metadata": {
    "scrolled": true
   },
   "outputs": [],
   "source": [
    "cluster_user_input_df = pd.DataFrame(data=[i[\"data\"][\"user_input\"] for i in cluster_trips])\n",
    "cluster_user_input_df"
   ]
  },
  {
   "cell_type": "markdown",
   "id": "sixth-living",
   "metadata": {},
   "source": [
    "### Original output"
   ]
  },
  {
   "cell_type": "code",
   "execution_count": null,
   "id": "amber-westminster",
   "metadata": {},
   "outputs": [],
   "source": [
    "# turn cluster_trips to list without any changes\n",
    "cluster_user_input_ls = cluster_user_input_df.values.tolist()\n",
    "cluster_user_input_ls"
   ]
  },
  {
   "cell_type": "code",
   "execution_count": null,
   "id": "informative-donor",
   "metadata": {
    "scrolled": true
   },
   "outputs": [],
   "source": [
    "# drop duplicate user_input\n",
    "no_dup_df=cluster_user_input_df.drop_duplicates()\n",
    "no_dup_df,len(no_dup_df)"
   ]
  },
  {
   "cell_type": "code",
   "execution_count": null,
   "id": "computational-punishment",
   "metadata": {
    "scrolled": true
   },
   "outputs": [],
   "source": [
    "# turn non-duplicate user_input into list\n",
    "no_dup_list = no_dup_df.values.tolist()\n",
    "no_dup_list"
   ]
  },
  {
   "cell_type": "code",
   "execution_count": null,
   "id": "electric-contamination",
   "metadata": {},
   "outputs": [],
   "source": [
    "# collect labels_true based on user_input\n",
    "labels_true =[]\n",
    "for trip in cluster_user_input_ls:\n",
    "    if trip in no_dup_list:\n",
    "        labels_true.append(no_dup_list.index(trip))\n",
    "labels_true"
   ]
  },
  {
   "cell_type": "code",
   "execution_count": null,
   "id": "hindu-scholarship",
   "metadata": {},
   "outputs": [],
   "source": [
    "labels_pred = feat.labels"
   ]
  },
  {
   "cell_type": "code",
   "execution_count": null,
   "id": "least-bristol",
   "metadata": {},
   "outputs": [],
   "source": [
    "cluster_ps=[]\n",
    "for trip in cluster_trips:\n",
    "    cluster_ps.append([trip[\"data\"][\"start_loc\"][\"coordinates\"][0],\n",
    "                       trip[\"data\"][\"start_loc\"][\"coordinates\"][1],\n",
    "                       trip[\"data\"][\"end_loc\"][\"coordinates\"][0],\n",
    "                       trip[\"data\"][\"end_loc\"][\"coordinates\"][1]])\n",
    "cluster_ps_df = pd.DataFrame(data=cluster_ps)\n",
    "cluster_ps_df"
   ]
  },
  {
   "cell_type": "code",
   "execution_count": null,
   "id": "remarkable-alliance",
   "metadata": {},
   "outputs": [],
   "source": [
    "label_ps_df = pd.DataFrame(data=feat.points)\n",
    "label_ps_df"
   ]
  },
  {
   "cell_type": "code",
   "execution_count": null,
   "id": "sticky-teaching",
   "metadata": {},
   "outputs": [],
   "source": [
    "# compare two data frames, return nothing if two data frames are the same\n",
    "assert_frame_equal(cluster_ps_df,label_ps_df)"
   ]
  },
  {
   "cell_type": "code",
   "execution_count": null,
   "id": "ecological-wales",
   "metadata": {},
   "outputs": [],
   "source": [
    "metrics.homogeneity_score(labels_true, labels_pred)"
   ]
  },
  {
   "cell_type": "code",
   "execution_count": null,
   "id": "metric-budget",
   "metadata": {},
   "outputs": [],
   "source": [
    "metrics.completeness_score(labels_true, labels_pred)"
   ]
  },
  {
   "cell_type": "code",
   "execution_count": null,
   "id": "responsible-newport",
   "metadata": {
    "scrolled": true
   },
   "outputs": [],
   "source": [
    "metrics.v_measure_score(labels_true, labels_pred)"
   ]
  },
  {
   "cell_type": "markdown",
   "id": "level-semiconductor",
   "metadata": {},
   "source": [
    "### After changing language"
   ]
  },
  {
   "cell_type": "code",
   "execution_count": null,
   "id": "distinct-airport",
   "metadata": {},
   "outputs": [],
   "source": [
    "span_eng_dict = {'revisado_bike':'test ride with bike','placas_de carro':'car plates','aseguranza':'insurance',\n",
    " 'iglesia':'church','curso':'course','mi_hija recién aliviada':'my daughter just had a new baby',\n",
    " 'servicio_comunitario':'community service','pago_de aseguranza':'insurance payment',\n",
    " 'grupo_comunitario':'community group','caminata_comunitaria':'community walk'}"
   ]
  },
  {
   "cell_type": "code",
   "execution_count": null,
   "id": "enabling-equity",
   "metadata": {},
   "outputs": [],
   "source": [
    "# change language and turn data frame to list\n",
    "cluster_sp2en_df = cluster_user_input_df.replace(span_eng_dict)\n",
    "cluster_sp2en_ls = cluster_sp2en_df.values.tolist()\n",
    "cluster_sp2en_ls"
   ]
  },
  {
   "cell_type": "code",
   "execution_count": null,
   "id": "preliminary-spider",
   "metadata": {},
   "outputs": [],
   "source": [
    "# drop duplicate user_input\n",
    "no_dup_sp2en_df=cluster_sp2en_df.drop_duplicates()\n",
    "no_dup_sp2en_df"
   ]
  },
  {
   "cell_type": "code",
   "execution_count": null,
   "id": "saved-consensus",
   "metadata": {},
   "outputs": [],
   "source": [
    "# turn non-duplicate user_input into list\n",
    "no_dup_sp2en_list = no_dup_sp2en_df.values.tolist()\n",
    "no_dup_sp2en_list"
   ]
  },
  {
   "cell_type": "code",
   "execution_count": null,
   "id": "available-coaching",
   "metadata": {},
   "outputs": [],
   "source": [
    "# collect labels_true based on user_input\n",
    "labels_true_sp2en =[]\n",
    "for trip in cluster_sp2en_ls:\n",
    "    if trip in no_dup_sp2en_list:\n",
    "        labels_true_sp2en.append(no_dup_sp2en_list.index(trip))\n",
    "labels_true_sp2en"
   ]
  },
  {
   "cell_type": "code",
   "execution_count": null,
   "id": "average-gauge",
   "metadata": {},
   "outputs": [],
   "source": [
    "labels_pred = labels_pred = feat.labels\n",
    "labels_pred"
   ]
  },
  {
   "cell_type": "code",
   "execution_count": null,
   "id": "fiscal-camping",
   "metadata": {},
   "outputs": [],
   "source": [
    "metrics.homogeneity_score(labels_true_sp2en, labels_pred)"
   ]
  },
  {
   "cell_type": "code",
   "execution_count": null,
   "id": "color-repeat",
   "metadata": {},
   "outputs": [],
   "source": [
    "metrics.completeness_score(labels_true_sp2en, labels_pred)"
   ]
  },
  {
   "cell_type": "code",
   "execution_count": null,
   "id": "whole-wrong",
   "metadata": {},
   "outputs": [],
   "source": [
    "metrics.v_measure_score(labels_true_sp2en, labels_pred)"
   ]
  },
  {
   "cell_type": "markdown",
   "id": "dangerous-creek",
   "metadata": {},
   "source": [
    "### After converting purposes and mode"
   ]
  },
  {
   "cell_type": "code",
   "execution_count": null,
   "id": "certain-italy",
   "metadata": {},
   "outputs": [],
   "source": [
    "map_pur_dict = {'course':'school','work_- lunch break':'lunch_break','on_the way home':'home',\n",
    "               'insurance_payment':'insurance'}"
   ]
  },
  {
   "cell_type": "code",
   "execution_count": null,
   "id": "swiss-initial",
   "metadata": {},
   "outputs": [],
   "source": [
    "pd.set_option('display.max_rows', 200)"
   ]
  },
  {
   "cell_type": "code",
   "execution_count": null,
   "id": "naughty-vegetarian",
   "metadata": {},
   "outputs": [],
   "source": [
    "# convert purpose\n",
    "cluster_cvt_pur_df = cluster_sp2en_df.replace(map_pur_dict)\n",
    "# convert mode\n",
    "cluster_cvt_pur_mo_df = cluster_cvt_pur_df\n",
    "for i in range(len(cluster_cvt_pur_mo_df)):\n",
    "    if cluster_cvt_pur_mo_df.iloc[i][\"replaced_mode\"] == \"same_mode\":\n",
    "        print(cluster_cvt_pur_mo_df.iloc[i]) # to see which row will be converted\n",
    "        cluster_cvt_pur_mo_df.iloc[i][\"replaced_mode\"] = cluster_cvt_pur_mo_df.iloc[i]['mode_confirm']\n",
    "print(cluster_cvt_pur_mo_df)\n",
    "cluster_cvt_pur_mo_ls = cluster_cvt_pur_mo_df.values.tolist()\n",
    "cluster_cvt_pur_mo_ls"
   ]
  },
  {
   "cell_type": "code",
   "execution_count": null,
   "id": "approximate-lightweight",
   "metadata": {
    "scrolled": true
   },
   "outputs": [],
   "source": [
    "# drop duplicate user_input\n",
    "no_dup_cvt_pur_mode_df = cluster_cvt_pur_mo_df.drop_duplicates()\n",
    "no_dup_cvt_pur_mode_df"
   ]
  },
  {
   "cell_type": "code",
   "execution_count": null,
   "id": "active-westminster",
   "metadata": {},
   "outputs": [],
   "source": [
    "# turn non-duplicate user_input into list\n",
    "no_dup_cvt_pur_mo_ls = no_dup_cvt_pur_mode_df.values.tolist()\n",
    "no_dup_cvt_pur_mo_ls"
   ]
  },
  {
   "cell_type": "code",
   "execution_count": null,
   "id": "documented-arlington",
   "metadata": {},
   "outputs": [],
   "source": [
    "# collect labels_true based on user_input\n",
    "labels_true_cvt =[]\n",
    "for trip in cluster_cvt_pur_mo_ls:\n",
    "    if trip in no_dup_cvt_pur_mo_ls:\n",
    "        labels_true_cvt.append(no_dup_cvt_pur_mo_ls.index(trip))\n",
    "labels_true_cvt"
   ]
  },
  {
   "cell_type": "code",
   "execution_count": null,
   "id": "noted-worst",
   "metadata": {},
   "outputs": [],
   "source": [
    "labels_pred = labels_pred = feat.labels\n",
    "labels_pred"
   ]
  },
  {
   "cell_type": "code",
   "execution_count": null,
   "id": "thousand-palestine",
   "metadata": {},
   "outputs": [],
   "source": [
    "metrics.homogeneity_score(labels_true_cvt, labels_pred)"
   ]
  },
  {
   "cell_type": "code",
   "execution_count": null,
   "id": "demanding-immigration",
   "metadata": {},
   "outputs": [],
   "source": [
    "metrics.completeness_score(labels_true_cvt, labels_pred)"
   ]
  },
  {
   "cell_type": "code",
   "execution_count": null,
   "id": "racial-theory",
   "metadata": {},
   "outputs": [],
   "source": [
    "metrics.v_measure_score(labels_true_cvt, labels_pred)"
   ]
  }
 ],
 "metadata": {
  "kernelspec": {
   "display_name": "Python 3",
   "language": "python",
   "name": "python3"
  },
  "language_info": {
   "codemirror_mode": {
    "name": "ipython",
    "version": 3
   },
   "file_extension": ".py",
   "mimetype": "text/x-python",
   "name": "python",
   "nbconvert_exporter": "python",
   "pygments_lexer": "ipython3",
   "version": "3.7.9"
  }
 },
 "nbformat": 4,
 "nbformat_minor": 5
}
